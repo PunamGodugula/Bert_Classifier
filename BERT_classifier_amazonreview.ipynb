{
  "nbformat": 4,
  "nbformat_minor": 0,
  "metadata": {
    "kernelspec": {
      "display_name": "Python 3",
      "language": "python",
      "name": "python3"
    },
    "language_info": {
      "codemirror_mode": {
        "name": "ipython",
        "version": 3
      },
      "file_extension": ".py",
      "mimetype": "text/x-python",
      "name": "python",
      "nbconvert_exporter": "python",
      "pygments_lexer": "ipython3",
      "version": "3.6.9"
    },
    "colab": {
      "provenance": []
    },
    "accelerator": "GPU",
    "gpuClass": "standard",
    "widgets": {
      "application/vnd.jupyter.widget-state+json": {
        "5cc7438b179f462d8503d6df6a3aecd0": {
          "model_module": "@jupyter-widgets/controls",
          "model_name": "HBoxModel",
          "model_module_version": "1.5.0",
          "state": {
            "_dom_classes": [],
            "_model_module": "@jupyter-widgets/controls",
            "_model_module_version": "1.5.0",
            "_model_name": "HBoxModel",
            "_view_count": null,
            "_view_module": "@jupyter-widgets/controls",
            "_view_module_version": "1.5.0",
            "_view_name": "HBoxView",
            "box_style": "",
            "children": [
              "IPY_MODEL_d605f74a757e40ceaa29b74f3f48fe2d",
              "IPY_MODEL_4c481c70f69b49368baaefce332b4e87",
              "IPY_MODEL_06c135125e52408ba61dea44e6df5dba"
            ],
            "layout": "IPY_MODEL_e787c1fecb7943e8ae9a05f260308a21"
          }
        },
        "d605f74a757e40ceaa29b74f3f48fe2d": {
          "model_module": "@jupyter-widgets/controls",
          "model_name": "HTMLModel",
          "model_module_version": "1.5.0",
          "state": {
            "_dom_classes": [],
            "_model_module": "@jupyter-widgets/controls",
            "_model_module_version": "1.5.0",
            "_model_name": "HTMLModel",
            "_view_count": null,
            "_view_module": "@jupyter-widgets/controls",
            "_view_module_version": "1.5.0",
            "_view_name": "HTMLView",
            "description": "",
            "description_tooltip": null,
            "layout": "IPY_MODEL_01ae70712e76479c9dad5a9c2e939a86",
            "placeholder": "​",
            "style": "IPY_MODEL_e7446731a58d4b6ca84ec198a53f3ecf",
            "value": "100%"
          }
        },
        "4c481c70f69b49368baaefce332b4e87": {
          "model_module": "@jupyter-widgets/controls",
          "model_name": "FloatProgressModel",
          "model_module_version": "1.5.0",
          "state": {
            "_dom_classes": [],
            "_model_module": "@jupyter-widgets/controls",
            "_model_module_version": "1.5.0",
            "_model_name": "FloatProgressModel",
            "_view_count": null,
            "_view_module": "@jupyter-widgets/controls",
            "_view_module_version": "1.5.0",
            "_view_name": "ProgressView",
            "bar_style": "success",
            "description": "",
            "description_tooltip": null,
            "layout": "IPY_MODEL_c968cc0831e544378be2a5cfab78adf2",
            "max": 80000,
            "min": 0,
            "orientation": "horizontal",
            "style": "IPY_MODEL_d0afbacc462647a094f4ef7aa64dd13a",
            "value": 80000
          }
        },
        "06c135125e52408ba61dea44e6df5dba": {
          "model_module": "@jupyter-widgets/controls",
          "model_name": "HTMLModel",
          "model_module_version": "1.5.0",
          "state": {
            "_dom_classes": [],
            "_model_module": "@jupyter-widgets/controls",
            "_model_module_version": "1.5.0",
            "_model_name": "HTMLModel",
            "_view_count": null,
            "_view_module": "@jupyter-widgets/controls",
            "_view_module_version": "1.5.0",
            "_view_name": "HTMLView",
            "description": "",
            "description_tooltip": null,
            "layout": "IPY_MODEL_552559c9df7444d3b9fa856669346b7e",
            "placeholder": "​",
            "style": "IPY_MODEL_fed74abc5fdb423b8975a4ecc7414c64",
            "value": " 80000/80000 [00:54&lt;00:00, 1760.08it/s]"
          }
        },
        "e787c1fecb7943e8ae9a05f260308a21": {
          "model_module": "@jupyter-widgets/base",
          "model_name": "LayoutModel",
          "model_module_version": "1.2.0",
          "state": {
            "_model_module": "@jupyter-widgets/base",
            "_model_module_version": "1.2.0",
            "_model_name": "LayoutModel",
            "_view_count": null,
            "_view_module": "@jupyter-widgets/base",
            "_view_module_version": "1.2.0",
            "_view_name": "LayoutView",
            "align_content": null,
            "align_items": null,
            "align_self": null,
            "border": null,
            "bottom": null,
            "display": null,
            "flex": null,
            "flex_flow": null,
            "grid_area": null,
            "grid_auto_columns": null,
            "grid_auto_flow": null,
            "grid_auto_rows": null,
            "grid_column": null,
            "grid_gap": null,
            "grid_row": null,
            "grid_template_areas": null,
            "grid_template_columns": null,
            "grid_template_rows": null,
            "height": null,
            "justify_content": null,
            "justify_items": null,
            "left": null,
            "margin": null,
            "max_height": null,
            "max_width": null,
            "min_height": null,
            "min_width": null,
            "object_fit": null,
            "object_position": null,
            "order": null,
            "overflow": null,
            "overflow_x": null,
            "overflow_y": null,
            "padding": null,
            "right": null,
            "top": null,
            "visibility": null,
            "width": null
          }
        },
        "01ae70712e76479c9dad5a9c2e939a86": {
          "model_module": "@jupyter-widgets/base",
          "model_name": "LayoutModel",
          "model_module_version": "1.2.0",
          "state": {
            "_model_module": "@jupyter-widgets/base",
            "_model_module_version": "1.2.0",
            "_model_name": "LayoutModel",
            "_view_count": null,
            "_view_module": "@jupyter-widgets/base",
            "_view_module_version": "1.2.0",
            "_view_name": "LayoutView",
            "align_content": null,
            "align_items": null,
            "align_self": null,
            "border": null,
            "bottom": null,
            "display": null,
            "flex": null,
            "flex_flow": null,
            "grid_area": null,
            "grid_auto_columns": null,
            "grid_auto_flow": null,
            "grid_auto_rows": null,
            "grid_column": null,
            "grid_gap": null,
            "grid_row": null,
            "grid_template_areas": null,
            "grid_template_columns": null,
            "grid_template_rows": null,
            "height": null,
            "justify_content": null,
            "justify_items": null,
            "left": null,
            "margin": null,
            "max_height": null,
            "max_width": null,
            "min_height": null,
            "min_width": null,
            "object_fit": null,
            "object_position": null,
            "order": null,
            "overflow": null,
            "overflow_x": null,
            "overflow_y": null,
            "padding": null,
            "right": null,
            "top": null,
            "visibility": null,
            "width": null
          }
        },
        "e7446731a58d4b6ca84ec198a53f3ecf": {
          "model_module": "@jupyter-widgets/controls",
          "model_name": "DescriptionStyleModel",
          "model_module_version": "1.5.0",
          "state": {
            "_model_module": "@jupyter-widgets/controls",
            "_model_module_version": "1.5.0",
            "_model_name": "DescriptionStyleModel",
            "_view_count": null,
            "_view_module": "@jupyter-widgets/base",
            "_view_module_version": "1.2.0",
            "_view_name": "StyleView",
            "description_width": ""
          }
        },
        "c968cc0831e544378be2a5cfab78adf2": {
          "model_module": "@jupyter-widgets/base",
          "model_name": "LayoutModel",
          "model_module_version": "1.2.0",
          "state": {
            "_model_module": "@jupyter-widgets/base",
            "_model_module_version": "1.2.0",
            "_model_name": "LayoutModel",
            "_view_count": null,
            "_view_module": "@jupyter-widgets/base",
            "_view_module_version": "1.2.0",
            "_view_name": "LayoutView",
            "align_content": null,
            "align_items": null,
            "align_self": null,
            "border": null,
            "bottom": null,
            "display": null,
            "flex": null,
            "flex_flow": null,
            "grid_area": null,
            "grid_auto_columns": null,
            "grid_auto_flow": null,
            "grid_auto_rows": null,
            "grid_column": null,
            "grid_gap": null,
            "grid_row": null,
            "grid_template_areas": null,
            "grid_template_columns": null,
            "grid_template_rows": null,
            "height": null,
            "justify_content": null,
            "justify_items": null,
            "left": null,
            "margin": null,
            "max_height": null,
            "max_width": null,
            "min_height": null,
            "min_width": null,
            "object_fit": null,
            "object_position": null,
            "order": null,
            "overflow": null,
            "overflow_x": null,
            "overflow_y": null,
            "padding": null,
            "right": null,
            "top": null,
            "visibility": null,
            "width": null
          }
        },
        "d0afbacc462647a094f4ef7aa64dd13a": {
          "model_module": "@jupyter-widgets/controls",
          "model_name": "ProgressStyleModel",
          "model_module_version": "1.5.0",
          "state": {
            "_model_module": "@jupyter-widgets/controls",
            "_model_module_version": "1.5.0",
            "_model_name": "ProgressStyleModel",
            "_view_count": null,
            "_view_module": "@jupyter-widgets/base",
            "_view_module_version": "1.2.0",
            "_view_name": "StyleView",
            "bar_color": null,
            "description_width": ""
          }
        },
        "552559c9df7444d3b9fa856669346b7e": {
          "model_module": "@jupyter-widgets/base",
          "model_name": "LayoutModel",
          "model_module_version": "1.2.0",
          "state": {
            "_model_module": "@jupyter-widgets/base",
            "_model_module_version": "1.2.0",
            "_model_name": "LayoutModel",
            "_view_count": null,
            "_view_module": "@jupyter-widgets/base",
            "_view_module_version": "1.2.0",
            "_view_name": "LayoutView",
            "align_content": null,
            "align_items": null,
            "align_self": null,
            "border": null,
            "bottom": null,
            "display": null,
            "flex": null,
            "flex_flow": null,
            "grid_area": null,
            "grid_auto_columns": null,
            "grid_auto_flow": null,
            "grid_auto_rows": null,
            "grid_column": null,
            "grid_gap": null,
            "grid_row": null,
            "grid_template_areas": null,
            "grid_template_columns": null,
            "grid_template_rows": null,
            "height": null,
            "justify_content": null,
            "justify_items": null,
            "left": null,
            "margin": null,
            "max_height": null,
            "max_width": null,
            "min_height": null,
            "min_width": null,
            "object_fit": null,
            "object_position": null,
            "order": null,
            "overflow": null,
            "overflow_x": null,
            "overflow_y": null,
            "padding": null,
            "right": null,
            "top": null,
            "visibility": null,
            "width": null
          }
        },
        "fed74abc5fdb423b8975a4ecc7414c64": {
          "model_module": "@jupyter-widgets/controls",
          "model_name": "DescriptionStyleModel",
          "model_module_version": "1.5.0",
          "state": {
            "_model_module": "@jupyter-widgets/controls",
            "_model_module_version": "1.5.0",
            "_model_name": "DescriptionStyleModel",
            "_view_count": null,
            "_view_module": "@jupyter-widgets/base",
            "_view_module_version": "1.2.0",
            "_view_name": "StyleView",
            "description_width": ""
          }
        },
        "08d762bcd45c4c38af3dac886e1cef3f": {
          "model_module": "@jupyter-widgets/controls",
          "model_name": "HBoxModel",
          "model_module_version": "1.5.0",
          "state": {
            "_dom_classes": [],
            "_model_module": "@jupyter-widgets/controls",
            "_model_module_version": "1.5.0",
            "_model_name": "HBoxModel",
            "_view_count": null,
            "_view_module": "@jupyter-widgets/controls",
            "_view_module_version": "1.5.0",
            "_view_name": "HBoxView",
            "box_style": "",
            "children": [
              "IPY_MODEL_a1b486993a4b49e0a71a2a357df60cc5",
              "IPY_MODEL_bc151d5e4c484afcb9037d45fa7f4e51",
              "IPY_MODEL_01cd665a8fc748f3a3392ff8267616ab"
            ],
            "layout": "IPY_MODEL_0b63bcd00c89431eb2f91c0202492e42"
          }
        },
        "a1b486993a4b49e0a71a2a357df60cc5": {
          "model_module": "@jupyter-widgets/controls",
          "model_name": "HTMLModel",
          "model_module_version": "1.5.0",
          "state": {
            "_dom_classes": [],
            "_model_module": "@jupyter-widgets/controls",
            "_model_module_version": "1.5.0",
            "_model_name": "HTMLModel",
            "_view_count": null,
            "_view_module": "@jupyter-widgets/controls",
            "_view_module_version": "1.5.0",
            "_view_name": "HTMLView",
            "description": "",
            "description_tooltip": null,
            "layout": "IPY_MODEL_d64087e3494048e880bc999c2b68d2cb",
            "placeholder": "​",
            "style": "IPY_MODEL_d39615e0f79a4760b3d0b152aa00238a",
            "value": "100%"
          }
        },
        "bc151d5e4c484afcb9037d45fa7f4e51": {
          "model_module": "@jupyter-widgets/controls",
          "model_name": "FloatProgressModel",
          "model_module_version": "1.5.0",
          "state": {
            "_dom_classes": [],
            "_model_module": "@jupyter-widgets/controls",
            "_model_module_version": "1.5.0",
            "_model_name": "FloatProgressModel",
            "_view_count": null,
            "_view_module": "@jupyter-widgets/controls",
            "_view_module_version": "1.5.0",
            "_view_name": "ProgressView",
            "bar_style": "success",
            "description": "",
            "description_tooltip": null,
            "layout": "IPY_MODEL_bc84d9f6e28840a9bc78c3080e05a1c9",
            "max": 20000,
            "min": 0,
            "orientation": "horizontal",
            "style": "IPY_MODEL_8e815d33e0b24ac387913dff18b8a944",
            "value": 20000
          }
        },
        "01cd665a8fc748f3a3392ff8267616ab": {
          "model_module": "@jupyter-widgets/controls",
          "model_name": "HTMLModel",
          "model_module_version": "1.5.0",
          "state": {
            "_dom_classes": [],
            "_model_module": "@jupyter-widgets/controls",
            "_model_module_version": "1.5.0",
            "_model_name": "HTMLModel",
            "_view_count": null,
            "_view_module": "@jupyter-widgets/controls",
            "_view_module_version": "1.5.0",
            "_view_name": "HTMLView",
            "description": "",
            "description_tooltip": null,
            "layout": "IPY_MODEL_f4ab1c0cd97a48c6a8e3f5cc10dbf4d0",
            "placeholder": "​",
            "style": "IPY_MODEL_5c5d6872f9cc41cdbb408981b8d0cbe7",
            "value": " 20000/20000 [00:11&lt;00:00, 1716.65it/s]"
          }
        },
        "0b63bcd00c89431eb2f91c0202492e42": {
          "model_module": "@jupyter-widgets/base",
          "model_name": "LayoutModel",
          "model_module_version": "1.2.0",
          "state": {
            "_model_module": "@jupyter-widgets/base",
            "_model_module_version": "1.2.0",
            "_model_name": "LayoutModel",
            "_view_count": null,
            "_view_module": "@jupyter-widgets/base",
            "_view_module_version": "1.2.0",
            "_view_name": "LayoutView",
            "align_content": null,
            "align_items": null,
            "align_self": null,
            "border": null,
            "bottom": null,
            "display": null,
            "flex": null,
            "flex_flow": null,
            "grid_area": null,
            "grid_auto_columns": null,
            "grid_auto_flow": null,
            "grid_auto_rows": null,
            "grid_column": null,
            "grid_gap": null,
            "grid_row": null,
            "grid_template_areas": null,
            "grid_template_columns": null,
            "grid_template_rows": null,
            "height": null,
            "justify_content": null,
            "justify_items": null,
            "left": null,
            "margin": null,
            "max_height": null,
            "max_width": null,
            "min_height": null,
            "min_width": null,
            "object_fit": null,
            "object_position": null,
            "order": null,
            "overflow": null,
            "overflow_x": null,
            "overflow_y": null,
            "padding": null,
            "right": null,
            "top": null,
            "visibility": null,
            "width": null
          }
        },
        "d64087e3494048e880bc999c2b68d2cb": {
          "model_module": "@jupyter-widgets/base",
          "model_name": "LayoutModel",
          "model_module_version": "1.2.0",
          "state": {
            "_model_module": "@jupyter-widgets/base",
            "_model_module_version": "1.2.0",
            "_model_name": "LayoutModel",
            "_view_count": null,
            "_view_module": "@jupyter-widgets/base",
            "_view_module_version": "1.2.0",
            "_view_name": "LayoutView",
            "align_content": null,
            "align_items": null,
            "align_self": null,
            "border": null,
            "bottom": null,
            "display": null,
            "flex": null,
            "flex_flow": null,
            "grid_area": null,
            "grid_auto_columns": null,
            "grid_auto_flow": null,
            "grid_auto_rows": null,
            "grid_column": null,
            "grid_gap": null,
            "grid_row": null,
            "grid_template_areas": null,
            "grid_template_columns": null,
            "grid_template_rows": null,
            "height": null,
            "justify_content": null,
            "justify_items": null,
            "left": null,
            "margin": null,
            "max_height": null,
            "max_width": null,
            "min_height": null,
            "min_width": null,
            "object_fit": null,
            "object_position": null,
            "order": null,
            "overflow": null,
            "overflow_x": null,
            "overflow_y": null,
            "padding": null,
            "right": null,
            "top": null,
            "visibility": null,
            "width": null
          }
        },
        "d39615e0f79a4760b3d0b152aa00238a": {
          "model_module": "@jupyter-widgets/controls",
          "model_name": "DescriptionStyleModel",
          "model_module_version": "1.5.0",
          "state": {
            "_model_module": "@jupyter-widgets/controls",
            "_model_module_version": "1.5.0",
            "_model_name": "DescriptionStyleModel",
            "_view_count": null,
            "_view_module": "@jupyter-widgets/base",
            "_view_module_version": "1.2.0",
            "_view_name": "StyleView",
            "description_width": ""
          }
        },
        "bc84d9f6e28840a9bc78c3080e05a1c9": {
          "model_module": "@jupyter-widgets/base",
          "model_name": "LayoutModel",
          "model_module_version": "1.2.0",
          "state": {
            "_model_module": "@jupyter-widgets/base",
            "_model_module_version": "1.2.0",
            "_model_name": "LayoutModel",
            "_view_count": null,
            "_view_module": "@jupyter-widgets/base",
            "_view_module_version": "1.2.0",
            "_view_name": "LayoutView",
            "align_content": null,
            "align_items": null,
            "align_self": null,
            "border": null,
            "bottom": null,
            "display": null,
            "flex": null,
            "flex_flow": null,
            "grid_area": null,
            "grid_auto_columns": null,
            "grid_auto_flow": null,
            "grid_auto_rows": null,
            "grid_column": null,
            "grid_gap": null,
            "grid_row": null,
            "grid_template_areas": null,
            "grid_template_columns": null,
            "grid_template_rows": null,
            "height": null,
            "justify_content": null,
            "justify_items": null,
            "left": null,
            "margin": null,
            "max_height": null,
            "max_width": null,
            "min_height": null,
            "min_width": null,
            "object_fit": null,
            "object_position": null,
            "order": null,
            "overflow": null,
            "overflow_x": null,
            "overflow_y": null,
            "padding": null,
            "right": null,
            "top": null,
            "visibility": null,
            "width": null
          }
        },
        "8e815d33e0b24ac387913dff18b8a944": {
          "model_module": "@jupyter-widgets/controls",
          "model_name": "ProgressStyleModel",
          "model_module_version": "1.5.0",
          "state": {
            "_model_module": "@jupyter-widgets/controls",
            "_model_module_version": "1.5.0",
            "_model_name": "ProgressStyleModel",
            "_view_count": null,
            "_view_module": "@jupyter-widgets/base",
            "_view_module_version": "1.2.0",
            "_view_name": "StyleView",
            "bar_color": null,
            "description_width": ""
          }
        },
        "f4ab1c0cd97a48c6a8e3f5cc10dbf4d0": {
          "model_module": "@jupyter-widgets/base",
          "model_name": "LayoutModel",
          "model_module_version": "1.2.0",
          "state": {
            "_model_module": "@jupyter-widgets/base",
            "_model_module_version": "1.2.0",
            "_model_name": "LayoutModel",
            "_view_count": null,
            "_view_module": "@jupyter-widgets/base",
            "_view_module_version": "1.2.0",
            "_view_name": "LayoutView",
            "align_content": null,
            "align_items": null,
            "align_self": null,
            "border": null,
            "bottom": null,
            "display": null,
            "flex": null,
            "flex_flow": null,
            "grid_area": null,
            "grid_auto_columns": null,
            "grid_auto_flow": null,
            "grid_auto_rows": null,
            "grid_column": null,
            "grid_gap": null,
            "grid_row": null,
            "grid_template_areas": null,
            "grid_template_columns": null,
            "grid_template_rows": null,
            "height": null,
            "justify_content": null,
            "justify_items": null,
            "left": null,
            "margin": null,
            "max_height": null,
            "max_width": null,
            "min_height": null,
            "min_width": null,
            "object_fit": null,
            "object_position": null,
            "order": null,
            "overflow": null,
            "overflow_x": null,
            "overflow_y": null,
            "padding": null,
            "right": null,
            "top": null,
            "visibility": null,
            "width": null
          }
        },
        "5c5d6872f9cc41cdbb408981b8d0cbe7": {
          "model_module": "@jupyter-widgets/controls",
          "model_name": "DescriptionStyleModel",
          "model_module_version": "1.5.0",
          "state": {
            "_model_module": "@jupyter-widgets/controls",
            "_model_module_version": "1.5.0",
            "_model_name": "DescriptionStyleModel",
            "_view_count": null,
            "_view_module": "@jupyter-widgets/base",
            "_view_module_version": "1.2.0",
            "_view_name": "StyleView",
            "description_width": ""
          }
        },
        "0b5bfa5aa8854e47956dd741fde5dafd": {
          "model_module": "@jupyter-widgets/controls",
          "model_name": "HBoxModel",
          "model_module_version": "1.5.0",
          "state": {
            "_dom_classes": [],
            "_model_module": "@jupyter-widgets/controls",
            "_model_module_version": "1.5.0",
            "_model_name": "HBoxModel",
            "_view_count": null,
            "_view_module": "@jupyter-widgets/controls",
            "_view_module_version": "1.5.0",
            "_view_name": "HBoxView",
            "box_style": "",
            "children": [
              "IPY_MODEL_9594052862eb40c4a6ea430ae7fcc762",
              "IPY_MODEL_800fbb1092814c37b5a854089100d8a9",
              "IPY_MODEL_a9cc7495974e4b5090879a8ca1441f85"
            ],
            "layout": "IPY_MODEL_fe4e3f05214043b988d52bac3ec4ada5"
          }
        },
        "9594052862eb40c4a6ea430ae7fcc762": {
          "model_module": "@jupyter-widgets/controls",
          "model_name": "HTMLModel",
          "model_module_version": "1.5.0",
          "state": {
            "_dom_classes": [],
            "_model_module": "@jupyter-widgets/controls",
            "_model_module_version": "1.5.0",
            "_model_name": "HTMLModel",
            "_view_count": null,
            "_view_module": "@jupyter-widgets/controls",
            "_view_module_version": "1.5.0",
            "_view_name": "HTMLView",
            "description": "",
            "description_tooltip": null,
            "layout": "IPY_MODEL_269ed3febf0a4d2e97363a9acb45d6b4",
            "placeholder": "​",
            "style": "IPY_MODEL_c546972d970141368a8e2add1f8d2636",
            "value": "100%"
          }
        },
        "800fbb1092814c37b5a854089100d8a9": {
          "model_module": "@jupyter-widgets/controls",
          "model_name": "FloatProgressModel",
          "model_module_version": "1.5.0",
          "state": {
            "_dom_classes": [],
            "_model_module": "@jupyter-widgets/controls",
            "_model_module_version": "1.5.0",
            "_model_name": "FloatProgressModel",
            "_view_count": null,
            "_view_module": "@jupyter-widgets/controls",
            "_view_module_version": "1.5.0",
            "_view_name": "ProgressView",
            "bar_style": "success",
            "description": "",
            "description_tooltip": null,
            "layout": "IPY_MODEL_cf419960c5074bf4b63ef88af631eac3",
            "max": 352,
            "min": 0,
            "orientation": "horizontal",
            "style": "IPY_MODEL_1b296dfd2b9f4be38c9de6052d44d350",
            "value": 352
          }
        },
        "a9cc7495974e4b5090879a8ca1441f85": {
          "model_module": "@jupyter-widgets/controls",
          "model_name": "HTMLModel",
          "model_module_version": "1.5.0",
          "state": {
            "_dom_classes": [],
            "_model_module": "@jupyter-widgets/controls",
            "_model_module_version": "1.5.0",
            "_model_name": "HTMLModel",
            "_view_count": null,
            "_view_module": "@jupyter-widgets/controls",
            "_view_module_version": "1.5.0",
            "_view_name": "HTMLView",
            "description": "",
            "description_tooltip": null,
            "layout": "IPY_MODEL_cde329ee827a416abec726cde7a37648",
            "placeholder": "​",
            "style": "IPY_MODEL_ab43a6ce521d497cb924b297f2361624",
            "value": " 352/352 [00:00&lt;00:00, 1477.86it/s]"
          }
        },
        "fe4e3f05214043b988d52bac3ec4ada5": {
          "model_module": "@jupyter-widgets/base",
          "model_name": "LayoutModel",
          "model_module_version": "1.2.0",
          "state": {
            "_model_module": "@jupyter-widgets/base",
            "_model_module_version": "1.2.0",
            "_model_name": "LayoutModel",
            "_view_count": null,
            "_view_module": "@jupyter-widgets/base",
            "_view_module_version": "1.2.0",
            "_view_name": "LayoutView",
            "align_content": null,
            "align_items": null,
            "align_self": null,
            "border": null,
            "bottom": null,
            "display": null,
            "flex": null,
            "flex_flow": null,
            "grid_area": null,
            "grid_auto_columns": null,
            "grid_auto_flow": null,
            "grid_auto_rows": null,
            "grid_column": null,
            "grid_gap": null,
            "grid_row": null,
            "grid_template_areas": null,
            "grid_template_columns": null,
            "grid_template_rows": null,
            "height": null,
            "justify_content": null,
            "justify_items": null,
            "left": null,
            "margin": null,
            "max_height": null,
            "max_width": null,
            "min_height": null,
            "min_width": null,
            "object_fit": null,
            "object_position": null,
            "order": null,
            "overflow": null,
            "overflow_x": null,
            "overflow_y": null,
            "padding": null,
            "right": null,
            "top": null,
            "visibility": null,
            "width": null
          }
        },
        "269ed3febf0a4d2e97363a9acb45d6b4": {
          "model_module": "@jupyter-widgets/base",
          "model_name": "LayoutModel",
          "model_module_version": "1.2.0",
          "state": {
            "_model_module": "@jupyter-widgets/base",
            "_model_module_version": "1.2.0",
            "_model_name": "LayoutModel",
            "_view_count": null,
            "_view_module": "@jupyter-widgets/base",
            "_view_module_version": "1.2.0",
            "_view_name": "LayoutView",
            "align_content": null,
            "align_items": null,
            "align_self": null,
            "border": null,
            "bottom": null,
            "display": null,
            "flex": null,
            "flex_flow": null,
            "grid_area": null,
            "grid_auto_columns": null,
            "grid_auto_flow": null,
            "grid_auto_rows": null,
            "grid_column": null,
            "grid_gap": null,
            "grid_row": null,
            "grid_template_areas": null,
            "grid_template_columns": null,
            "grid_template_rows": null,
            "height": null,
            "justify_content": null,
            "justify_items": null,
            "left": null,
            "margin": null,
            "max_height": null,
            "max_width": null,
            "min_height": null,
            "min_width": null,
            "object_fit": null,
            "object_position": null,
            "order": null,
            "overflow": null,
            "overflow_x": null,
            "overflow_y": null,
            "padding": null,
            "right": null,
            "top": null,
            "visibility": null,
            "width": null
          }
        },
        "c546972d970141368a8e2add1f8d2636": {
          "model_module": "@jupyter-widgets/controls",
          "model_name": "DescriptionStyleModel",
          "model_module_version": "1.5.0",
          "state": {
            "_model_module": "@jupyter-widgets/controls",
            "_model_module_version": "1.5.0",
            "_model_name": "DescriptionStyleModel",
            "_view_count": null,
            "_view_module": "@jupyter-widgets/base",
            "_view_module_version": "1.2.0",
            "_view_name": "StyleView",
            "description_width": ""
          }
        },
        "cf419960c5074bf4b63ef88af631eac3": {
          "model_module": "@jupyter-widgets/base",
          "model_name": "LayoutModel",
          "model_module_version": "1.2.0",
          "state": {
            "_model_module": "@jupyter-widgets/base",
            "_model_module_version": "1.2.0",
            "_model_name": "LayoutModel",
            "_view_count": null,
            "_view_module": "@jupyter-widgets/base",
            "_view_module_version": "1.2.0",
            "_view_name": "LayoutView",
            "align_content": null,
            "align_items": null,
            "align_self": null,
            "border": null,
            "bottom": null,
            "display": null,
            "flex": null,
            "flex_flow": null,
            "grid_area": null,
            "grid_auto_columns": null,
            "grid_auto_flow": null,
            "grid_auto_rows": null,
            "grid_column": null,
            "grid_gap": null,
            "grid_row": null,
            "grid_template_areas": null,
            "grid_template_columns": null,
            "grid_template_rows": null,
            "height": null,
            "justify_content": null,
            "justify_items": null,
            "left": null,
            "margin": null,
            "max_height": null,
            "max_width": null,
            "min_height": null,
            "min_width": null,
            "object_fit": null,
            "object_position": null,
            "order": null,
            "overflow": null,
            "overflow_x": null,
            "overflow_y": null,
            "padding": null,
            "right": null,
            "top": null,
            "visibility": null,
            "width": null
          }
        },
        "1b296dfd2b9f4be38c9de6052d44d350": {
          "model_module": "@jupyter-widgets/controls",
          "model_name": "ProgressStyleModel",
          "model_module_version": "1.5.0",
          "state": {
            "_model_module": "@jupyter-widgets/controls",
            "_model_module_version": "1.5.0",
            "_model_name": "ProgressStyleModel",
            "_view_count": null,
            "_view_module": "@jupyter-widgets/base",
            "_view_module_version": "1.2.0",
            "_view_name": "StyleView",
            "bar_color": null,
            "description_width": ""
          }
        },
        "cde329ee827a416abec726cde7a37648": {
          "model_module": "@jupyter-widgets/base",
          "model_name": "LayoutModel",
          "model_module_version": "1.2.0",
          "state": {
            "_model_module": "@jupyter-widgets/base",
            "_model_module_version": "1.2.0",
            "_model_name": "LayoutModel",
            "_view_count": null,
            "_view_module": "@jupyter-widgets/base",
            "_view_module_version": "1.2.0",
            "_view_name": "LayoutView",
            "align_content": null,
            "align_items": null,
            "align_self": null,
            "border": null,
            "bottom": null,
            "display": null,
            "flex": null,
            "flex_flow": null,
            "grid_area": null,
            "grid_auto_columns": null,
            "grid_auto_flow": null,
            "grid_auto_rows": null,
            "grid_column": null,
            "grid_gap": null,
            "grid_row": null,
            "grid_template_areas": null,
            "grid_template_columns": null,
            "grid_template_rows": null,
            "height": null,
            "justify_content": null,
            "justify_items": null,
            "left": null,
            "margin": null,
            "max_height": null,
            "max_width": null,
            "min_height": null,
            "min_width": null,
            "object_fit": null,
            "object_position": null,
            "order": null,
            "overflow": null,
            "overflow_x": null,
            "overflow_y": null,
            "padding": null,
            "right": null,
            "top": null,
            "visibility": null,
            "width": null
          }
        },
        "ab43a6ce521d497cb924b297f2361624": {
          "model_module": "@jupyter-widgets/controls",
          "model_name": "DescriptionStyleModel",
          "model_module_version": "1.5.0",
          "state": {
            "_model_module": "@jupyter-widgets/controls",
            "_model_module_version": "1.5.0",
            "_model_name": "DescriptionStyleModel",
            "_view_count": null,
            "_view_module": "@jupyter-widgets/base",
            "_view_module_version": "1.2.0",
            "_view_name": "StyleView",
            "description_width": ""
          }
        }
      }
    }
  },
  "cells": [
    {
      "cell_type": "markdown",
      "metadata": {
        "id": "5el_8SqFqVAT"
      },
      "source": [
        "Amazon review classification with BERT.[Download data from [this](https://www.kaggle.com/snap/amazon-fine-food-reviews/data) link]\n",
        "<pre> \n",
        "It contains 5 parts as below:\n",
        "    1. Preprocessing \n",
        "    2. Creating a BERT model from the Tensorflow HUB.\n",
        "    3. Tokenization\n",
        "    4. getting the pretrained embedding Vector for a given review from the BERT.\n",
        "    5. Using the embedding data apply NN and classify the reviews.\n",
        "    6. Creating a Data pipeline for BERT Model. "
      ]
    },
    {
      "cell_type": "code",
      "metadata": {
        "id": "E6JSKPjKwOLP"
      },
      "source": [
        "#in this you need two files reviews.csv and tokenization file"
      ],
      "execution_count": null,
      "outputs": []
    },
    {
      "cell_type": "code",
      "metadata": {
        "colab": {
          "base_uri": "https://localhost:8080/"
        },
        "id": "NUGbEZafwwzX",
        "outputId": "4890996b-e1ba-473d-be0d-22357428eb34"
      },
      "source": [
        "#review file \n",
        "!gdown --id 1GsD8JlAc_0yJ-1151LNr6rLw83RRUPgt\n",
        "\n",
        "#tokenization.py\n",
        "!gdown --id 13exfXiyiByluh1PfYK1EyZyizqxeCVG9"
      ],
      "execution_count": null,
      "outputs": [
        {
          "output_type": "stream",
          "name": "stdout",
          "text": [
            "/usr/local/lib/python3.7/dist-packages/gdown/cli.py:131: FutureWarning: Option `--id` was deprecated in version 4.3.1 and will be removed in 5.0. You don't need to pass it anymore to use a file ID.\n",
            "  category=FutureWarning,\n",
            "Downloading...\n",
            "From: https://drive.google.com/uc?id=1GsD8JlAc_0yJ-1151LNr6rLw83RRUPgt\n",
            "To: /content/Reviews.csv\n",
            "100% 301M/301M [00:04<00:00, 72.6MB/s]\n",
            "/usr/local/lib/python3.7/dist-packages/gdown/cli.py:131: FutureWarning: Option `--id` was deprecated in version 4.3.1 and will be removed in 5.0. You don't need to pass it anymore to use a file ID.\n",
            "  category=FutureWarning,\n",
            "Downloading...\n",
            "From: https://drive.google.com/uc?id=13exfXiyiByluh1PfYK1EyZyizqxeCVG9\n",
            "To: /content/tokenization.py\n",
            "100% 17.3k/17.3k [00:00<00:00, 21.5MB/s]\n"
          ]
        }
      ]
    },
    {
      "cell_type": "code",
      "metadata": {
        "id": "wOtG4cf0qVAZ"
      },
      "source": [
        "#all imports\n",
        "import numpy as np\n",
        "import pandas as pd\n",
        "import tensorflow as tf\n",
        "import tensorflow_hub as hub\n",
        "from tensorflow.keras.models import Model\n",
        "\n",
        "import re\n",
        "from sklearn.model_selection import train_test_split\n",
        "import matplotlib.pyplot as plt\n",
        "import seaborn as sns\n",
        "\n",
        "from tqdm.notebook import tqdm\n"
      ],
      "execution_count": null,
      "outputs": []
    },
    {
      "cell_type": "code",
      "metadata": {
        "id": "OcmiHdAJqVAi",
        "colab": {
          "base_uri": "https://localhost:8080/",
          "height": 35
        },
        "outputId": "e4a4b34b-2e79-422c-8705-f06fc10cef9b"
      },
      "source": [
        "tf.test.gpu_device_name() #testing for availability of GPU"
      ],
      "execution_count": null,
      "outputs": [
        {
          "output_type": "execute_result",
          "data": {
            "text/plain": [
              "'/device:GPU:0'"
            ],
            "application/vnd.google.colaboratory.intrinsic+json": {
              "type": "string"
            }
          },
          "metadata": {},
          "execution_count": 4
        }
      ]
    },
    {
      "cell_type": "markdown",
      "metadata": {
        "id": "LBsay58AqVAo"
      },
      "source": [
        "<font size=4>Grader function 1 </font>"
      ]
    },
    {
      "cell_type": "code",
      "metadata": {
        "id": "aTBvOKFeqVAq",
        "colab": {
          "base_uri": "https://localhost:8080/"
        },
        "outputId": "927dc2b7-0d2f-450a-d3a2-b342867a7f0b"
      },
      "source": [
        "def grader_tf_version():\n",
        "    assert((tf.__version__)>'2')\n",
        "    return True\n",
        "grader_tf_version()"
      ],
      "execution_count": null,
      "outputs": [
        {
          "output_type": "execute_result",
          "data": {
            "text/plain": [
              "True"
            ]
          },
          "metadata": {},
          "execution_count": 5
        }
      ]
    },
    {
      "cell_type": "markdown",
      "metadata": {
        "id": "ZTWRqbrBqVAu"
      },
      "source": [
        "<pre><font size=6>Part-1: Preprocessing</font></pre>"
      ]
    },
    {
      "cell_type": "code",
      "metadata": {
        "id": "B3csZKDrqVAv",
        "colab": {
          "base_uri": "https://localhost:8080/"
        },
        "outputId": "9fcff365-d12f-4b6f-c62c-1d517d4e8e68"
      },
      "source": [
        "#Read the dataset - Amazon fine food reviews\n",
        "reviews = pd.read_csv(r\"Reviews.csv\")\n",
        "#check the info of the dataset\n",
        "reviews.info()"
      ],
      "execution_count": null,
      "outputs": [
        {
          "output_type": "stream",
          "name": "stdout",
          "text": [
            "<class 'pandas.core.frame.DataFrame'>\n",
            "RangeIndex: 568454 entries, 0 to 568453\n",
            "Data columns (total 10 columns):\n",
            " #   Column                  Non-Null Count   Dtype \n",
            "---  ------                  --------------   ----- \n",
            " 0   Id                      568454 non-null  int64 \n",
            " 1   ProductId               568454 non-null  object\n",
            " 2   UserId                  568454 non-null  object\n",
            " 3   ProfileName             568438 non-null  object\n",
            " 4   HelpfulnessNumerator    568454 non-null  int64 \n",
            " 5   HelpfulnessDenominator  568454 non-null  int64 \n",
            " 6   Score                   568454 non-null  int64 \n",
            " 7   Time                    568454 non-null  int64 \n",
            " 8   Summary                 568427 non-null  object\n",
            " 9   Text                    568454 non-null  object\n",
            "dtypes: int64(5), object(5)\n",
            "memory usage: 43.4+ MB\n"
          ]
        }
      ]
    },
    {
      "cell_type": "code",
      "source": [
        "reviews.tail()"
      ],
      "metadata": {
        "colab": {
          "base_uri": "https://localhost:8080/",
          "height": 600
        },
        "id": "J40WRcrVYEQP",
        "outputId": "861ee4e7-b5d2-445f-aad8-6e767e607180"
      },
      "execution_count": null,
      "outputs": [
        {
          "output_type": "execute_result",
          "data": {
            "text/plain": [
              "            Id   ProductId          UserId              ProfileName  \\\n",
              "568449  568450  B001EO7N10  A28KG5XORO54AY         Lettie D. Carter   \n",
              "568450  568451  B003S1WTCU  A3I8AFVPEE8KI5                R. Sawyer   \n",
              "568451  568452  B004I613EE  A121AA1GQV751Z            pksd \"pk_007\"   \n",
              "568452  568453  B004I613EE   A3IBEVCTXKNOH  Kathy A. Welch \"katwel\"   \n",
              "568453  568454  B001LR2CU2  A3LGQPJCZVL9UC                 srfell17   \n",
              "\n",
              "        HelpfulnessNumerator  HelpfulnessDenominator  Score        Time  \\\n",
              "568449                     0                       0      5  1299628800   \n",
              "568450                     0                       0      2  1331251200   \n",
              "568451                     2                       2      5  1329782400   \n",
              "568452                     1                       1      5  1331596800   \n",
              "568453                     0                       0      5  1338422400   \n",
              "\n",
              "                                   Summary  \\\n",
              "568449                 Will not do without   \n",
              "568450                        disappointed   \n",
              "568451            Perfect for our maltipoo   \n",
              "568452  Favorite Training and reward treat   \n",
              "568453                         Great Honey   \n",
              "\n",
              "                                                     Text  \n",
              "568449  Great for sesame chicken..this is a good if no...  \n",
              "568450  I'm disappointed with the flavor. The chocolat...  \n",
              "568451  These stars are small, so you can give 10-15 o...  \n",
              "568452  These are the BEST treats for training and rew...  \n",
              "568453  I am very satisfied ,product is as advertised,...  "
            ],
            "text/html": [
              "\n",
              "  <div id=\"df-13a9502f-3b97-4053-af03-08a65d67c8e1\">\n",
              "    <div class=\"colab-df-container\">\n",
              "      <div>\n",
              "<style scoped>\n",
              "    .dataframe tbody tr th:only-of-type {\n",
              "        vertical-align: middle;\n",
              "    }\n",
              "\n",
              "    .dataframe tbody tr th {\n",
              "        vertical-align: top;\n",
              "    }\n",
              "\n",
              "    .dataframe thead th {\n",
              "        text-align: right;\n",
              "    }\n",
              "</style>\n",
              "<table border=\"1\" class=\"dataframe\">\n",
              "  <thead>\n",
              "    <tr style=\"text-align: right;\">\n",
              "      <th></th>\n",
              "      <th>Id</th>\n",
              "      <th>ProductId</th>\n",
              "      <th>UserId</th>\n",
              "      <th>ProfileName</th>\n",
              "      <th>HelpfulnessNumerator</th>\n",
              "      <th>HelpfulnessDenominator</th>\n",
              "      <th>Score</th>\n",
              "      <th>Time</th>\n",
              "      <th>Summary</th>\n",
              "      <th>Text</th>\n",
              "    </tr>\n",
              "  </thead>\n",
              "  <tbody>\n",
              "    <tr>\n",
              "      <th>568449</th>\n",
              "      <td>568450</td>\n",
              "      <td>B001EO7N10</td>\n",
              "      <td>A28KG5XORO54AY</td>\n",
              "      <td>Lettie D. Carter</td>\n",
              "      <td>0</td>\n",
              "      <td>0</td>\n",
              "      <td>5</td>\n",
              "      <td>1299628800</td>\n",
              "      <td>Will not do without</td>\n",
              "      <td>Great for sesame chicken..this is a good if no...</td>\n",
              "    </tr>\n",
              "    <tr>\n",
              "      <th>568450</th>\n",
              "      <td>568451</td>\n",
              "      <td>B003S1WTCU</td>\n",
              "      <td>A3I8AFVPEE8KI5</td>\n",
              "      <td>R. Sawyer</td>\n",
              "      <td>0</td>\n",
              "      <td>0</td>\n",
              "      <td>2</td>\n",
              "      <td>1331251200</td>\n",
              "      <td>disappointed</td>\n",
              "      <td>I'm disappointed with the flavor. The chocolat...</td>\n",
              "    </tr>\n",
              "    <tr>\n",
              "      <th>568451</th>\n",
              "      <td>568452</td>\n",
              "      <td>B004I613EE</td>\n",
              "      <td>A121AA1GQV751Z</td>\n",
              "      <td>pksd \"pk_007\"</td>\n",
              "      <td>2</td>\n",
              "      <td>2</td>\n",
              "      <td>5</td>\n",
              "      <td>1329782400</td>\n",
              "      <td>Perfect for our maltipoo</td>\n",
              "      <td>These stars are small, so you can give 10-15 o...</td>\n",
              "    </tr>\n",
              "    <tr>\n",
              "      <th>568452</th>\n",
              "      <td>568453</td>\n",
              "      <td>B004I613EE</td>\n",
              "      <td>A3IBEVCTXKNOH</td>\n",
              "      <td>Kathy A. Welch \"katwel\"</td>\n",
              "      <td>1</td>\n",
              "      <td>1</td>\n",
              "      <td>5</td>\n",
              "      <td>1331596800</td>\n",
              "      <td>Favorite Training and reward treat</td>\n",
              "      <td>These are the BEST treats for training and rew...</td>\n",
              "    </tr>\n",
              "    <tr>\n",
              "      <th>568453</th>\n",
              "      <td>568454</td>\n",
              "      <td>B001LR2CU2</td>\n",
              "      <td>A3LGQPJCZVL9UC</td>\n",
              "      <td>srfell17</td>\n",
              "      <td>0</td>\n",
              "      <td>0</td>\n",
              "      <td>5</td>\n",
              "      <td>1338422400</td>\n",
              "      <td>Great Honey</td>\n",
              "      <td>I am very satisfied ,product is as advertised,...</td>\n",
              "    </tr>\n",
              "  </tbody>\n",
              "</table>\n",
              "</div>\n",
              "      <button class=\"colab-df-convert\" onclick=\"convertToInteractive('df-13a9502f-3b97-4053-af03-08a65d67c8e1')\"\n",
              "              title=\"Convert this dataframe to an interactive table.\"\n",
              "              style=\"display:none;\">\n",
              "        \n",
              "  <svg xmlns=\"http://www.w3.org/2000/svg\" height=\"24px\"viewBox=\"0 0 24 24\"\n",
              "       width=\"24px\">\n",
              "    <path d=\"M0 0h24v24H0V0z\" fill=\"none\"/>\n",
              "    <path d=\"M18.56 5.44l.94 2.06.94-2.06 2.06-.94-2.06-.94-.94-2.06-.94 2.06-2.06.94zm-11 1L8.5 8.5l.94-2.06 2.06-.94-2.06-.94L8.5 2.5l-.94 2.06-2.06.94zm10 10l.94 2.06.94-2.06 2.06-.94-2.06-.94-.94-2.06-.94 2.06-2.06.94z\"/><path d=\"M17.41 7.96l-1.37-1.37c-.4-.4-.92-.59-1.43-.59-.52 0-1.04.2-1.43.59L10.3 9.45l-7.72 7.72c-.78.78-.78 2.05 0 2.83L4 21.41c.39.39.9.59 1.41.59.51 0 1.02-.2 1.41-.59l7.78-7.78 2.81-2.81c.8-.78.8-2.07 0-2.86zM5.41 20L4 18.59l7.72-7.72 1.47 1.35L5.41 20z\"/>\n",
              "  </svg>\n",
              "      </button>\n",
              "      \n",
              "  <style>\n",
              "    .colab-df-container {\n",
              "      display:flex;\n",
              "      flex-wrap:wrap;\n",
              "      gap: 12px;\n",
              "    }\n",
              "\n",
              "    .colab-df-convert {\n",
              "      background-color: #E8F0FE;\n",
              "      border: none;\n",
              "      border-radius: 50%;\n",
              "      cursor: pointer;\n",
              "      display: none;\n",
              "      fill: #1967D2;\n",
              "      height: 32px;\n",
              "      padding: 0 0 0 0;\n",
              "      width: 32px;\n",
              "    }\n",
              "\n",
              "    .colab-df-convert:hover {\n",
              "      background-color: #E2EBFA;\n",
              "      box-shadow: 0px 1px 2px rgba(60, 64, 67, 0.3), 0px 1px 3px 1px rgba(60, 64, 67, 0.15);\n",
              "      fill: #174EA6;\n",
              "    }\n",
              "\n",
              "    [theme=dark] .colab-df-convert {\n",
              "      background-color: #3B4455;\n",
              "      fill: #D2E3FC;\n",
              "    }\n",
              "\n",
              "    [theme=dark] .colab-df-convert:hover {\n",
              "      background-color: #434B5C;\n",
              "      box-shadow: 0px 1px 3px 1px rgba(0, 0, 0, 0.15);\n",
              "      filter: drop-shadow(0px 1px 2px rgba(0, 0, 0, 0.3));\n",
              "      fill: #FFFFFF;\n",
              "    }\n",
              "  </style>\n",
              "\n",
              "      <script>\n",
              "        const buttonEl =\n",
              "          document.querySelector('#df-13a9502f-3b97-4053-af03-08a65d67c8e1 button.colab-df-convert');\n",
              "        buttonEl.style.display =\n",
              "          google.colab.kernel.accessAllowed ? 'block' : 'none';\n",
              "\n",
              "        async function convertToInteractive(key) {\n",
              "          const element = document.querySelector('#df-13a9502f-3b97-4053-af03-08a65d67c8e1');\n",
              "          const dataTable =\n",
              "            await google.colab.kernel.invokeFunction('convertToInteractive',\n",
              "                                                     [key], {});\n",
              "          if (!dataTable) return;\n",
              "\n",
              "          const docLinkHtml = 'Like what you see? Visit the ' +\n",
              "            '<a target=\"_blank\" href=https://colab.research.google.com/notebooks/data_table.ipynb>data table notebook</a>'\n",
              "            + ' to learn more about interactive tables.';\n",
              "          element.innerHTML = '';\n",
              "          dataTable['output_type'] = 'display_data';\n",
              "          await google.colab.output.renderOutput(dataTable, element);\n",
              "          const docLink = document.createElement('div');\n",
              "          docLink.innerHTML = docLinkHtml;\n",
              "          element.appendChild(docLink);\n",
              "        }\n",
              "      </script>\n",
              "    </div>\n",
              "  </div>\n",
              "  "
            ]
          },
          "metadata": {},
          "execution_count": 7
        }
      ]
    },
    {
      "cell_type": "code",
      "metadata": {
        "id": "xokNn7qZqVAz",
        "colab": {
          "base_uri": "https://localhost:8080/"
        },
        "outputId": "83be45a8-5276-42b1-e46a-deb3e2f173fa"
      },
      "source": [
        "#get only 2 columns - Text, Score\n",
        "#drop the NAN values\n",
        "reviews = reviews[['Text','Score']]\n",
        "check_nan = reviews.isnull().sum()\n",
        " \n",
        "# printing the result\n",
        "print(check_nan)"
      ],
      "execution_count": null,
      "outputs": [
        {
          "output_type": "stream",
          "name": "stdout",
          "text": [
            "Text     0\n",
            "Score    0\n",
            "dtype: int64\n"
          ]
        }
      ]
    },
    {
      "cell_type": "code",
      "source": [
        "reviews.shape"
      ],
      "metadata": {
        "colab": {
          "base_uri": "https://localhost:8080/"
        },
        "id": "5tb5NFVOkVlf",
        "outputId": "c741d45c-bb5f-4ad6-b931-4ba01cadbb03"
      },
      "execution_count": null,
      "outputs": [
        {
          "output_type": "execute_result",
          "data": {
            "text/plain": [
              "(568454, 2)"
            ]
          },
          "metadata": {},
          "execution_count": 9
        }
      ]
    },
    {
      "cell_type": "code",
      "source": [
        "print(len(reviews.loc[reviews['Score'] == 3,'Score']))"
      ],
      "metadata": {
        "colab": {
          "base_uri": "https://localhost:8080/"
        },
        "id": "nma8sFb6kZ6x",
        "outputId": "87773140-1405-4402-f18b-2f16fb885ce4"
      },
      "execution_count": null,
      "outputs": [
        {
          "output_type": "stream",
          "name": "stdout",
          "text": [
            "42640\n"
          ]
        }
      ]
    },
    {
      "cell_type": "code",
      "source": [
        "reviews.head()"
      ],
      "metadata": {
        "colab": {
          "base_uri": "https://localhost:8080/",
          "height": 206
        },
        "id": "kj2rK1d3k38b",
        "outputId": "7eeba646-507e-410e-cef9-b99a4e3660af"
      },
      "execution_count": null,
      "outputs": [
        {
          "output_type": "execute_result",
          "data": {
            "text/plain": [
              "                                                Text  Score\n",
              "0  I have bought several of the Vitality canned d...      5\n",
              "1  Product arrived labeled as Jumbo Salted Peanut...      1\n",
              "2  This is a confection that has been around a fe...      4\n",
              "3  If you are looking for the secret ingredient i...      2\n",
              "4  Great taffy at a great price.  There was a wid...      5"
            ],
            "text/html": [
              "\n",
              "  <div id=\"df-cf3f9afc-6caf-436b-996c-5022972739c5\">\n",
              "    <div class=\"colab-df-container\">\n",
              "      <div>\n",
              "<style scoped>\n",
              "    .dataframe tbody tr th:only-of-type {\n",
              "        vertical-align: middle;\n",
              "    }\n",
              "\n",
              "    .dataframe tbody tr th {\n",
              "        vertical-align: top;\n",
              "    }\n",
              "\n",
              "    .dataframe thead th {\n",
              "        text-align: right;\n",
              "    }\n",
              "</style>\n",
              "<table border=\"1\" class=\"dataframe\">\n",
              "  <thead>\n",
              "    <tr style=\"text-align: right;\">\n",
              "      <th></th>\n",
              "      <th>Text</th>\n",
              "      <th>Score</th>\n",
              "    </tr>\n",
              "  </thead>\n",
              "  <tbody>\n",
              "    <tr>\n",
              "      <th>0</th>\n",
              "      <td>I have bought several of the Vitality canned d...</td>\n",
              "      <td>5</td>\n",
              "    </tr>\n",
              "    <tr>\n",
              "      <th>1</th>\n",
              "      <td>Product arrived labeled as Jumbo Salted Peanut...</td>\n",
              "      <td>1</td>\n",
              "    </tr>\n",
              "    <tr>\n",
              "      <th>2</th>\n",
              "      <td>This is a confection that has been around a fe...</td>\n",
              "      <td>4</td>\n",
              "    </tr>\n",
              "    <tr>\n",
              "      <th>3</th>\n",
              "      <td>If you are looking for the secret ingredient i...</td>\n",
              "      <td>2</td>\n",
              "    </tr>\n",
              "    <tr>\n",
              "      <th>4</th>\n",
              "      <td>Great taffy at a great price.  There was a wid...</td>\n",
              "      <td>5</td>\n",
              "    </tr>\n",
              "  </tbody>\n",
              "</table>\n",
              "</div>\n",
              "      <button class=\"colab-df-convert\" onclick=\"convertToInteractive('df-cf3f9afc-6caf-436b-996c-5022972739c5')\"\n",
              "              title=\"Convert this dataframe to an interactive table.\"\n",
              "              style=\"display:none;\">\n",
              "        \n",
              "  <svg xmlns=\"http://www.w3.org/2000/svg\" height=\"24px\"viewBox=\"0 0 24 24\"\n",
              "       width=\"24px\">\n",
              "    <path d=\"M0 0h24v24H0V0z\" fill=\"none\"/>\n",
              "    <path d=\"M18.56 5.44l.94 2.06.94-2.06 2.06-.94-2.06-.94-.94-2.06-.94 2.06-2.06.94zm-11 1L8.5 8.5l.94-2.06 2.06-.94-2.06-.94L8.5 2.5l-.94 2.06-2.06.94zm10 10l.94 2.06.94-2.06 2.06-.94-2.06-.94-.94-2.06-.94 2.06-2.06.94z\"/><path d=\"M17.41 7.96l-1.37-1.37c-.4-.4-.92-.59-1.43-.59-.52 0-1.04.2-1.43.59L10.3 9.45l-7.72 7.72c-.78.78-.78 2.05 0 2.83L4 21.41c.39.39.9.59 1.41.59.51 0 1.02-.2 1.41-.59l7.78-7.78 2.81-2.81c.8-.78.8-2.07 0-2.86zM5.41 20L4 18.59l7.72-7.72 1.47 1.35L5.41 20z\"/>\n",
              "  </svg>\n",
              "      </button>\n",
              "      \n",
              "  <style>\n",
              "    .colab-df-container {\n",
              "      display:flex;\n",
              "      flex-wrap:wrap;\n",
              "      gap: 12px;\n",
              "    }\n",
              "\n",
              "    .colab-df-convert {\n",
              "      background-color: #E8F0FE;\n",
              "      border: none;\n",
              "      border-radius: 50%;\n",
              "      cursor: pointer;\n",
              "      display: none;\n",
              "      fill: #1967D2;\n",
              "      height: 32px;\n",
              "      padding: 0 0 0 0;\n",
              "      width: 32px;\n",
              "    }\n",
              "\n",
              "    .colab-df-convert:hover {\n",
              "      background-color: #E2EBFA;\n",
              "      box-shadow: 0px 1px 2px rgba(60, 64, 67, 0.3), 0px 1px 3px 1px rgba(60, 64, 67, 0.15);\n",
              "      fill: #174EA6;\n",
              "    }\n",
              "\n",
              "    [theme=dark] .colab-df-convert {\n",
              "      background-color: #3B4455;\n",
              "      fill: #D2E3FC;\n",
              "    }\n",
              "\n",
              "    [theme=dark] .colab-df-convert:hover {\n",
              "      background-color: #434B5C;\n",
              "      box-shadow: 0px 1px 3px 1px rgba(0, 0, 0, 0.15);\n",
              "      filter: drop-shadow(0px 1px 2px rgba(0, 0, 0, 0.3));\n",
              "      fill: #FFFFFF;\n",
              "    }\n",
              "  </style>\n",
              "\n",
              "      <script>\n",
              "        const buttonEl =\n",
              "          document.querySelector('#df-cf3f9afc-6caf-436b-996c-5022972739c5 button.colab-df-convert');\n",
              "        buttonEl.style.display =\n",
              "          google.colab.kernel.accessAllowed ? 'block' : 'none';\n",
              "\n",
              "        async function convertToInteractive(key) {\n",
              "          const element = document.querySelector('#df-cf3f9afc-6caf-436b-996c-5022972739c5');\n",
              "          const dataTable =\n",
              "            await google.colab.kernel.invokeFunction('convertToInteractive',\n",
              "                                                     [key], {});\n",
              "          if (!dataTable) return;\n",
              "\n",
              "          const docLinkHtml = 'Like what you see? Visit the ' +\n",
              "            '<a target=\"_blank\" href=https://colab.research.google.com/notebooks/data_table.ipynb>data table notebook</a>'\n",
              "            + ' to learn more about interactive tables.';\n",
              "          element.innerHTML = '';\n",
              "          dataTable['output_type'] = 'display_data';\n",
              "          await google.colab.output.renderOutput(dataTable, element);\n",
              "          const docLink = document.createElement('div');\n",
              "          docLink.innerHTML = docLinkHtml;\n",
              "          element.appendChild(docLink);\n",
              "        }\n",
              "      </script>\n",
              "    </div>\n",
              "  </div>\n",
              "  "
            ]
          },
          "metadata": {},
          "execution_count": 11
        }
      ]
    },
    {
      "cell_type": "code",
      "metadata": {
        "id": "5GZt7pVkqVA4",
        "colab": {
          "base_uri": "https://localhost:8080/"
        },
        "outputId": "f1b3a5f0-9fa4-425e-8758-a6bdae66e80c"
      },
      "source": [
        "#if score> 3, set score = 1\n",
        "#if score<=2, set score = 0\n",
        "#if score == 3, remove the rows. \n",
        "#DataFrame.loc[condition, column_name] = new_value\n",
        "\n",
        "\n",
        "reviews.loc[reviews['Score'] <=2,'Score'] = 0\n",
        "reviews.loc[reviews['Score']>3,'Score'] = 1\n",
        "reviews.drop(reviews[reviews['Score'] ==3].index, inplace=True)\n",
        "print(reviews.shape)"
      ],
      "execution_count": null,
      "outputs": [
        {
          "output_type": "stream",
          "name": "stdout",
          "text": [
            "(525814, 2)\n"
          ]
        }
      ]
    },
    {
      "cell_type": "code",
      "source": [
        "reviews.tail()"
      ],
      "metadata": {
        "colab": {
          "base_uri": "https://localhost:8080/",
          "height": 206
        },
        "id": "ELjLqHMvl7Lj",
        "outputId": "0d531aef-0eee-47e8-eec1-cd3247235813"
      },
      "execution_count": null,
      "outputs": [
        {
          "output_type": "execute_result",
          "data": {
            "text/plain": [
              "                                                     Text  Score\n",
              "568449  Great for sesame chicken..this is a good if no...      1\n",
              "568450  I'm disappointed with the flavor. The chocolat...      0\n",
              "568451  These stars are small, so you can give 10-15 o...      1\n",
              "568452  These are the BEST treats for training and rew...      1\n",
              "568453  I am very satisfied ,product is as advertised,...      1"
            ],
            "text/html": [
              "\n",
              "  <div id=\"df-3de4fc5c-1441-4886-93b9-d658e5e46743\">\n",
              "    <div class=\"colab-df-container\">\n",
              "      <div>\n",
              "<style scoped>\n",
              "    .dataframe tbody tr th:only-of-type {\n",
              "        vertical-align: middle;\n",
              "    }\n",
              "\n",
              "    .dataframe tbody tr th {\n",
              "        vertical-align: top;\n",
              "    }\n",
              "\n",
              "    .dataframe thead th {\n",
              "        text-align: right;\n",
              "    }\n",
              "</style>\n",
              "<table border=\"1\" class=\"dataframe\">\n",
              "  <thead>\n",
              "    <tr style=\"text-align: right;\">\n",
              "      <th></th>\n",
              "      <th>Text</th>\n",
              "      <th>Score</th>\n",
              "    </tr>\n",
              "  </thead>\n",
              "  <tbody>\n",
              "    <tr>\n",
              "      <th>568449</th>\n",
              "      <td>Great for sesame chicken..this is a good if no...</td>\n",
              "      <td>1</td>\n",
              "    </tr>\n",
              "    <tr>\n",
              "      <th>568450</th>\n",
              "      <td>I'm disappointed with the flavor. The chocolat...</td>\n",
              "      <td>0</td>\n",
              "    </tr>\n",
              "    <tr>\n",
              "      <th>568451</th>\n",
              "      <td>These stars are small, so you can give 10-15 o...</td>\n",
              "      <td>1</td>\n",
              "    </tr>\n",
              "    <tr>\n",
              "      <th>568452</th>\n",
              "      <td>These are the BEST treats for training and rew...</td>\n",
              "      <td>1</td>\n",
              "    </tr>\n",
              "    <tr>\n",
              "      <th>568453</th>\n",
              "      <td>I am very satisfied ,product is as advertised,...</td>\n",
              "      <td>1</td>\n",
              "    </tr>\n",
              "  </tbody>\n",
              "</table>\n",
              "</div>\n",
              "      <button class=\"colab-df-convert\" onclick=\"convertToInteractive('df-3de4fc5c-1441-4886-93b9-d658e5e46743')\"\n",
              "              title=\"Convert this dataframe to an interactive table.\"\n",
              "              style=\"display:none;\">\n",
              "        \n",
              "  <svg xmlns=\"http://www.w3.org/2000/svg\" height=\"24px\"viewBox=\"0 0 24 24\"\n",
              "       width=\"24px\">\n",
              "    <path d=\"M0 0h24v24H0V0z\" fill=\"none\"/>\n",
              "    <path d=\"M18.56 5.44l.94 2.06.94-2.06 2.06-.94-2.06-.94-.94-2.06-.94 2.06-2.06.94zm-11 1L8.5 8.5l.94-2.06 2.06-.94-2.06-.94L8.5 2.5l-.94 2.06-2.06.94zm10 10l.94 2.06.94-2.06 2.06-.94-2.06-.94-.94-2.06-.94 2.06-2.06.94z\"/><path d=\"M17.41 7.96l-1.37-1.37c-.4-.4-.92-.59-1.43-.59-.52 0-1.04.2-1.43.59L10.3 9.45l-7.72 7.72c-.78.78-.78 2.05 0 2.83L4 21.41c.39.39.9.59 1.41.59.51 0 1.02-.2 1.41-.59l7.78-7.78 2.81-2.81c.8-.78.8-2.07 0-2.86zM5.41 20L4 18.59l7.72-7.72 1.47 1.35L5.41 20z\"/>\n",
              "  </svg>\n",
              "      </button>\n",
              "      \n",
              "  <style>\n",
              "    .colab-df-container {\n",
              "      display:flex;\n",
              "      flex-wrap:wrap;\n",
              "      gap: 12px;\n",
              "    }\n",
              "\n",
              "    .colab-df-convert {\n",
              "      background-color: #E8F0FE;\n",
              "      border: none;\n",
              "      border-radius: 50%;\n",
              "      cursor: pointer;\n",
              "      display: none;\n",
              "      fill: #1967D2;\n",
              "      height: 32px;\n",
              "      padding: 0 0 0 0;\n",
              "      width: 32px;\n",
              "    }\n",
              "\n",
              "    .colab-df-convert:hover {\n",
              "      background-color: #E2EBFA;\n",
              "      box-shadow: 0px 1px 2px rgba(60, 64, 67, 0.3), 0px 1px 3px 1px rgba(60, 64, 67, 0.15);\n",
              "      fill: #174EA6;\n",
              "    }\n",
              "\n",
              "    [theme=dark] .colab-df-convert {\n",
              "      background-color: #3B4455;\n",
              "      fill: #D2E3FC;\n",
              "    }\n",
              "\n",
              "    [theme=dark] .colab-df-convert:hover {\n",
              "      background-color: #434B5C;\n",
              "      box-shadow: 0px 1px 3px 1px rgba(0, 0, 0, 0.15);\n",
              "      filter: drop-shadow(0px 1px 2px rgba(0, 0, 0, 0.3));\n",
              "      fill: #FFFFFF;\n",
              "    }\n",
              "  </style>\n",
              "\n",
              "      <script>\n",
              "        const buttonEl =\n",
              "          document.querySelector('#df-3de4fc5c-1441-4886-93b9-d658e5e46743 button.colab-df-convert');\n",
              "        buttonEl.style.display =\n",
              "          google.colab.kernel.accessAllowed ? 'block' : 'none';\n",
              "\n",
              "        async function convertToInteractive(key) {\n",
              "          const element = document.querySelector('#df-3de4fc5c-1441-4886-93b9-d658e5e46743');\n",
              "          const dataTable =\n",
              "            await google.colab.kernel.invokeFunction('convertToInteractive',\n",
              "                                                     [key], {});\n",
              "          if (!dataTable) return;\n",
              "\n",
              "          const docLinkHtml = 'Like what you see? Visit the ' +\n",
              "            '<a target=\"_blank\" href=https://colab.research.google.com/notebooks/data_table.ipynb>data table notebook</a>'\n",
              "            + ' to learn more about interactive tables.';\n",
              "          element.innerHTML = '';\n",
              "          dataTable['output_type'] = 'display_data';\n",
              "          await google.colab.output.renderOutput(dataTable, element);\n",
              "          const docLink = document.createElement('div');\n",
              "          docLink.innerHTML = docLinkHtml;\n",
              "          element.appendChild(docLink);\n",
              "        }\n",
              "      </script>\n",
              "    </div>\n",
              "  </div>\n",
              "  "
            ]
          },
          "metadata": {},
          "execution_count": 13
        }
      ]
    },
    {
      "cell_type": "markdown",
      "metadata": {
        "id": "oVe8LlkrqVA6"
      },
      "source": [
        "<font size=4>Grader function 2 </font>"
      ]
    },
    {
      "cell_type": "code",
      "metadata": {
        "id": "7mDXSiJpqVA7",
        "colab": {
          "base_uri": "https://localhost:8080/"
        },
        "outputId": "b2dffd5c-4a58-49cf-cd90-b5d936158bcf"
      },
      "source": [
        "def grader_reviews():\n",
        "    temp_shape = (reviews.shape == (525814, 2)) and (reviews.Score.value_counts()[1]==443777)\n",
        "    assert(temp_shape == True)\n",
        "    return True\n",
        "grader_reviews()"
      ],
      "execution_count": null,
      "outputs": [
        {
          "output_type": "execute_result",
          "data": {
            "text/plain": [
              "True"
            ]
          },
          "metadata": {},
          "execution_count": 14
        }
      ]
    },
    {
      "cell_type": "code",
      "metadata": {
        "id": "xYZ-UB9UqVA-"
      },
      "source": [
        "#considering only those data whose text length is less than 50 \n",
        "\n",
        "\n",
        "def get_wordlen(x):\n",
        "    return len(x.split())\n",
        "reviews['len'] = reviews.Text.apply(get_wordlen)\n",
        "reviews = reviews[reviews.len<50]\n",
        "reviews = reviews.sample(n=100000, random_state=30)"
      ],
      "execution_count": null,
      "outputs": []
    },
    {
      "cell_type": "code",
      "source": [
        "reviews.head()"
      ],
      "metadata": {
        "colab": {
          "base_uri": "https://localhost:8080/",
          "height": 206
        },
        "id": "HrrWiRHimiNK",
        "outputId": "557a3484-eeb8-43b8-d44f-94e0972240c2"
      },
      "execution_count": null,
      "outputs": [
        {
          "output_type": "execute_result",
          "data": {
            "text/plain": [
              "                                                     Text  Score  len\n",
              "64117   The tea was of great quality and it tasted lik...      1   30\n",
              "418112  My cat loves this.  The pellets are nice and s...      1   31\n",
              "357829  Great product. Does not completely get rid of ...      1   41\n",
              "175872  This gum is my favorite!  I would advise every...      1   27\n",
              "178716  I also found out about this product because of...      1   22"
            ],
            "text/html": [
              "\n",
              "  <div id=\"df-c4b2973a-6539-41d3-994c-8b02d1a51040\">\n",
              "    <div class=\"colab-df-container\">\n",
              "      <div>\n",
              "<style scoped>\n",
              "    .dataframe tbody tr th:only-of-type {\n",
              "        vertical-align: middle;\n",
              "    }\n",
              "\n",
              "    .dataframe tbody tr th {\n",
              "        vertical-align: top;\n",
              "    }\n",
              "\n",
              "    .dataframe thead th {\n",
              "        text-align: right;\n",
              "    }\n",
              "</style>\n",
              "<table border=\"1\" class=\"dataframe\">\n",
              "  <thead>\n",
              "    <tr style=\"text-align: right;\">\n",
              "      <th></th>\n",
              "      <th>Text</th>\n",
              "      <th>Score</th>\n",
              "      <th>len</th>\n",
              "    </tr>\n",
              "  </thead>\n",
              "  <tbody>\n",
              "    <tr>\n",
              "      <th>64117</th>\n",
              "      <td>The tea was of great quality and it tasted lik...</td>\n",
              "      <td>1</td>\n",
              "      <td>30</td>\n",
              "    </tr>\n",
              "    <tr>\n",
              "      <th>418112</th>\n",
              "      <td>My cat loves this.  The pellets are nice and s...</td>\n",
              "      <td>1</td>\n",
              "      <td>31</td>\n",
              "    </tr>\n",
              "    <tr>\n",
              "      <th>357829</th>\n",
              "      <td>Great product. Does not completely get rid of ...</td>\n",
              "      <td>1</td>\n",
              "      <td>41</td>\n",
              "    </tr>\n",
              "    <tr>\n",
              "      <th>175872</th>\n",
              "      <td>This gum is my favorite!  I would advise every...</td>\n",
              "      <td>1</td>\n",
              "      <td>27</td>\n",
              "    </tr>\n",
              "    <tr>\n",
              "      <th>178716</th>\n",
              "      <td>I also found out about this product because of...</td>\n",
              "      <td>1</td>\n",
              "      <td>22</td>\n",
              "    </tr>\n",
              "  </tbody>\n",
              "</table>\n",
              "</div>\n",
              "      <button class=\"colab-df-convert\" onclick=\"convertToInteractive('df-c4b2973a-6539-41d3-994c-8b02d1a51040')\"\n",
              "              title=\"Convert this dataframe to an interactive table.\"\n",
              "              style=\"display:none;\">\n",
              "        \n",
              "  <svg xmlns=\"http://www.w3.org/2000/svg\" height=\"24px\"viewBox=\"0 0 24 24\"\n",
              "       width=\"24px\">\n",
              "    <path d=\"M0 0h24v24H0V0z\" fill=\"none\"/>\n",
              "    <path d=\"M18.56 5.44l.94 2.06.94-2.06 2.06-.94-2.06-.94-.94-2.06-.94 2.06-2.06.94zm-11 1L8.5 8.5l.94-2.06 2.06-.94-2.06-.94L8.5 2.5l-.94 2.06-2.06.94zm10 10l.94 2.06.94-2.06 2.06-.94-2.06-.94-.94-2.06-.94 2.06-2.06.94z\"/><path d=\"M17.41 7.96l-1.37-1.37c-.4-.4-.92-.59-1.43-.59-.52 0-1.04.2-1.43.59L10.3 9.45l-7.72 7.72c-.78.78-.78 2.05 0 2.83L4 21.41c.39.39.9.59 1.41.59.51 0 1.02-.2 1.41-.59l7.78-7.78 2.81-2.81c.8-.78.8-2.07 0-2.86zM5.41 20L4 18.59l7.72-7.72 1.47 1.35L5.41 20z\"/>\n",
              "  </svg>\n",
              "      </button>\n",
              "      \n",
              "  <style>\n",
              "    .colab-df-container {\n",
              "      display:flex;\n",
              "      flex-wrap:wrap;\n",
              "      gap: 12px;\n",
              "    }\n",
              "\n",
              "    .colab-df-convert {\n",
              "      background-color: #E8F0FE;\n",
              "      border: none;\n",
              "      border-radius: 50%;\n",
              "      cursor: pointer;\n",
              "      display: none;\n",
              "      fill: #1967D2;\n",
              "      height: 32px;\n",
              "      padding: 0 0 0 0;\n",
              "      width: 32px;\n",
              "    }\n",
              "\n",
              "    .colab-df-convert:hover {\n",
              "      background-color: #E2EBFA;\n",
              "      box-shadow: 0px 1px 2px rgba(60, 64, 67, 0.3), 0px 1px 3px 1px rgba(60, 64, 67, 0.15);\n",
              "      fill: #174EA6;\n",
              "    }\n",
              "\n",
              "    [theme=dark] .colab-df-convert {\n",
              "      background-color: #3B4455;\n",
              "      fill: #D2E3FC;\n",
              "    }\n",
              "\n",
              "    [theme=dark] .colab-df-convert:hover {\n",
              "      background-color: #434B5C;\n",
              "      box-shadow: 0px 1px 3px 1px rgba(0, 0, 0, 0.15);\n",
              "      filter: drop-shadow(0px 1px 2px rgba(0, 0, 0, 0.3));\n",
              "      fill: #FFFFFF;\n",
              "    }\n",
              "  </style>\n",
              "\n",
              "      <script>\n",
              "        const buttonEl =\n",
              "          document.querySelector('#df-c4b2973a-6539-41d3-994c-8b02d1a51040 button.colab-df-convert');\n",
              "        buttonEl.style.display =\n",
              "          google.colab.kernel.accessAllowed ? 'block' : 'none';\n",
              "\n",
              "        async function convertToInteractive(key) {\n",
              "          const element = document.querySelector('#df-c4b2973a-6539-41d3-994c-8b02d1a51040');\n",
              "          const dataTable =\n",
              "            await google.colab.kernel.invokeFunction('convertToInteractive',\n",
              "                                                     [key], {});\n",
              "          if (!dataTable) return;\n",
              "\n",
              "          const docLinkHtml = 'Like what you see? Visit the ' +\n",
              "            '<a target=\"_blank\" href=https://colab.research.google.com/notebooks/data_table.ipynb>data table notebook</a>'\n",
              "            + ' to learn more about interactive tables.';\n",
              "          element.innerHTML = '';\n",
              "          dataTable['output_type'] = 'display_data';\n",
              "          await google.colab.output.renderOutput(dataTable, element);\n",
              "          const docLink = document.createElement('div');\n",
              "          docLink.innerHTML = docLinkHtml;\n",
              "          element.appendChild(docLink);\n",
              "        }\n",
              "      </script>\n",
              "    </div>\n",
              "  </div>\n",
              "  "
            ]
          },
          "metadata": {},
          "execution_count": 16
        }
      ]
    },
    {
      "cell_type": "code",
      "source": [
        "print(reviews.shape)"
      ],
      "metadata": {
        "colab": {
          "base_uri": "https://localhost:8080/"
        },
        "id": "YKwnU7cImrcS",
        "outputId": "d387118b-6281-44fb-e92c-d9329de348f2"
      },
      "execution_count": null,
      "outputs": [
        {
          "output_type": "stream",
          "name": "stdout",
          "text": [
            "(100000, 3)\n"
          ]
        }
      ]
    },
    {
      "cell_type": "code",
      "source": [
        "print(max(reviews['len']))"
      ],
      "metadata": {
        "colab": {
          "base_uri": "https://localhost:8080/"
        },
        "id": "qmapVdPRADwb",
        "outputId": "9bb374a4-85cd-4b06-c070-ba528467ee37"
      },
      "execution_count": null,
      "outputs": [
        {
          "output_type": "stream",
          "name": "stdout",
          "text": [
            "49\n"
          ]
        }
      ]
    },
    {
      "cell_type": "code",
      "metadata": {
        "id": "CvldQriGqVBB",
        "colab": {
          "base_uri": "https://localhost:8080/"
        },
        "outputId": "db96cd99-2730-434e-caee-3671339c6571"
      },
      "source": [
        "#remove HTML from the Text column and save in the Text column only\n",
        "def remove_tags(string):\n",
        "    result = re.sub('<[^<]+?>','',string)\n",
        "    return result\n",
        "reviews['Text']=reviews['Text'].apply(lambda text : remove_tags(text))\n",
        "reviews.info()\n"
      ],
      "execution_count": null,
      "outputs": [
        {
          "output_type": "stream",
          "name": "stdout",
          "text": [
            "<class 'pandas.core.frame.DataFrame'>\n",
            "Int64Index: 100000 entries, 64117 to 19261\n",
            "Data columns (total 3 columns):\n",
            " #   Column  Non-Null Count   Dtype \n",
            "---  ------  --------------   ----- \n",
            " 0   Text    100000 non-null  object\n",
            " 1   Score   100000 non-null  int64 \n",
            " 2   len     100000 non-null  int64 \n",
            "dtypes: int64(2), object(1)\n",
            "memory usage: 3.1+ MB\n"
          ]
        }
      ]
    },
    {
      "cell_type": "code",
      "metadata": {
        "id": "AhfN1s2mqVBD",
        "colab": {
          "base_uri": "https://localhost:8080/",
          "height": 206
        },
        "outputId": "3339351b-0181-46b8-83ca-eca37f59bb99"
      },
      "source": [
        "#print head 5\n",
        "reviews.head(5)"
      ],
      "execution_count": null,
      "outputs": [
        {
          "output_type": "execute_result",
          "data": {
            "text/plain": [
              "                                                     Text  Score  len\n",
              "64117   The tea was of great quality and it tasted lik...      1   30\n",
              "418112  My cat loves this.  The pellets are nice and s...      1   31\n",
              "357829  Great product. Does not completely get rid of ...      1   41\n",
              "175872  This gum is my favorite!  I would advise every...      1   27\n",
              "178716  I also found out about this product because of...      1   22"
            ],
            "text/html": [
              "\n",
              "  <div id=\"df-f45fc01f-a98c-45ab-8a99-26d0b85f9656\">\n",
              "    <div class=\"colab-df-container\">\n",
              "      <div>\n",
              "<style scoped>\n",
              "    .dataframe tbody tr th:only-of-type {\n",
              "        vertical-align: middle;\n",
              "    }\n",
              "\n",
              "    .dataframe tbody tr th {\n",
              "        vertical-align: top;\n",
              "    }\n",
              "\n",
              "    .dataframe thead th {\n",
              "        text-align: right;\n",
              "    }\n",
              "</style>\n",
              "<table border=\"1\" class=\"dataframe\">\n",
              "  <thead>\n",
              "    <tr style=\"text-align: right;\">\n",
              "      <th></th>\n",
              "      <th>Text</th>\n",
              "      <th>Score</th>\n",
              "      <th>len</th>\n",
              "    </tr>\n",
              "  </thead>\n",
              "  <tbody>\n",
              "    <tr>\n",
              "      <th>64117</th>\n",
              "      <td>The tea was of great quality and it tasted lik...</td>\n",
              "      <td>1</td>\n",
              "      <td>30</td>\n",
              "    </tr>\n",
              "    <tr>\n",
              "      <th>418112</th>\n",
              "      <td>My cat loves this.  The pellets are nice and s...</td>\n",
              "      <td>1</td>\n",
              "      <td>31</td>\n",
              "    </tr>\n",
              "    <tr>\n",
              "      <th>357829</th>\n",
              "      <td>Great product. Does not completely get rid of ...</td>\n",
              "      <td>1</td>\n",
              "      <td>41</td>\n",
              "    </tr>\n",
              "    <tr>\n",
              "      <th>175872</th>\n",
              "      <td>This gum is my favorite!  I would advise every...</td>\n",
              "      <td>1</td>\n",
              "      <td>27</td>\n",
              "    </tr>\n",
              "    <tr>\n",
              "      <th>178716</th>\n",
              "      <td>I also found out about this product because of...</td>\n",
              "      <td>1</td>\n",
              "      <td>22</td>\n",
              "    </tr>\n",
              "  </tbody>\n",
              "</table>\n",
              "</div>\n",
              "      <button class=\"colab-df-convert\" onclick=\"convertToInteractive('df-f45fc01f-a98c-45ab-8a99-26d0b85f9656')\"\n",
              "              title=\"Convert this dataframe to an interactive table.\"\n",
              "              style=\"display:none;\">\n",
              "        \n",
              "  <svg xmlns=\"http://www.w3.org/2000/svg\" height=\"24px\"viewBox=\"0 0 24 24\"\n",
              "       width=\"24px\">\n",
              "    <path d=\"M0 0h24v24H0V0z\" fill=\"none\"/>\n",
              "    <path d=\"M18.56 5.44l.94 2.06.94-2.06 2.06-.94-2.06-.94-.94-2.06-.94 2.06-2.06.94zm-11 1L8.5 8.5l.94-2.06 2.06-.94-2.06-.94L8.5 2.5l-.94 2.06-2.06.94zm10 10l.94 2.06.94-2.06 2.06-.94-2.06-.94-.94-2.06-.94 2.06-2.06.94z\"/><path d=\"M17.41 7.96l-1.37-1.37c-.4-.4-.92-.59-1.43-.59-.52 0-1.04.2-1.43.59L10.3 9.45l-7.72 7.72c-.78.78-.78 2.05 0 2.83L4 21.41c.39.39.9.59 1.41.59.51 0 1.02-.2 1.41-.59l7.78-7.78 2.81-2.81c.8-.78.8-2.07 0-2.86zM5.41 20L4 18.59l7.72-7.72 1.47 1.35L5.41 20z\"/>\n",
              "  </svg>\n",
              "      </button>\n",
              "      \n",
              "  <style>\n",
              "    .colab-df-container {\n",
              "      display:flex;\n",
              "      flex-wrap:wrap;\n",
              "      gap: 12px;\n",
              "    }\n",
              "\n",
              "    .colab-df-convert {\n",
              "      background-color: #E8F0FE;\n",
              "      border: none;\n",
              "      border-radius: 50%;\n",
              "      cursor: pointer;\n",
              "      display: none;\n",
              "      fill: #1967D2;\n",
              "      height: 32px;\n",
              "      padding: 0 0 0 0;\n",
              "      width: 32px;\n",
              "    }\n",
              "\n",
              "    .colab-df-convert:hover {\n",
              "      background-color: #E2EBFA;\n",
              "      box-shadow: 0px 1px 2px rgba(60, 64, 67, 0.3), 0px 1px 3px 1px rgba(60, 64, 67, 0.15);\n",
              "      fill: #174EA6;\n",
              "    }\n",
              "\n",
              "    [theme=dark] .colab-df-convert {\n",
              "      background-color: #3B4455;\n",
              "      fill: #D2E3FC;\n",
              "    }\n",
              "\n",
              "    [theme=dark] .colab-df-convert:hover {\n",
              "      background-color: #434B5C;\n",
              "      box-shadow: 0px 1px 3px 1px rgba(0, 0, 0, 0.15);\n",
              "      filter: drop-shadow(0px 1px 2px rgba(0, 0, 0, 0.3));\n",
              "      fill: #FFFFFF;\n",
              "    }\n",
              "  </style>\n",
              "\n",
              "      <script>\n",
              "        const buttonEl =\n",
              "          document.querySelector('#df-f45fc01f-a98c-45ab-8a99-26d0b85f9656 button.colab-df-convert');\n",
              "        buttonEl.style.display =\n",
              "          google.colab.kernel.accessAllowed ? 'block' : 'none';\n",
              "\n",
              "        async function convertToInteractive(key) {\n",
              "          const element = document.querySelector('#df-f45fc01f-a98c-45ab-8a99-26d0b85f9656');\n",
              "          const dataTable =\n",
              "            await google.colab.kernel.invokeFunction('convertToInteractive',\n",
              "                                                     [key], {});\n",
              "          if (!dataTable) return;\n",
              "\n",
              "          const docLinkHtml = 'Like what you see? Visit the ' +\n",
              "            '<a target=\"_blank\" href=https://colab.research.google.com/notebooks/data_table.ipynb>data table notebook</a>'\n",
              "            + ' to learn more about interactive tables.';\n",
              "          element.innerHTML = '';\n",
              "          dataTable['output_type'] = 'display_data';\n",
              "          await google.colab.output.renderOutput(dataTable, element);\n",
              "          const docLink = document.createElement('div');\n",
              "          docLink.innerHTML = docLinkHtml;\n",
              "          element.appendChild(docLink);\n",
              "        }\n",
              "      </script>\n",
              "    </div>\n",
              "  </div>\n",
              "  "
            ]
          },
          "metadata": {},
          "execution_count": 20
        }
      ]
    },
    {
      "cell_type": "code",
      "source": [
        "X = reviews[['Text','len']]\n",
        "Y = reviews['Score']\n",
        "\n",
        "sns.countplot(data = reviews, x='Score')"
      ],
      "metadata": {
        "colab": {
          "base_uri": "https://localhost:8080/",
          "height": 296
        },
        "id": "pYPIehBIxKKX",
        "outputId": "83e0a5aa-2492-47f3-bba4-e3f701a2614c"
      },
      "execution_count": null,
      "outputs": [
        {
          "output_type": "execute_result",
          "data": {
            "text/plain": [
              "<matplotlib.axes._subplots.AxesSubplot at 0x7f5cc1ae5790>"
            ]
          },
          "metadata": {},
          "execution_count": 21
        },
        {
          "output_type": "display_data",
          "data": {
            "text/plain": [
              "<Figure size 432x288 with 1 Axes>"
            ],
            "image/png": "[encoded data removed]"
          },
          "metadata": {
            "needs_background": "light"
          }
        }
      ]
    },
    {
      "cell_type": "code",
      "metadata": {
        "id": "NsYDd3okqVBF",
        "colab": {
          "base_uri": "https://localhost:8080/"
        },
        "outputId": "93362645-f21f-4f5e-e5c2-4071deb0bcdd"
      },
      "source": [
        "#split the data into train and test data(20%) with stratify sampling, setting random state 33, \n",
        "\n",
        "X_train,X_test,y_train,y_test = train_test_split(X,Y,stratify=Y,test_size=0.2,random_state=33)\n",
        "\n",
        "print(X_train.shape,y_train.shape)\n",
        "print(X_test.shape,y_test.shape)\n"
      ],
      "execution_count": null,
      "outputs": [
        {
          "output_type": "stream",
          "name": "stdout",
          "text": [
            "(80000, 2) (80000,)\n",
            "(20000, 2) (20000,)\n"
          ]
        }
      ]
    },
    {
      "cell_type": "code",
      "metadata": {
        "id": "-Q6OAcrOqVBI",
        "colab": {
          "base_uri": "https://localhost:8080/",
          "height": 296
        },
        "outputId": "1011e73c-37cd-4ed9-9045-6c0616e82336"
      },
      "source": [
        "#plot bar graphs of y_train and y_test\n",
        "sns.countplot(x=y_train)"
      ],
      "execution_count": null,
      "outputs": [
        {
          "output_type": "execute_result",
          "data": {
            "text/plain": [
              "<matplotlib.axes._subplots.AxesSubplot at 0x7f5cc1a6cbd0>"
            ]
          },
          "metadata": {},
          "execution_count": 23
        },
        {
          "output_type": "display_data",
          "data": {
            "text/plain": [
              "<Figure size 432x288 with 1 Axes>"
            ],
            "image/png": "[encoded data removed]"
          },
          "metadata": {
            "needs_background": "light"
          }
        }
      ]
    },
    {
      "cell_type": "code",
      "source": [
        "sns.countplot(x=y_test)"
      ],
      "metadata": {
        "colab": {
          "base_uri": "https://localhost:8080/",
          "height": 296
        },
        "id": "r5LtvdnHyKEp",
        "outputId": "4c9977ae-6dc6-4d41-ca12-890077e2237a"
      },
      "execution_count": null,
      "outputs": [
        {
          "output_type": "execute_result",
          "data": {
            "text/plain": [
              "<matplotlib.axes._subplots.AxesSubplot at 0x7f5cc12b3dd0>"
            ]
          },
          "metadata": {},
          "execution_count": 24
        },
        {
          "output_type": "display_data",
          "data": {
            "text/plain": [
              "<Figure size 432x288 with 1 Axes>"
            ],
            "image/png": "[encoded data removed]"
          },
          "metadata": {
            "needs_background": "light"
          }
        }
      ]
    },
    {
      "cell_type": "code",
      "metadata": {
        "id": "Up-z5boWqVBK"
      },
      "source": [
        "#saving to disk. if we need, we can load preprocessed data directly. \n",
        "reviews.to_csv('preprocessed.csv', index=False)"
      ],
      "execution_count": null,
      "outputs": []
    },
    {
      "cell_type": "markdown",
      "metadata": {
        "id": "bBtqNGN9qVBM"
      },
      "source": [
        "<pre><font size=6>Part-2: Creating BERT Model</font> \n",
        "\n",
        " To know more about BERT: <a href=\"https://jalammar.github.io/illustrated-transformer/\">Transformers</a>, <a href=\"https://arxiv.org/abs/1810.04805\">BERT Paper</a> and, <a href=\"https://jalammar.github.io/a-visual-guide-to-using-bert-for-the-first-time/\">This blog</a>.\n",
        "\n",
        "\n",
        "For this assignment, we are using <a href=\"https://tfhub.dev/tensorflow/bert_en_uncased_L-12_H-768_A-12/1\">BERT uncased Base model</a>. \n",
        "It uses L=12 hidden layers (i.e., Transformer blocks), a hidden size of H=768, and A=12 attention heads.\n",
        "\n",
        "> This model has been pre-trained for English on the Wikipedia and BooksCorpus. \n",
        "> Text inputs have been normalized the \"uncased\" way, meaning that the text has been lower-cased before tokenization into word pieces, and any accent markers have been stripped.\n",
        "> For training, random input masking has been applied independently to word pieces (as in the original BERT paper). </pre>"
      ]
    },
    {
      "cell_type": "code",
      "metadata": {
        "id": "i8xd2HejqVBN"
      },
      "source": [
        "## Loading the Pretrained Model from tensorflow HUB\n",
        "tf.keras.backend.clear_session()\n",
        "\n",
        "# maximum length of a seq in the data we have, for now i am making it as 55. You can change this\n",
        "max_seq_length = 55\n",
        "\n",
        "#BERT takes 3 inputs\n",
        "\n",
        "#this is input words. Sequence of words represented as integers\n",
        "#tokenized words as input\n",
        "input_word_ids = tf.keras.layers.Input(shape=(max_seq_length,), dtype=tf.int32, name=\"input_word_ids\")\n",
        "\n",
        "#mask vector if you are padding anything\n",
        "#masked input\n",
        "input_mask = tf.keras.layers.Input(shape=(max_seq_length,), dtype=tf.int32, name=\"input_mask\")\n",
        "\n",
        "#segment vectors. If you are giving only one sentence for the classification, total seg vector is 0. \n",
        "#If you are giving two sentenced with [sep] token separated, first seq segment vectors are zeros and \n",
        "#second seq segment vector are 1's\n",
        "segment_ids = tf.keras.layers.Input(shape=(max_seq_length,), dtype=tf.int32, name=\"segment_ids\")\n",
        "\n",
        "#bert layer \n",
        "bert_layer = hub.KerasLayer(\"https://tfhub.dev/tensorflow/bert_en_uncased_L-12_H-768_A-12/1\", trainable=False)\n",
        "pooled_output, sequence_output = bert_layer([input_word_ids, input_mask, segment_ids])\n",
        "\n",
        "#Bert model\n",
        "#The model we are building is classification all we need is the pooled outputs\n",
        "#If you want to know about those, please read https://www.kaggle.com/questions-and-answers/86510\n",
        "# ref: https://stackoverflow.com/questions/63377198/what-is-the-difference-between-pooled-output-and-sequence-output-in-bert-layer#:~:text=Pooled%20output%20is%20the%20embedding%20of%20the%20%5BCLS%5D,details%2C%20please%20refer%20to%20the%20BERT%20original%20paper.\n"
      ],
      "execution_count": null,
      "outputs": []
    },
    {
      "cell_type": "code",
      "source": [
        "bert_model = Model(inputs=[input_word_ids, input_mask, segment_ids], outputs=pooled_output)\n",
        "\n",
        "bert_model.summary()\n"
      ],
      "metadata": {
        "id": "EQoTzvsnAmt6"
      },
      "execution_count": null,
      "outputs": []
    },
    {
      "cell_type": "code",
      "metadata": {
        "id": "w3z0OMA5qVBS",
        "colab": {
          "base_uri": "https://localhost:8080/"
        },
        "outputId": "77f01f9c-eec8-40e5-9e43-e98e180896f4"
      },
      "source": [
        "bert_model.output"
      ],
      "execution_count": null,
      "outputs": [
        {
          "output_type": "execute_result",
          "data": {
            "text/plain": [
              "<KerasTensor: shape=(None, 768) dtype=float32 (created by layer 'keras_layer')>"
            ]
          },
          "metadata": {},
          "execution_count": 28
        }
      ]
    },
    {
      "cell_type": "code",
      "source": [
        "tf.keras.utils.plot_model(bert_model, show_shapes=True, show_dtype=True)"
      ],
      "metadata": {
        "colab": {
          "base_uri": "https://localhost:8080/",
          "height": 242
        },
        "id": "LTM4HorW73aq",
        "outputId": "d7f275ed-21f4-492d-d91f-bdade4c075e3"
      },
      "execution_count": null,
      "outputs": [
        {
          "output_type": "execute_result",
          "data": {
            "image/png": "[encoded data removed]",
            "text/plain": [
              "<IPython.core.display.Image object>"
            ]
          },
          "metadata": {},
          "execution_count": 29
        }
      ]
    },
    {
      "cell_type": "markdown",
      "metadata": {
        "id": "Ewv4hFCsqVBU"
      },
      "source": [
        "<pre><font size=6>Part-3: Tokenization</font></pre>"
      ]
    },
    {
      "cell_type": "code",
      "source": [
        "#Sentence tokenization: Breaking a text into individual sentences.\n",
        "!pip3 install sentencepiece\n",
        "!pip3 install tf_sentencepiece"
      ],
      "metadata": {
        "colab": {
          "base_uri": "https://localhost:8080/"
        },
        "id": "-OvY8OEOIphd",
        "outputId": "8d747921-64a6-4ecc-8c04-a7d7e5d4ff0a"
      },
      "execution_count": null,
      "outputs": [
        {
          "output_type": "stream",
          "name": "stdout",
          "text": [
            "Looking in indexes: https://pypi.org/simple, https://us-python.pkg.dev/colab-wheels/public/simple/\n",
            "Collecting sentencepiece\n",
            "  Downloading sentencepiece-0.1.97-cp37-cp37m-manylinux_2_17_x86_64.manylinux2014_x86_64.whl (1.3 MB)\n",
            "\u001b[K     |████████████████████████████████| 1.3 MB 8.0 MB/s \n",
            "\u001b[?25hInstalling collected packages: sentencepiece\n",
            "Successfully installed sentencepiece-0.1.97\n",
            "Looking in indexes: https://pypi.org/simple, https://us-python.pkg.dev/colab-wheels/public/simple/\n",
            "Collecting tf_sentencepiece\n",
            "  Downloading tf_sentencepiece-0.1.90-py2.py3-none-manylinux1_x86_64.whl (2.1 MB)\n",
            "\u001b[K     |████████████████████████████████| 2.1 MB 6.6 MB/s \n",
            "\u001b[?25hInstalling collected packages: tf-sentencepiece\n",
            "Successfully installed tf-sentencepiece-0.1.90\n"
          ]
        }
      ]
    },
    {
      "cell_type": "code",
      "metadata": {
        "id": "tX3VEFjiqVBU"
      },
      "source": [
        "#getting Vocab file\n",
        "vocab_file = bert_layer.resolved_object.vocab_file.asset_path.numpy()\n",
        "do_lower_case = bert_layer.resolved_object.do_lower_case.numpy()"
      ],
      "execution_count": null,
      "outputs": []
    },
    {
      "cell_type": "code",
      "metadata": {
        "id": "guJMLJ8bqVBY"
      },
      "source": [
        "# the FullTokenizer takes two parameters 1. vocab_file and 2. do_lower_case \n",
        "# we have created these in the above cell ex: FullTokenizer(vocab_file, do_lower_case )\n",
        "# please check the \"tokenization.py\" file the complete implementation\n"
      ],
      "execution_count": null,
      "outputs": []
    },
    {
      "cell_type": "code",
      "metadata": {
        "id": "qlGFtp2xxzt6",
        "colab": {
          "base_uri": "https://localhost:8080/"
        },
        "outputId": "0b830546-d8da-4b7c-bf53-d938b4e29d70"
      },
      "source": [
        "#We have given tokenization.py file\n",
        "\n",
        "\n",
        "import tokenization\n",
        "tokenizer=tokenization.FullTokenizer(vocab_file,do_lower_case )\n",
        "print(type(tokenizer))"
      ],
      "execution_count": null,
      "outputs": [
        {
          "output_type": "stream",
          "name": "stdout",
          "text": [
            "<class 'tokenization.FullTokenizer'>\n"
          ]
        }
      ]
    },
    {
      "cell_type": "code",
      "source": [
        "tokenizer.tokenize('Where are you going?') "
      ],
      "metadata": {
        "colab": {
          "base_uri": "https://localhost:8080/"
        },
        "id": "4tZ-D537JkhO",
        "outputId": "24d00204-dd8d-4385-9ecf-a4b48175a2bd"
      },
      "execution_count": null,
      "outputs": [
        {
          "output_type": "execute_result",
          "data": {
            "text/plain": [
              "['where', 'are', 'you', 'going', '?']"
            ]
          },
          "metadata": {},
          "execution_count": 35
        }
      ]
    },
    {
      "cell_type": "code",
      "source": [
        "len(tokenizer.vocab)"
      ],
      "metadata": {
        "colab": {
          "base_uri": "https://localhost:8080/"
        },
        "id": "kejfs4CmJ6N5",
        "outputId": "125adaac-835e-4f6c-a7ae-88be99629c1f"
      },
      "execution_count": null,
      "outputs": [
        {
          "output_type": "execute_result",
          "data": {
            "text/plain": [
              "30522"
            ]
          },
          "metadata": {},
          "execution_count": 36
        }
      ]
    },
    {
      "cell_type": "markdown",
      "metadata": {
        "id": "KKkGLhR-qVBd"
      },
      "source": [
        "<font size=4>Grader function 3 </font>"
      ]
    },
    {
      "cell_type": "code",
      "metadata": {
        "id": "2CPu850xqVBe",
        "colab": {
          "base_uri": "https://localhost:8080/"
        },
        "outputId": "2ab86f66-860b-483d-9eca-cb3455cc080e"
      },
      "source": [
        "#it has to give no error \n",
        "def grader_tokenize(tokenizer):\n",
        "    out = False\n",
        "    try:\n",
        "        out=('[CLS]' in tokenizer.vocab) and ('[SEP]' in tokenizer.vocab)\n",
        "    except:\n",
        "        out = False\n",
        "    assert(out==True)\n",
        "    return out\n",
        "grader_tokenize(tokenizer)"
      ],
      "execution_count": null,
      "outputs": [
        {
          "output_type": "execute_result",
          "data": {
            "text/plain": [
              "True"
            ]
          },
          "metadata": {},
          "execution_count": 37
        }
      ]
    },
    {
      "cell_type": "markdown",
      "source": [
        "How to implememt tokenization : \n",
        "1. Create train and test tokens (X_train_tokens, X_test_tokens) from (X_train, X_test) using Tokenizer and \n",
        "2. add '[CLS]' at start of the Tokens and '[SEP]' at the end of the tokens. \n",
        "3. maximum number of tokens is 55(We already given this to BERT layer above) so shape is (None, 55)\n",
        "4.if it is less than 55, add '[PAD]' token else truncate the tokens length.(similar to padding)\n",
        "5. Based on padding, create the mask for Train and Test ( 1 for real token, 0 for '[PAD]'), \n",
        "6. it will also same shape as input tokens (None, 55) save those in X_train_mask, X_test_mask\n",
        "7. a segment input for train and test. We are using only one sentence so all zeros. This shape will also (None, 55)\n",
        "[ type of all the above arrays should be numpy arrays]\n",
        "8.after execution of this cell, you have to get X_train_tokens, X_train_mask, X_train_segment  X_test_tokens, X_test_mask, X_test_segment"
      ],
      "metadata": {
        "id": "lO0eccDXKfBD"
      }
    },
    {
      "cell_type": "markdown",
      "source": [
        "![image.png](data:image/png;base64,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)"
      ],
      "metadata": {
        "id": "Ejh8rmDDl2MN"
      }
    },
    {
      "cell_type": "markdown",
      "metadata": {
        "id": "kv1-t4OjqVBj"
      },
      "source": [
        "#### Example\n",
        "<img src='https://i.imgur.com/5AhhmgU.png'>"
      ]
    },
    {
      "cell_type": "code",
      "source": [
        "max_len_x_train = max([len for len in X_train['len']])\n",
        "max_len_x_test = max([len for len in X_test['len']])\n",
        "                     \n",
        "print(\"Max len of text in X_train = \",max_len_x_train)\n",
        "print(\"Max len of text in X_test  = \",max_len_x_test)"
      ],
      "metadata": {
        "colab": {
          "base_uri": "https://localhost:8080/"
        },
        "id": "QGZQXKcnbm2_",
        "outputId": "2476ad52-ffb1-48a0-9400-9f3edfad2c9b"
      },
      "execution_count": null,
      "outputs": [
        {
          "output_type": "stream",
          "name": "stdout",
          "text": [
            "Max len of text in X_train =  49\n",
            "Max len of text in X_test  =  49\n"
          ]
        }
      ]
    },
    {
      "cell_type": "markdown",
      "source": [
        "> sample conversion"
      ],
      "metadata": {
        "id": "0Fh7M6ZZiIG-"
      }
    },
    {
      "cell_type": "code",
      "source": [
        "from tensorflow.python.ops.gradient_checker_v2 import max_error\n",
        "\n",
        "\n",
        "original_text = X_train['Text'].values[0]\n",
        "print(original_text)\n",
        "original_len = len(X_train['Text'].values[0].split())\n",
        "print(\"orginal length = \",original_len)\n",
        "print(\"###\"*50)\n",
        "\n",
        "#Tokenization is an important step in natural language processing and text analysis, \n",
        "#  as it enables the computer to analyze and understand the text by breaking it down into smaller, more manageable pieces.\n",
        "print(\"Performing tokenization...\")\n",
        "x_token = tokenizer.tokenize(X_train['Text'].values[0]) \n",
        "x_token = x_token[0:(max_seq_length-2)]\n",
        "print(len(x_token))\n",
        "print(x_token)\n",
        "print(\"###\"*50)\n",
        "\n",
        "#[CLS] stands for \"classification\" and is used as a special token at the beginning of a text sequence\n",
        "#[SEP] stands for \"separator\" and is used to separate different sentences or sequences in a text.\n",
        "print(\"Adding cls and sep...\")\n",
        "add_ = ['[CLS]',*x_token,'[SEP]']\n",
        "print(add_)\n",
        "print(len(add_))\n",
        "print(\"###\"*50)\n",
        "\n",
        "#By adding the positional encoding to the input embeddings, \n",
        "#  BERT is able to capture not only the meaning of individual words but also their relative positions in the input sequence,\n",
        "print(\"Converting tokens into ids(positional encodings...)\")\n",
        "token_ids = np.array(tokenizer.convert_tokens_to_ids(add_)+[0]*(max_seq_length-len(add_)))\n",
        "print(token_ids)\n",
        "print(len(token_ids))\n",
        "print(\"###\"*50)\n",
        "\n",
        "\n",
        "#Masking refers to the process of randomly replacing some of the input tokens with a special [MASK] token during pre-training.\n",
        "# The [MASK] token used in MLM is not included in the input during fine-tuning of the BERT model for downstream NLP tasks such as text classification or named entity recognition.\n",
        "# Instead, the model is trained to predict the original tokens based on the context of the surrounding tokens.\n",
        "print(\"Masking the data...\")\n",
        "mask = np.array([1]*len(add_)+[0]*(max_seq_length-len(add_)))\n",
        "print(mask)\n",
        "print(len(mask))\n",
        "print(\"###\"*50)\n",
        "\n",
        "\n",
        "#If we are sending two sentences at the same time then in order separate them we use segmentation, here are only one sentence is sent we mask all the text with zeros\n",
        "print(\"segmenting...\")\n",
        "seg = np.array([0]*max_seq_length)\n",
        "print(seg)\n",
        "print(len(seg))\n",
        "\n",
        "\n"
      ],
      "metadata": {
        "colab": {
          "base_uri": "https://localhost:8080/"
        },
        "id": "suxE-1KGbnDg",
        "outputId": "9b519cea-131d-468b-9356-b22e8786b9e4"
      },
      "execution_count": null,
      "outputs": [
        {
          "output_type": "stream",
          "name": "stdout",
          "text": [
            "I had never tried this brand before, so I was worried about the quality.  It tasted great.  A very nice smooth rich full flavor.  Its my new favoret.\n",
            "orginal length =  28\n",
            "######################################################################################################################################################\n",
            "Performing tokenization...\n",
            "34\n",
            "['i', 'had', 'never', 'tried', 'this', 'brand', 'before', ',', 'so', 'i', 'was', 'worried', 'about', 'the', 'quality', '.', 'it', 'tasted', 'great', '.', 'a', 'very', 'nice', 'smooth', 'rich', 'full', 'flavor', '.', 'its', 'my', 'new', 'favor', '##et', '.']\n",
            "######################################################################################################################################################\n",
            "Adding cls and sep...\n",
            "['[CLS]', 'i', 'had', 'never', 'tried', 'this', 'brand', 'before', ',', 'so', 'i', 'was', 'worried', 'about', 'the', 'quality', '.', 'it', 'tasted', 'great', '.', 'a', 'very', 'nice', 'smooth', 'rich', 'full', 'flavor', '.', 'its', 'my', 'new', 'favor', '##et', '.', '[SEP]']\n",
            "36\n",
            "######################################################################################################################################################\n",
            "Converting tokens into ids(positional encodings...)\n",
            "[  101  1045  2018  2196  2699  2023  4435  2077  1010  2061  1045  2001\n",
            "  5191  2055  1996  3737  1012  2009 12595  2307  1012  1037  2200  3835\n",
            "  5744  4138  2440 14894  1012  2049  2026  2047  5684  3388  1012   102\n",
            "     0     0     0     0     0     0     0     0     0     0     0     0\n",
            "     0     0     0     0     0     0     0]\n",
            "55\n",
            "######################################################################################################################################################\n",
            "Masking the data...\n",
            "[1 1 1 1 1 1 1 1 1 1 1 1 1 1 1 1 1 1 1 1 1 1 1 1 1 1 1 1 1 1 1 1 1 1 1 1 0\n",
            " 0 0 0 0 0 0 0 0 0 0 0 0 0 0 0 0 0 0]\n",
            "55\n",
            "######################################################################################################################################################\n",
            "segmenting...\n",
            "[0 0 0 0 0 0 0 0 0 0 0 0 0 0 0 0 0 0 0 0 0 0 0 0 0 0 0 0 0 0 0 0 0 0 0 0 0\n",
            " 0 0 0 0 0 0 0 0 0 0 0 0 0 0 0 0 0 0]\n",
            "55\n"
          ]
        }
      ]
    },
    {
      "cell_type": "markdown",
      "source": [
        "Here are some details to pay attention to:\n",
        "- `input_mask` The mask allows the model to cleanly differentiate between the content and the padding. The mask has the same shape as the `input_word_ids`, and contains a 1 anywhere the `input_word_ids` is not padding.\n",
        "- `input_type_ids` has the same shape as `input_mask`, but inside the non-padded region, contains a 0 or a 1 indicating which sentence the token is a part of."
      ],
      "metadata": {
        "id": "d4zQn45X7mDH"
      }
    },
    {
      "cell_type": "code",
      "source": [
        "def perform_tokenization(input_data,tokenizer):\n",
        "\n",
        "    input_data_tokens  = []\n",
        "    input_data_mask    = []\n",
        "    input_data_segment = []\n",
        "\n",
        "    for reviews in tqdm(input_data.Text):\n",
        "  \n",
        "        tokens = tokenizer.tokenize(reviews)                     # split words in review\n",
        "        if len(tokens) >= 54:                                    # if length of sentence is greater than 54, truncate\n",
        "            tokens = tokens[:53]\n",
        "        tokens = ['[CLS]',*tokens,'[SEP]']                       # add ['CLS'] to start and ['SEP'] to the end\n",
        "        \n",
        "        if len(tokens)<55:                                       # if length of sentence is less than 55           \n",
        "            while len(tokens) < 55:                              # add the word ['PAD'] in remaining places\n",
        "                tokens.append('[PAD]')                                            \n",
        "        \n",
        "        masked=[]\n",
        "        for i in tokens:\n",
        "            if i!='[PAD]':                                       # fill mask_array with 0 in place of ['PAD'] and 1 otherwise\n",
        "                masked.append(1)\n",
        "            else:\n",
        "                masked.append(0)\n",
        "        input_data_mask.append(masked)\n",
        "    \n",
        "        tokens = tokenizer.convert_tokens_to_ids(tokens)         # adding positional encoding to words\n",
        "        input_data_tokens.append(tokens)    \n",
        "    \n",
        "        segment = [0]*55                                         # since inputting only 1 sentence giving segments as all zeroes\n",
        "        input_data_segment.append(segment)\n",
        "\n",
        "    input_data_tokens  =  np.array(input_data_tokens)\n",
        "    input_data_mask    =  np.array(input_data_mask)\n",
        "    input_data_segment =  np.array(input_data_segment)\n",
        "\n",
        "    return input_data_tokens,input_data_mask,input_data_segment"
      ],
      "metadata": {
        "id": "IFQ2QTNHw22t"
      },
      "execution_count": null,
      "outputs": []
    },
    {
      "cell_type": "code",
      "source": [
        "X_train_tokens,X_train_mask,X_train_segment = perform_tokenization(X_train,tokenizer)\n"
      ],
      "metadata": {
        "colab": {
          "base_uri": "https://localhost:8080/",
          "height": 49,
          "referenced_widgets": [
            "5cc7438b179f462d8503d6df6a3aecd0",
            "d605f74a757e40ceaa29b74f3f48fe2d",
            "4c481c70f69b49368baaefce332b4e87",
            "06c135125e52408ba61dea44e6df5dba",
            "e787c1fecb7943e8ae9a05f260308a21",
            "01ae70712e76479c9dad5a9c2e939a86",
            "e7446731a58d4b6ca84ec198a53f3ecf",
            "c968cc0831e544378be2a5cfab78adf2",
            "d0afbacc462647a094f4ef7aa64dd13a",
            "552559c9df7444d3b9fa856669346b7e",
            "fed74abc5fdb423b8975a4ecc7414c64"
          ]
        },
        "id": "hmSpqUTMxcnW",
        "outputId": "0e79b654-b3a8-4fdf-a8fe-71301f5d37e0"
      },
      "execution_count": null,
      "outputs": [
        {
          "output_type": "display_data",
          "data": {
            "text/plain": [
              "  0%|          | 0/80000 [00:00<?, ?it/s]"
            ],
            "application/vnd.jupyter.widget-view+json": {
              "version_major": 2,
              "version_minor": 0,
              "model_id": "5cc7438b179f462d8503d6df6a3aecd0"
            }
          },
          "metadata": {}
        }
      ]
    },
    {
      "cell_type": "code",
      "source": [
        "print(X_train_tokens.shape)\n",
        "print(X_train_mask.shape)\n",
        "print(X_train_segment.shape)"
      ],
      "metadata": {
        "colab": {
          "base_uri": "https://localhost:8080/"
        },
        "id": "Yg1XdfGF1l__",
        "outputId": "ea2a9136-30ea-4501-907c-e04d3528e46b"
      },
      "execution_count": null,
      "outputs": [
        {
          "output_type": "stream",
          "name": "stdout",
          "text": [
            "(80000, 55)\n",
            "(80000, 55)\n",
            "(80000, 55)\n"
          ]
        }
      ]
    },
    {
      "cell_type": "code",
      "source": [
        "#checking some random text\n",
        "\n",
        "print(len(X_train_tokens))\n",
        "print(X_train_tokens[46])\n",
        "print(len(X_train_tokens[46]))\n",
        "print()\n",
        "print(\"###\"*50)\n",
        "print(len(X_train_mask))\n",
        "print(X_train_mask[46])\n",
        "print(len(X_train_mask[46]))\n",
        "print()\n",
        "print(\"###\"*50)\n",
        "print(len(X_train_segment))\n",
        "print(X_train_segment[46])"
      ],
      "metadata": {
        "colab": {
          "base_uri": "https://localhost:8080/"
        },
        "id": "leTe87roziqd",
        "outputId": "6791929e-e883-4ff6-e799-1b81f1ebdc14"
      },
      "execution_count": null,
      "outputs": [
        {
          "output_type": "stream",
          "name": "stdout",
          "text": [
            "80000\n",
            "[  101  2009  1005  1055  2025  2242  1045  2052  5373  5309  1012  6970\n",
            " 16643  3070  2135  1010  1996  5909  5898  2015  2020  2908  1999  2460\n",
            "  2344   999  2026  2093  3337  3866  2068  1012  2057  2066  1996 19804\n",
            " 11261  2102 14894  1010  2021  2070  3920  2336  2089  9544  1996  5909\n",
            "  3771 26389  1012   102     0     0     0]\n",
            "55\n",
            "\n",
            "######################################################################################################################################################\n",
            "80000\n",
            "[1 1 1 1 1 1 1 1 1 1 1 1 1 1 1 1 1 1 1 1 1 1 1 1 1 1 1 1 1 1 1 1 1 1 1 1 1\n",
            " 1 1 1 1 1 1 1 1 1 1 1 1 1 1 1 0 0 0]\n",
            "55\n",
            "\n",
            "######################################################################################################################################################\n",
            "80000\n",
            "[0 0 0 0 0 0 0 0 0 0 0 0 0 0 0 0 0 0 0 0 0 0 0 0 0 0 0 0 0 0 0 0 0 0 0 0 0\n",
            " 0 0 0 0 0 0 0 0 0 0 0 0 0 0 0 0 0 0]\n"
          ]
        }
      ]
    },
    {
      "cell_type": "code",
      "source": [
        "X_test_tokens,X_test_mask,X_test_segment = perform_tokenization (X_test,tokenizer)\n",
        "  "
      ],
      "metadata": {
        "colab": {
          "base_uri": "https://localhost:8080/",
          "height": 49,
          "referenced_widgets": [
            "08d762bcd45c4c38af3dac886e1cef3f",
            "a1b486993a4b49e0a71a2a357df60cc5",
            "bc151d5e4c484afcb9037d45fa7f4e51",
            "01cd665a8fc748f3a3392ff8267616ab",
            "0b63bcd00c89431eb2f91c0202492e42",
            "d64087e3494048e880bc999c2b68d2cb",
            "d39615e0f79a4760b3d0b152aa00238a",
            "bc84d9f6e28840a9bc78c3080e05a1c9",
            "8e815d33e0b24ac387913dff18b8a944",
            "f4ab1c0cd97a48c6a8e3f5cc10dbf4d0",
            "5c5d6872f9cc41cdbb408981b8d0cbe7"
          ]
        },
        "id": "T3J_jrY5p_Rb",
        "outputId": "3fe29452-ac42-4dde-c997-71d56371bde4"
      },
      "execution_count": null,
      "outputs": [
        {
          "output_type": "display_data",
          "data": {
            "text/plain": [
              "  0%|          | 0/20000 [00:00<?, ?it/s]"
            ],
            "application/vnd.jupyter.widget-view+json": {
              "version_major": 2,
              "version_minor": 0,
              "model_id": "08d762bcd45c4c38af3dac886e1cef3f"
            }
          },
          "metadata": {}
        }
      ]
    },
    {
      "cell_type": "code",
      "source": [
        "print(X_test.values[55])\n",
        "print()\n",
        "print(\"###\"*50)\n",
        "print(len(X_test_tokens))\n",
        "print(X_test_tokens[55])\n",
        "print(len(X_test_tokens[55]))\n",
        "print()\n",
        "print(\"###\"*50)\n",
        "print(len(X_test_mask))\n",
        "print(X_test_mask[55])\n",
        "print(len(X_test_mask[55]))\n",
        "print()\n",
        "print(\"###\"*50)\n",
        "print(len(X_test_segment))\n",
        "print(X_test_segment[55])"
      ],
      "metadata": {
        "colab": {
          "base_uri": "https://localhost:8080/"
        },
        "id": "T42xPSeK1Jiz",
        "outputId": "7932a44a-4927-4b41-e63c-65c50a8595e0"
      },
      "execution_count": null,
      "outputs": [
        {
          "output_type": "stream",
          "name": "stdout",
          "text": [
            "['Alert:  In the event your dog is allergic to fish, be aware that the third ingredient in Newman\\'s Own Organic Chicken and Brown Rice Formula canned pet food for dogs, after \"Organic Chicken\" and \"Sufficient Water for Processing,\" is \"Ocean Whitefish.\"'\n",
            " 41]\n",
            "\n",
            "######################################################################################################################################################\n",
            "20000\n",
            "[  101  9499  1024  1999  1996  2724  2115  3899  2003 27395  2000  3869\n",
            "  1010  2022  5204  2008  1996  2353 21774  1999 10625  1005  1055  2219\n",
            "  7554  7975  1998  2829  5785  5675 27141  9004  2833  2005  6077  1010\n",
            "  2044  1000  7554  7975  1000  1998  1000  7182  2300  2005  6364  1010\n",
            "  1000  2003  1000  4153  2317  7529   102]\n",
            "55\n",
            "\n",
            "######################################################################################################################################################\n",
            "20000\n",
            "[1 1 1 1 1 1 1 1 1 1 1 1 1 1 1 1 1 1 1 1 1 1 1 1 1 1 1 1 1 1 1 1 1 1 1 1 1\n",
            " 1 1 1 1 1 1 1 1 1 1 1 1 1 1 1 1 1 1]\n",
            "55\n",
            "\n",
            "######################################################################################################################################################\n",
            "20000\n",
            "[0 0 0 0 0 0 0 0 0 0 0 0 0 0 0 0 0 0 0 0 0 0 0 0 0 0 0 0 0 0 0 0 0 0 0 0 0\n",
            " 0 0 0 0 0 0 0 0 0 0 0 0 0 0 0 0 0 0]\n"
          ]
        }
      ]
    },
    {
      "cell_type": "code",
      "source": [
        "print(X_test_tokens.shape)\n",
        "print(X_test_mask.shape)\n",
        "print(X_test_segment.shape)"
      ],
      "metadata": {
        "colab": {
          "base_uri": "https://localhost:8080/"
        },
        "id": "mwTZrp-E109z",
        "outputId": "8d295b4c-3a31-41b4-8dcc-45c4f8b6e681"
      },
      "execution_count": null,
      "outputs": [
        {
          "output_type": "stream",
          "name": "stdout",
          "text": [
            "(20000, 55)\n",
            "(20000, 55)\n",
            "(20000, 55)\n"
          ]
        }
      ]
    },
    {
      "cell_type": "code",
      "metadata": {
        "id": "xF0idMRDqVBm"
      },
      "source": [
        "##save all your results to disk so that, no need to run all again. \n",
        "import pickle\n",
        "pickle.dump((X_train, X_train_tokens, X_train_mask, X_train_segment, y_train),open('train_data.pkl','wb'))\n",
        "pickle.dump((X_test, X_test_tokens, X_test_mask, X_test_segment, y_test),open('test_data.pkl','wb'))\n",
        "\n",
        "#you can load from disk\n",
        "X_train, X_train_tokens, X_train_mask, X_train_segment, y_train = pickle.load(open(\"train_data.pkl\", 'rb')) \n",
        "X_test, X_test_tokens, X_test_mask, X_test_segment, y_test = pickle.load(open(\"test_data.pkl\", 'rb')) "
      ],
      "execution_count": null,
      "outputs": []
    },
    {
      "cell_type": "markdown",
      "metadata": {
        "id": "sjPv8VkJqVBr"
      },
      "source": [
        "<font size=4>Grader function 4 </font>"
      ]
    },
    {
      "cell_type": "code",
      "metadata": {
        "id": "qekHJgmdqVBs",
        "colab": {
          "base_uri": "https://localhost:8080/"
        },
        "outputId": "4baff599-f331-4f4a-b8ab-0bcb45b304eb"
      },
      "source": [
        "def grader_alltokens_train():\n",
        "    out = False\n",
        "    \n",
        "    if type(X_train_tokens) == np.ndarray:\n",
        "        \n",
        "        temp_shapes = (X_train_tokens.shape[1]==max_seq_length) and (X_train_mask.shape[1]==max_seq_length) and (X_train_segment.shape[1]==max_seq_length)\n",
        "        \n",
        "        segment_temp = not np.any(X_train_segment)\n",
        "        \n",
        "        mask_temp = np.sum(X_train_mask==0) == np.sum(X_train_tokens==0)\n",
        "        \n",
        "        no_cls = np.sum(X_train_tokens==tokenizer.vocab['[CLS]'])==X_train_tokens.shape[0]\n",
        "        \n",
        "        no_sep = np.sum(X_train_tokens==tokenizer.vocab['[SEP]'])==X_train_tokens.shape[0]\n",
        "        \n",
        "        out = temp_shapes and segment_temp and mask_temp and no_cls and no_sep\n",
        "      \n",
        "    else:\n",
        "        print('Type of all above token arrays should be numpy array not list')\n",
        "        out = False\n",
        "    assert(out==True)\n",
        "    return out\n",
        "\n",
        "grader_alltokens_train()"
      ],
      "execution_count": null,
      "outputs": [
        {
          "output_type": "execute_result",
          "data": {
            "text/plain": [
              "True"
            ]
          },
          "metadata": {},
          "execution_count": 51
        }
      ]
    },
    {
      "cell_type": "markdown",
      "metadata": {
        "id": "KnvC6X_wqVBu"
      },
      "source": [
        "<font size=4>Grader function 5 </font>"
      ]
    },
    {
      "cell_type": "code",
      "metadata": {
        "id": "Av4SRMPSqVBv",
        "colab": {
          "base_uri": "https://localhost:8080/"
        },
        "outputId": "9fdf8d66-5a20-4686-a7e1-4d08cb6c5a39"
      },
      "source": [
        "def grader_alltokens_test():\n",
        "    out = False\n",
        "    if type(X_test_tokens) == np.ndarray:\n",
        "        \n",
        "        temp_shapes = (X_test_tokens.shape[1]==max_seq_length) and (X_test_mask.shape[1]==max_seq_length) and \\\n",
        "        (X_test_segment.shape[1]==max_seq_length)\n",
        "        \n",
        "        segment_temp = not np.any(X_test_segment)\n",
        "        \n",
        "        mask_temp = np.sum(X_test_mask==0) == np.sum(X_test_tokens==0)\n",
        "        \n",
        "        no_cls = np.sum(X_test_tokens==tokenizer.vocab['[CLS]'])==X_test_tokens.shape[0]\n",
        "        \n",
        "        no_sep = np.sum(X_test_tokens==tokenizer.vocab['[SEP]'])==X_test_tokens.shape[0]\n",
        "        \n",
        "        out = temp_shapes and segment_temp and mask_temp and no_cls and no_sep\n",
        "      \n",
        "    else:\n",
        "        print('Type of all above token arrays should be numpy array not list')\n",
        "        out = False\n",
        "    assert(out==True)\n",
        "    return out\n",
        "grader_alltokens_test()"
      ],
      "execution_count": null,
      "outputs": [
        {
          "output_type": "execute_result",
          "data": {
            "text/plain": [
              "True"
            ]
          },
          "metadata": {},
          "execution_count": 52
        }
      ]
    },
    {
      "cell_type": "markdown",
      "metadata": {
        "id": "SEj-Eua5qVBx"
      },
      "source": [
        "<pre><font size=6>Part-4: Getting Embeddings from BERT Model</font>\n",
        "We already created the BERT model in the part-2 and input data in the part-3. \n",
        "We will utlize those two and will get the embeddings for each sentence in the \n",
        "Train and test data.</pre>"
      ]
    },
    {
      "cell_type": "code",
      "metadata": {
        "id": "QwOVgQFDqVBy",
        "colab": {
          "base_uri": "https://localhost:8080/"
        },
        "outputId": "3d7375f4-561b-464f-8641-90478de20477"
      },
      "source": [
        "bert_model.input"
      ],
      "execution_count": null,
      "outputs": [
        {
          "output_type": "execute_result",
          "data": {
            "text/plain": [
              "[<KerasTensor: shape=(None, 55) dtype=int32 (created by layer 'input_word_ids')>,\n",
              " <KerasTensor: shape=(None, 55) dtype=int32 (created by layer 'input_mask')>,\n",
              " <KerasTensor: shape=(None, 55) dtype=int32 (created by layer 'segment_ids')>]"
            ]
          },
          "metadata": {},
          "execution_count": 53
        }
      ]
    },
    {
      "cell_type": "code",
      "metadata": {
        "id": "ZcpkQq1OqVB0",
        "colab": {
          "base_uri": "https://localhost:8080/"
        },
        "outputId": "fc9744ac-82db-42d1-c651-a45c574443e2"
      },
      "source": [
        "bert_model.output"
      ],
      "execution_count": null,
      "outputs": [
        {
          "output_type": "execute_result",
          "data": {
            "text/plain": [
              "<KerasTensor: shape=(None, 768) dtype=float32 (created by layer 'keras_layer')>"
            ]
          },
          "metadata": {},
          "execution_count": 54
        }
      ]
    },
    {
      "cell_type": "code",
      "source": [
        "X_train_tokens"
      ],
      "metadata": {
        "colab": {
          "base_uri": "https://localhost:8080/"
        },
        "id": "BMIDeVsU-Qve",
        "outputId": "bed9a193-75d8-4217-a8de-2c60b8ad3027"
      },
      "execution_count": null,
      "outputs": [
        {
          "output_type": "execute_result",
          "data": {
            "text/plain": [
              "array([[ 101, 1045, 2018, ...,    0,    0,    0],\n",
              "       [ 101, 1045, 2293, ..., 2003, 2307,  102],\n",
              "       [ 101, 2023, 2003, ...,    0,    0,    0],\n",
              "       ...,\n",
              "       [ 101, 1045, 2318, ..., 2987, 1005,  102],\n",
              "       [ 101, 2026, 2344, ..., 2262, 1012,  102],\n",
              "       [ 101, 1037, 7965, ...,    0,    0,    0]])"
            ]
          },
          "metadata": {},
          "execution_count": 55
        }
      ]
    },
    {
      "cell_type": "code",
      "metadata": {
        "id": "IxdIlOIBlm7j",
        "colab": {
          "base_uri": "https://localhost:8080/"
        },
        "outputId": "fb6f735c-54b4-4ee3-e225-5ad242bd7b87"
      },
      "source": [
        "# get the train output, BERT model will give one output so save in\n",
        "# X_train_pooled_output\n",
        "#this cell will take some time to execute, make sure thay you have stable internet connection\n",
        "X_train_pooled_output = bert_model.predict([X_train_tokens,X_train_mask,X_train_segment])"
      ],
      "execution_count": null,
      "outputs": [
        {
          "output_type": "stream",
          "name": "stdout",
          "text": [
            "2500/2500 [==============================] - 316s 125ms/step\n"
          ]
        }
      ]
    },
    {
      "cell_type": "code",
      "source": [
        "X_train_pooled_output.shape"
      ],
      "metadata": {
        "colab": {
          "base_uri": "https://localhost:8080/"
        },
        "id": "Hl9DTXUn_Ik6",
        "outputId": "c1c0f814-131c-4a3f-c669-835b36c1a487"
      },
      "execution_count": null,
      "outputs": [
        {
          "output_type": "execute_result",
          "data": {
            "text/plain": [
              "(80000, 768)"
            ]
          },
          "metadata": {},
          "execution_count": 57
        }
      ]
    },
    {
      "cell_type": "code",
      "metadata": {
        "id": "yZT11BCol4gL",
        "colab": {
          "base_uri": "https://localhost:8080/"
        },
        "outputId": "8ce0d4b7-882e-4a88-a50f-9ad5e11f962f"
      },
      "source": [
        "# get the test output, BERT model will give one output so save in\n",
        "# X_test_pooled_output\n",
        "X_test_pooled_output=bert_model.predict([X_test_tokens,X_test_mask,X_test_segment])"
      ],
      "execution_count": null,
      "outputs": [
        {
          "output_type": "stream",
          "name": "stdout",
          "text": [
            "625/625 [==============================] - 78s 125ms/step\n"
          ]
        }
      ]
    },
    {
      "cell_type": "code",
      "metadata": {
        "id": "DL6JVojfqVB8"
      },
      "source": [
        "##save all your results to disk so that, no need to run all again. \n",
        "pickle.dump((X_train_pooled_output, X_test_pooled_output),open('final_output.pkl','wb'))"
      ],
      "execution_count": null,
      "outputs": []
    },
    {
      "cell_type": "code",
      "metadata": {
        "id": "oSQcBdROqVB9"
      },
      "source": [
        "X_train_pooled_output, X_test_pooled_output= pickle.load(open('final_output.pkl', 'rb'))"
      ],
      "execution_count": null,
      "outputs": []
    },
    {
      "cell_type": "markdown",
      "metadata": {
        "id": "ulEXFE7aqVCA"
      },
      "source": [
        "<font size=4>Grader function 6 </font>"
      ]
    },
    {
      "cell_type": "code",
      "metadata": {
        "id": "oHCsW0IvqVCB",
        "colab": {
          "base_uri": "https://localhost:8080/"
        },
        "outputId": "36f1f2d6-55fd-4d60-e636-64a713d739c6"
      },
      "source": [
        "#now we have X_train_pooled_output, y_train\n",
        "#X_test_pooled_ouput, y_test\n",
        "\n",
        "#please use this grader to evaluate\n",
        "def greader_output():\n",
        "    assert(X_train_pooled_output.shape[1]==768)\n",
        "    assert(len(y_train)==len(X_train_pooled_output))\n",
        "    assert(X_test_pooled_output.shape[1]==768)\n",
        "    assert(len(y_test)==len(X_test_pooled_output))\n",
        "    assert(len(y_train.shape)==1)\n",
        "    assert(len(X_train_pooled_output.shape)==2)\n",
        "    assert(len(y_test.shape)==1)\n",
        "    assert(len(X_test_pooled_output.shape)==2)\n",
        "    return True\n",
        "greader_output()"
      ],
      "execution_count": null,
      "outputs": [
        {
          "output_type": "execute_result",
          "data": {
            "text/plain": [
              "True"
            ]
          },
          "metadata": {},
          "execution_count": 61
        }
      ]
    },
    {
      "cell_type": "markdown",
      "metadata": {
        "id": "oYwS1QbAqVCD"
      },
      "source": [
        "<pre><font size=6>Part-5: Training a NN with 768 features</font>\n",
        "\n",
        "Create a NN and train the NN. \n",
        "1.<b> Using AUC as metric. Do not use tf.keras.metrics.AUC</b> \n",
        "<b> You have to write custom code for AUC and print it at the end of each epoch</b> \n",
        "3. Using tensorboard to log all your metrics and Losses. \n",
        "4. Print the loss and metric at every epoch. \n",
        "</pre>"
      ]
    },
    {
      "cell_type": "code",
      "metadata": {
        "id": "od8PQlYRqVCE"
      },
      "source": [
        "##imports\n",
        "from tensorflow.keras.layers import Input, Dense, Activation, Dropout, LSTM\n",
        "from tensorflow.keras.models import Model\n",
        "import tensorflow as tf\n",
        "from tensorflow.keras.callbacks import TensorBoard\n",
        "from tensorflow.keras.callbacks import ModelCheckpoint\n",
        "from sklearn.metrics import roc_auc_score\n",
        "import datetime \n",
        "from tensorflow.keras.utils import to_categorical"
      ],
      "execution_count": null,
      "outputs": []
    },
    {
      "cell_type": "code",
      "source": [
        "def auc(y_true, y_pred):\n",
        "    return tf.py_function(roc_auc_score, (y_true, y_pred), tf.double)"
      ],
      "metadata": {
        "id": "IddbOOwqCwaS"
      },
      "execution_count": null,
      "outputs": []
    },
    {
      "cell_type": "code",
      "source": [
        "checkpoint_filepath = '/tmp/checkpoint'\n",
        "model_checkpoint = tf.keras.callbacks.ModelCheckpoint(checkpoint_filepath,\n",
        "                                                      monitor ='val_loss',\n",
        "                                                      verbose= 1,\n",
        "                                                      save_best_only = True,\n",
        "                                                      mode = 'max')"
      ],
      "metadata": {
        "id": "h5Joycq6HmKF"
      },
      "execution_count": null,
      "outputs": []
    },
    {
      "cell_type": "code",
      "source": [
        "early_Stopping = tf.keras.callbacks.EarlyStopping(monitor='loss', patience=2)"
      ],
      "metadata": {
        "id": "dZ0aIipjIYjf"
      },
      "execution_count": null,
      "outputs": []
    },
    {
      "cell_type": "code",
      "metadata": {
        "id": "DSnmX3WnqVCG",
        "colab": {
          "base_uri": "https://localhost:8080/"
        },
        "outputId": "6a098aba-2206-4e59-d644-04f4f6f8144b"
      },
      "source": [
        "##create an Neural Network and train your model on X_train_pooled_output and y_train\n",
        "# you can start as follows\n",
        "\n",
        "input_layer=Input(shape=(X_train_pooled_output.shape[1],))\n",
        "\n",
        "x = Dense(units=128,activation='relu',kernel_initializer ='he_normal')(input_layer)\n",
        "\n",
        "x = Dense(units=128,activation='relu',kernel_initializer='he_normal')(x)\n",
        "\n",
        "x = Dense(units=64,activation='relu',kernel_initializer='he_normal')(x)\n",
        "\n",
        "x = Dense(units=32,activation='relu',kernel_initializer='he_normal')(x)\n",
        "\n",
        "output_layer = Dense(2,activation='softmax')(x)\n",
        "\n",
        "model = Model(inputs=input_layer,outputs=output_layer)\n",
        "\n",
        "model.summary()"
      ],
      "execution_count": null,
      "outputs": [
        {
          "output_type": "stream",
          "name": "stdout",
          "text": [
            "Model: \"model_1\"\n",
            "_________________________________________________________________\n",
            " Layer (type)                Output Shape              Param #   \n",
            "=================================================================\n",
            " input_1 (InputLayer)        [(None, 768)]             0         \n",
            "                                                                 \n",
            " dense (Dense)               (None, 128)               98432     \n",
            "                                                                 \n",
            " dense_1 (Dense)             (None, 128)               16512     \n",
            "                                                                 \n",
            " dense_2 (Dense)             (None, 64)                8256      \n",
            "                                                                 \n",
            " dense_3 (Dense)             (None, 32)                2080      \n",
            "                                                                 \n",
            " dense_4 (Dense)             (None, 2)                 66        \n",
            "                                                                 \n",
            "=================================================================\n",
            "Total params: 125,346\n",
            "Trainable params: 125,346\n",
            "Non-trainable params: 0\n",
            "_________________________________________________________________\n"
          ]
        }
      ]
    },
    {
      "cell_type": "code",
      "source": [
        "tf.keras.utils.plot_model(model, show_shapes=True, show_dtype=True)"
      ],
      "metadata": {
        "colab": {
          "base_uri": "https://localhost:8080/",
          "height": 828
        },
        "id": "-X7yHW_fEWCo",
        "outputId": "57da9af3-31f4-4890-fcc8-84c1f5867716"
      },
      "execution_count": null,
      "outputs": [
        {
          "output_type": "execute_result",
          "data": {
            "image/png": "[encoded data removed]",
            "text/plain": [
              "<IPython.core.display.Image object>"
            ]
          },
          "metadata": {},
          "execution_count": 67
        }
      ]
    },
    {
      "cell_type": "code",
      "source": [
        "y_train_ohe = to_categorical(y_train)  \n",
        "y_test_ohe = to_categorical(y_test)\n",
        "\n",
        "y_test_ohe"
      ],
      "metadata": {
        "colab": {
          "base_uri": "https://localhost:8080/"
        },
        "id": "ldCM8KdpGU-4",
        "outputId": "de1b0b89-8417-4537-c54b-b03baff959c5"
      },
      "execution_count": null,
      "outputs": [
        {
          "output_type": "execute_result",
          "data": {
            "text/plain": [
              "array([[0., 1.],\n",
              "       [0., 1.],\n",
              "       [0., 1.],\n",
              "       ...,\n",
              "       [0., 1.],\n",
              "       [0., 1.],\n",
              "       [0., 1.]], dtype=float32)"
            ]
          },
          "metadata": {},
          "execution_count": 68
        }
      ]
    },
    {
      "cell_type": "code",
      "source": [
        "%load_ext tensorboard\n",
        "\n",
        "model.compile(optimizer='Adam',\n",
        "              loss='categorical_crossentropy' ,\n",
        "              metrics=['accuracy',auc])\n",
        "\n",
        "## TENSORBOARD callback\n",
        "log_dir = \"logs/fit/\" + datetime.datetime.now().strftime(\"%Y%m%d-%H%M%S\")\n",
        "tensorboard_callback = tf.keras.callbacks.TensorBoard(log_dir=log_dir, histogram_freq=1)\n",
        "\n",
        "model.fit(X_train_pooled_output,\n",
        "          y_train_ohe,\n",
        "          epochs=5,\n",
        "          batch_size=128,\n",
        "          validation_data=(X_test_pooled_output,y_test_ohe),\n",
        "          callbacks = [tensorboard_callback,model_checkpoint,early_Stopping] )\n",
        "\n",
        "\n"
      ],
      "metadata": {
        "colab": {
          "base_uri": "https://localhost:8080/"
        },
        "id": "LqK_sDy0G5Ps",
        "outputId": "d37e983c-fef6-4155-f4c2-b8e44d198314"
      },
      "execution_count": null,
      "outputs": [
        {
          "output_type": "stream",
          "name": "stdout",
          "text": [
            "Epoch 1/5\n",
            "624/625 [============================>.] - ETA: 0s - loss: 0.2522 - accuracy: 0.8977 - auc: 0.9042\n",
            "Epoch 1: val_loss improved from -inf to 0.22269, saving model to /tmp/checkpoint\n",
            "625/625 [==============================] - 10s 15ms/step - loss: 0.2522 - accuracy: 0.8978 - auc: 0.9042 - val_loss: 0.2227 - val_accuracy: 0.9097 - val_auc: 0.9347\n",
            "Epoch 2/5\n",
            "617/625 [============================>.] - ETA: 0s - loss: 0.1994 - accuracy: 0.9175 - auc: 0.9465\n",
            "Epoch 2: val_loss did not improve from 0.22269\n",
            "625/625 [==============================] - 4s 6ms/step - loss: 0.1995 - accuracy: 0.9175 - auc: 0.9465 - val_loss: 0.1867 - val_accuracy: 0.9253 - val_auc: 0.9449\n",
            "Epoch 3/5\n",
            "615/625 [============================>.] - ETA: 0s - loss: 0.1956 - accuracy: 0.9199 - auc: 0.9498\n",
            "Epoch 3: val_loss did not improve from 0.22269\n",
            "625/625 [==============================] - 4s 6ms/step - loss: 0.1961 - accuracy: 0.9196 - auc: 0.9497 - val_loss: 0.2019 - val_accuracy: 0.9237 - val_auc: 0.9449\n",
            "Epoch 4/5\n",
            "620/625 [============================>.] - ETA: 0s - loss: 0.1894 - accuracy: 0.9224 - auc: 0.9518\n",
            "Epoch 4: val_loss improved from 0.22269 to 0.23430, saving model to /tmp/checkpoint\n",
            "625/625 [==============================] - 5s 7ms/step - loss: 0.1894 - accuracy: 0.9225 - auc: 0.9519 - val_loss: 0.2343 - val_accuracy: 0.8999 - val_auc: 0.9461\n",
            "Epoch 5/5\n",
            "623/625 [============================>.] - ETA: 0s - loss: 0.1865 - accuracy: 0.9237 - auc: 0.9541\n",
            "Epoch 5: val_loss did not improve from 0.23430\n",
            "625/625 [==============================] - 5s 7ms/step - loss: 0.1864 - accuracy: 0.9237 - auc: 0.9541 - val_loss: 0.1907 - val_accuracy: 0.9202 - val_auc: 0.9496\n"
          ]
        },
        {
          "output_type": "execute_result",
          "data": {
            "text/plain": [
              "<keras.callbacks.History at 0x7f5c8e3daf10>"
            ]
          },
          "metadata": {},
          "execution_count": 69
        }
      ]
    },
    {
      "cell_type": "code",
      "source": [
        "tensorboard --logdir logs/fit\n"
      ],
      "metadata": {
        "id": "n7_zeas7oW3J"
      },
      "execution_count": null,
      "outputs": []
    },
    {
      "cell_type": "markdown",
      "source": [
        "![Screenshot 2022-11-21 200344.png](data:image/png;base64,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)"
      ],
      "metadata": {
        "id": "C2Y0siRbnNxq"
      }
    },
    {
      "cell_type": "markdown",
      "source": [
        "![Screenshot 2022-11-21 200731.png](data:image/png;base64,iVBORw0KGgoAAAANSUhEUgAAAmwAAAG6CAYAAAC1GhqKAAAAAXNSR0IArs4c6QAAAARnQU1BAACxjwv8YQUAAAAJcEhZcwAADsMAAA7DAcdvqGQAALLaSURBVHhe7Z0HfBRl+sd/6b0RQggQeic0QSmiKDZO7FLEDuIpcIrlf+LpqdypJ7aDA8GGggoKgqKIIKCCqAgISqhpEAghISQhvW42+c/zvjObEJKQsmV29vnyWfbdd2Z3szO7M795qluVAhiGYRiGYRjdkZycjMjISLirj3XDnj17sGnTJvURwzAMwzAMozvBRkoyNjZWfcQwDMMwDMPoTrAxDMMwDMMw5+IxR0Edn0d6erpwT544cQKtW7eGn5+fmD958iROnz6NsrIyfP3112Lcrl07eHl5ieVEcXExfvnlF2zbtg2enp6IiIiAm5ubuhQoKCgQy3777TcEBwcjNDRULD98+DByc3PRtWvXOt+7IZr7nkRpaSl27tyJH3744ZznlpeXY//+/QgKCoK3t7dYlz5/SkqK+LtOnTolPv/Zs2fx448/ir+bnn/8+HGsX78eaWlp5/39lZWVSExMxLp168RnJd+0h4cHDh06hJKSEvF3EfTef/75p/g76P0ZhmEYhnEtSCcEBgbWL9h27NiBxx57TIgHEhcLFizA8OHDER4ejs2bN+PZZ58V4srX1xdr167Fxo0bccUVV8Df31+IrOnTpwsx4+Pjg48//liImosvvhju7u7i9R588EEh+Ei8vPPOOzCbzRgwYIB4zRUrVgihQgKJBNR3332HK6+8UrxXfdBrTps2TbwO/Y1vv/02zpw5g6FDh17wPTMzM8VnTUpKEn//559/jqNHj+KSSy5BUVERXnzxRQwePBitWrUS70Wfn4Qq/U0k0mhbbN++HQEBAeL1lixZIm69e/cWImzevHkYOXKkeD6956JFi/Dhhx8KIUdicNmyZbj00kuFYPzyyy8xevRoIX7JPfyvf/0LV199NUJCQsR7MwzDMAzjOmiCDZQlWhtFXFWNHz++au/eveKxInCqPvjgg6rXXntNjBVBU/XUU09VKeJHLM/Jyam68847qzZs2FBVUVFR9dJLL4l1aUzQ602aNKlq27ZtVeXl5VXPPfdclSJSxGsRipgSy1NSUsRrP/roo1WKUBLL0tPTqyZOnFh18OBB8bg+fv755ypFNFpek9an59HzL/Se7777btW///1vy9+rCL2qe+65p0oRjVVnz56tmjJlilhfg/7GWbNmVRUXF5/399K2oPeh9yXoNRVNXKUINPFYEWhi26alpYnHtPzNN9+sUkSceI9bbrnF8l61tzPDMAzDMK7FsWPHhMaoM4aNXH55eXnCQvXrr78KaxtBFjNyHRJkxdJchGSFGzJkCA4cOCDcjnRP1idy8xHk8rvooougCEAUFhYiISEBAwcOtLgjyY343nvvCbcq0b59e2HpIshCZzKZxPMaYtSoUbj88suxb98+8TeTpY7+FnpeQ+8ZFhYm1iVLnPb3kuXrrbfeQr9+/cTjC1Hz76VtoYg98TfT30FWM3KXkhWPiIuLQ48ePcR7EPSeZI2877770LFjR/Ts2VNYF8kdShmz9Lm07cwwDMMwjGtSp2Ajtx3dyF33+++/i1t+fr4QDxSfVRea2FLEoHBd1nbhUUxYRUWFGJO4EeY9FXJZUkyZJpiaA7kex48fj59++kn87bW50Htq7k6CRB0tqxmT11hIaL3++uv45z//iZycHHX2XEjU1Xxtim8jdyoJM3Irk9AjtzLFEA4aNEhdi2EYhmEYV6VOwUZWLRJc9957r4jt0m4kiOoSMSSQ4uPjhSAi0UHPT01NVZfK5RSkT6KNBBIJN7LeaWjB9ReyojXEt99+iwkTJoi/kyxtFHNGfwfR0HuSxZDEHMWLadDfS1ZCsow1Ffqc9NxXX30VN9xwg4hNIwucBm0j2jaUIKFBFk2yABL0d2dlZYm4wA4dOqBt27ZinmEYhmEY16VOwdatWze0adMGn376qRA2ZDUjq89XX30lAvYJEjtkASJIrJHbdMSIEcJSREHyn3zyCTIyMizPpeWXXXaZyHakAPw1a9YIgUbLaRkF4msWuKZCr0FWMRJL9PeSCKPEABI+REPvSc8jy+E333xzzuf5z3/+I9bVxB5Z8Oh5FPxHWaYNobmTaX1ygf7888/qEgg3Kwk0cnfScnqPN954QyQ8ECRq+/TpI5IirrnmmmZZ+RiGYRiGMRZ1CjYSOM8995yw+gwbNkzEdy1evFhkQJIrkSA33t///ndhQbr99ttFDBYtJ26++WYhkEi40XNfeOEFkWlJQpAEElnuSJjQc2k9yuh85plnLOUsmgq95h133CH+XsrMJOFI1jH6HJQVeqH3vO6663DVVVdZLGIzZ87Ek08+KWLKyDX68MMPCwFHf/+tt95qieOriy5dumDy5MmYNGmSWH/u3LkiZo3KdZDljl6TskpfeeUV8XfQ+1FsHf0NBAlEEpA017dvXzHHMAzDMIxrc8FeoiQ0yKpGljON1atXCxfiU089JcpekBu0PlcpPZ+eS6KpNhSYT8tJWNW1vDavvfaasDzVhgQV/S30UejvITGpxabVpqH3pL+Xnk9uS02YajS0rC7ofcjaV3O71YT+VkqKoL+19rajEil//PEHnn766Xo/B8MwDMMwxkfrJdqs5u81BRtjPUhIUr06Ko330EMPCQscwzAMwzCuiybYLmwqqgOyGnEhV+tDBYJvu+02UTiXXNEMwzAMwzBEsyxsDMMwDMMwjO1pkYWNYRiGYRiGsR8s2BiGYRiGYXSOYQUbBfBTaRKtvhnDMAzDMIyzUqdgo9plL730kujLyTAMwzAMwzgWjzlUQ6IGVDuMmrRv2LBB1AijJuWUEUp1yKhJemJioqgbRnXMNKhDAPUdpXWoEwBV76fnUPslqllWu24Z1XU7evQojhw5cs5rUeFb6ipw/PhxEWRHr6G1lyKogTq9D3USoObz2uvS62l/G9Uto9ej16EOA1R8llpBURcE6hfaUOcAyr9IS0uzNLGnz67VaqPtQu9Nfxv1StXqq9X13vQc+ix0T9uQtgt1SqD3pjFZ/UgUU79Qeg96bXpPem2q80bP0dC2LfVypc9Mn4se0/tQ/buar13zeQzDMAzDOD+kq0gbnCfYqIr/Dz/8IEQbNXrv3Lmz6AZA7kVqt0SV/6mAbXR0tOh1uWvXLjz66KPi8e7du8V6VO2/e/fuYkyiiir+a5DAeOutt0R7JxIg1JZJe60PPvhAtIuieRIw1I2A+oLSH0qtpLTX/uWXX7B+/XrREYBE1ssvvyxEDD1v3rx5QkzR3/3999+Lnpwk1KiVFo2puXpdoo1e54svvsBHH30kOhOsW7dOCDHq1EBiiTofkBClbfLvf/9btI+i163rvemz02chUUWfi8QZNYSnBvkk8KhDBFkvaVvSa9BjEl9UbJc6IAwZMkTMU5kP2j70eps2bRKfm2qzffjhh2I70t9J+4T2h7adGIZhGIYxDvUKNhIOZJWKjY3FxIkTcckllwjB0alTJ9G6qWfPnkLckOCgZdR54K677hL1w0hM5OTkCLFBbaquvfbac8QaQeJm69atojgs9dXs2rWr6ONJ4mvnzp2izRW1tqKWTWRRy87OFoLuzTffFMKGapTRMhKHJHBIYFJXgOeff168Hr3v9u3bMWjQICHyqM0U9eTs37+/sBqSGAoLC1P/mmpISBHU4J7EGH1eKhBMAo/+LrJsPfHEE5Zl9J5k/avrvUnkkZAl0UiCjZ5LIpj+Bmo0T9ZFEnrU6J0+A7WhojZetN3JykafiT4zbVvqdjB8+HBx+/3338X2JAG9bds20ZuV9gNt87FjxzaqAwPDMAzDMM6DJtgadYYnqxG5CP/2t7+JXppkISOoVROJKrJ6EeQCvFArJXJ1kgAikUevRX01yTVISQIECRqCXosEDK1PViQSje3btxfL6D2oZyhZ4Wg5uRU1dyBZnTSLFVnDtNcjSGiSZaou6DVJyC1YsED8XY888oiwrBHkuiXxpblHSZhSJ4L63rumG7cuaHtqVj5y+5KAe+CBB8T7kpWPIKFKLmWy3BH0Oaj3KYlF+uzUWJ/cpSTiyLp2oe3OMAzDMIzz0ijBFh8fj88++0xYxcitSMKNIFFEDdVJCDUWiv8aN26ccOvR7dNPP8X//ve/Ot15pCpJdJEAIkGiWcEIEl70HHo9a0DiaP78+cLS9eWXX2LhwoXCZUnU9x7WeG9yc5IlkEQwbVuyMBL0ueuLt2vTpo2wIP744484efKkEHAMwzAMwxiXRgk2it0iKxIJGBJK5LYjaI6sXiQ4SLSR6Dl16pRYRtDj2hYtch3S88k6RxYtEmFkqdKsV2Rt017rp59+Ei5MqvDbtm1b4U4lyNr366+/CjchvR49nyxOBLkkyUVJrsamQIH/9DlJDNHfQskH9DcQ9D7k4qTH9Ld9/vnnWLx4cYPvTYKLEh0Ish6SJbIuzp49K96TxF/N7Uefmax3ZEUk6D1mzJghBBr9fSNGjMDSpUvF9qf1GIZhGIYxLnUKNhJi5GabPXu2iPsi1ySJBIqTuuWWW0SWJokQElsTJkwQ8VTXX3+9cOuR0CHIhUnihWK3akKxWXfffTemTp0qYtWmTJkiRJ0m2MhdSrFz9HokRC6++GJhyfvrX/+KFStW4MYbbxRxZuSWpNgvej2y2N1zzz1i2ccff4wHH3ywXutUfZBrkmLdJk+eLN6b4upoO9DnoPehbUCvTzeKW6P1GnpvekwJDHRPSRma+KsNxePR61133XW49957hSWRhCN9ZtpG7777rngN2k70uSkmjqBEBHLTUkwfu0MZhmEYxtg02EuUguVJDGhiisQLiZGawe0k2mg5WajIqkT120jYXah5Ob0tPadmvBdlO5IAIZFGVqq6YsHq+huIul6vLsjNSkKSLFU1eeGFF4SbkcQjvRZ9ltrQZ63r76rvvRv7NxH0uUikadu6JnV9Zvoc5EqeNWuWSEJgGIZhGMZ4kCePvG4tbv5OlihyBZJVijIWKd5t7ty5zRIRmmC7kNhzdajG21dffSV2IFnl6hJ5DMMwDMM4P1YTbPR0coNSJiVlNFLZi+YG45MQITcolQVh6odi+8glPWbMGGGVYxiGYRjGmFhNsDEMwzAMwzC2QRNsjcoSZRiGYRiGYRwHCzaGYRiGYRidw4KNYRiGYRhG57BgYxiGYRiG0Tks2BiGYRiGYXQOCzaGYRiGYRidw4KNYRiGYRhG57BgYxiGYRiG0Tks2BiGYRiGYXSOy3U6oDZaNSksLBRz1FLLKMTFxYmeruPGjauziT3TNA6cKQH9SvpF+MLD3bp9W9PT00Urt7CwMHXGdhSWV+JYThmCfTzQOZRbmjWVw4cPo2/fvuojxmpUVsKjMAfuxfnyoW8AzCERytmpeb+1nJwclJaWIioqSp1h9ApV8Kf91Nx2lnokMzMTMTEx6iPrwK2pVEisZWVlYcCAAeqM87N3715xmzJlCry8vNRZpjmUmCpx+EwhvNzdMSAqUJ21HqmpqfDz8xN9eO3BgdOFMFdWIaZtIDytLD6NTmxsLAYOHKg+YqxCeQmQlw2UFsvHoYpQC2rZxUt2drbotdyhQwd1htEriYmJYj/RMdAoZGRkCHFlTbg1FcM0goKyCnEf5OMh7p0d+hxm5RpN+1wM4zCK8oGsdCnWPJTfVxtFYLVQrDGMkWHBxjANUFhuFveBhhFs0kVeUCY/F8M4hLws4OxpwKxcOPgGAG07Az7+6kKGYeqCBRvDNIBmiQpWhY6zE+gthWchCzbGEZjKgKw0IP+sfBwcDkS0V85ExrggYhhbwoKNYeqh3FyJisoquLu5wcfTGD8V+hxkZSupMKNItR4yjF0oKQSy0+U9JRS0VoRaiH1iNxnGCLBgY5h60NyGRolf0whSrWzsFmXsBlnUSKyZypWrBj/pAvULUBcyDNMYWLAxTD1obsNAb2OVRgm0xLFx4gFjYyhGjWLVKGaNChJQUkGbaMCTs9cZpqmwYGOYejBahqgGfR5yjVJChcns0lV9msSeMybhJmcaCWV/UrwaZYMS4W1l2Q6GYZoFCzaGqYPKqiqUqSfnANWFaCSCvD3FZ2Qr24U5XVCOGV/FYdoPufhsX4Y6yzRIYS6QrYi18lLA20e6QP2D1YUMwzQHFmwMUwf5FneoMbPXtDIlBZx40CALfj2JmHm/4e2dqeLxZ7GnxT1TD5XKRU7OGXmjcUAIENkJ8OLOGgzTUliwMUwdaJYnLd7LaJBb1E35V8gWtjrZkngWo97Zg1nfxCO72GQR7psSspGSWyrGTC3ImkZWNbKuEWFtgFbWrfjOMK4MCzaGqQMt4cBo8Wsa3h5U3sMDpRWVXJOtBifzSvHgF0dw7Qd/4NfjUnhMHdoOBx8fgVHtpJXos31sZTsP0bVAEWsUt0YJBZEdlaudUHUhwzDWgAUbw9RBsUmKGKMUzK2LarcoW9mIN38+gZj/7sSS30+Jx5d2DsWmBwbjg/F90SnMF2M7+Yh5dovWombXAv8g6QL1Nk4zb4bRCyzYGKYWWn0yP09jWtc0uE2VZENcFoYv+h3/920i8ssq0DrACwtu6oVfHh6Ka3tUF3b9Sydf+Hm5Iza9ELtO5qmzLgzVVKvZtYAyQMOjlLMKn1YYxhbwL4thalEdv2ZswUZxWb5U3kMRbK5YruLY2RLcv/oQxi3bZxFgM0dEC/fnIyOjxeOaeLgBkwe2FWOXzxYVXQsUsUb31Lg9ghu3M4ytYcHGMLXQGr5rFigjQ5+xSvnnala2V7cdR9///oaP9qaLx1d3b4WfHhqKt27uhcjA+jMaJw9SBZsru0XJopaldi2gxu3kAvXlxu0MY2tYsDFMLTQLW4iv8QWbJY7NRbJFvz6ciSELd+Hp75JQVlGJ6FBfvHdbH2yZdhEu73LhIHkSdl1b+eFMYbl4LZeiZtcCReRbGrd7GP93wjB6gAUbw9RASzagLEp3NzE0NFRAl5rbGz1TND6zGHetPIhbPo7FH6cKxNz/Xd4JBx8bjgcvUURHE6h2i7qQla1m1wLRuL0dN25nGDvDgo1haqC5Bo0ev6bh5eEmyntQVwejWtle+jEZfd7cgU9VgXVjn9bY/bdL8Pr1PRDcDCvq5EGyttiq/RkiScHw1OxaIBq3dwL8AtWFDMPYCxZsDFMDS/01gzV8bwitub3R4tjWHDiDAfN34rnNR8mBh56t/fHJpH5Yd98gXNyh+W2S+kUGYmQn6T41dPJBVa2uBZbG7dy1gGEcAQs2hqmBZmUK9nUNCxuhFQc2imA7lFGIiZ8ewIQV+3HgdKGY++eYLjjw+AjcPThKPG4pd6pWNsMmH5A1jVygWteCVty4nWEcDQs2hlGhIHRzVRU83NxEDJurQM3t/bw8UFheIbaBs2KurMILW44hZt5OrN4vLV8T+kfiwGPD8eK13ZR9ar2gRC2O7adjOUjIKhZjw0BxatnpMm6NGrdT14IAbtzOMI6GBRvDqLha/FpNtF6ZzmplI0sXlen49w/HxOMBUYFYc/cAfH5Xf8S0tX68VSt/L9we00aMDZV8oHUtqDDJxu1tFLHGXQsYRhfYTbBVVVXh4MGDWLhwIZYuXYqsLEoNP5/8/HysWLFCrEfr0/M0UlNT8cEHH9S5rLKyEgkJCTh92oUytxirorVocoX6a7Wp7nrgXEH0+9IKcOsnsbjzs4PC0uXj6Y6Xr+uG2FnDLYLKVhiqJltFra4FWuN2yghlGEYX2E2w7du3D3FxcZg5cyYmTJggRFlurhofoVJQUIDFixdjzJgxYj0SYLt37xbLjh49io0bN+Kuu+7CQw89hNjYWPGaxI8//ojnn39eLD9x4oSYY5imoiUcBLughY3i2MgVXKAWDdY71LT+me+SMHjBLnx1SNZDu/eiKBx8fDieubKLeGxrSBCG+3uJkiHbk3PUWSeEuhWQWKN7atxOiQXcuJ1hdIfdBBsJrFGjRsHd3R2BgYEYOHAgkpKS1KWS+Ph4DB8+HFFRUWI9Em4kykwmE44cOYIrrrgCvr6+8Pb2xrBhw5CeLquUjx49Gi+99JJ4LsM0B4p/0tozUTyXq+HpTuU9PGFStkF+qb6tbB//kS7KdLyy7bh4PCw6BOvvH4SPJvZD93D7VtzXrGyfOmu2KFnUKF6NuhaIxu0dZekOhmF0h10EW1lZmRBdQUHKAUHFz88PJ0+eVB9JzGazmNfw8fERt4qKCtxwww3o0aOHukS6TkNCQsTYg3rZMUwLyNfi11yonEdtLF0PdGpl+z01Hzcu24f7Pj+E4zmlohPFm+N6YufMizGud2t1LftiKaLrbG5R5Vhr6VpAoSWhyvYTjdv5WMowesWtqmYgmI0oKSnBqlWrMGnSJIsg27VrF1JSUoR7VINcpvv37xdzbm5uyMjIwPLlyzFjxoxzhBy5Tj///HNMnjwZ/v7VV9T0mgRZ3+ojLS1NHUkKCwvFXJ8+fdQZ54e2I1krx40bB09P1xUgTeFUgQnZxRVoE+iJtgFe6qztISsxWY3DwhzfOLukohKJ2WXw93ZH9zAfddbxFJZX4r87M7B4b3Xc6z39W+GJ4W0QFWi/fXX48GH07dtXfVTNFR8nIi67FO+O64ibe8qLSD3jVl4Kj4KzcDOVoUoRaOaQ1qjyMU4v0JycHJSWlgpPDaNvkpOTxX6iY6BRyMzMRExMjPrIOtB2ioyM1FeWKFnQioqKsGzZMmzatAmrV68W7s+aFBcXi/kbb7zxHLHGMC1Ba/ge6ILuUA0/T3f4ermjWBFIZRU2v45rFJ8ezMGly+ItYm1khwCsGd8Fr1/d3q5irSFu7S1F2tq4c2Ny9Yh7cT48cjKEWKv08YM5vJ2hxBrDGBm7WNjI1blkyRJMnDjRYkkgaxjNjxw5UjyuCYk2Wkb327dvF5Y5guY++ugjXHbZZee4RzUaY2GrDVnXKGN1wIAB6ozzs3fvXnGbMmUKvLz0cVLTO3tP5Yv7Ie3tW2+KMp/Jehwero++jCfzSkVj846hvogIcFxF+x0n8jDn+6PYkiizFtsGeeP5q7pi+vAO4rEjoDhcir2tTfLZEnR97Vcxzvjn5WgTqMNOAHSYz81UrkxUUUmN2w3aCzQ7O1t4dTp0cNx3hWkciYmJYj/V9KA5O+QZJGuYNbGrhY1izDp27CjelCCNSC67+n5QAQEB4rZ161YMHTpUzNFzvvnmG/Tu3btOscYwzUXrB+mKyQa1qS7v4Zg4trMlJjz2TQIufft3i1ibdWlHHHx8hEPFWkN0aeWHa3q0EmNdxrKVlwFZp6RYozIdFKvGjdsZxumwm0uUMjm3bNkiynnMmzcPoaGhiI6OFgkFCxYsEPFsBKnTRYsWYc6cOcLq1a1bNzFPddcoDo6saPPnzxe3Dz/8UFjhGKYlaOJEa9HkygR5e4iMUdomtre9n8u7u1LR8/Ud+N+v8lgwtmc4fp1+Mebf2FOUz9AzluQDvWWLFlPXgjTZtYCyPykLlLJBGUYHuJmdq+6jo7GLS7QmlDFKbjoq26EH2CXKUB0tasvUrZU/Qv3sm6ShN5cocfRsCXJLTKJEBmVi2hpq70QtpX5Sa5l1CfPDc1d3wZQh7cRjvVCfS5QoNpkR8sI2VFRWiaK91GnB4VAGqFYIlxq3u0gvUHaJ6pzKSuCrxcC+n5SrZeU376EcY7op59+rJwM9BqsrOS9O7xKtCZXp0ItYYxiCxBoRYmexplfIykbYuusBxcrN/DoOV7y31yLWnr6iMw4+MVx3Yu1C+Ht54E69dD6gtlI1uxZQxwJu3M7ohY9eBH7+Soo1gqxsCX8Abz+lqB0ufN8QrJwYl6ZIzQ6lZu/chEdijzi2t3acRLfXf8Xi31LF41v6ReCPR4fhlbHdhfhxRqrdog4UbCVFMl6NuhZQ43bqWkA9QRlGD2Qq3839P6sPakHOvj3fqw+YumDBxrg01fFrbF3T8PNyR4AimsjNV6LcrMn3SWcxYvHveGRdvGgF1qdNAD6b3B9r7xmIwe2cO7ZqbK9wRIf64kRuKTYnZKuzdqSAuhakya4FJNIiFLHGXQsYPUEXEw2RIeNXmbphwca4NJrbjxMOziXQyla2U3llePCLI7hmyR/YmZIHdzdgztVdRfbnHQOtG+/hSBzS+aBS2UfUtSBX61oQId2gHHrCOB3s52gI/kUzLo1WMNcewfXOhCZgrSHY5v2SIuqULfldXl2TqDmkCLUXFMFGws1I3DlIik/qLVpWIXvT2pSyEulmKsqXjdsjOig7z/FdMximTk4mqoN6aNtRHTB1wYKNcVlKlRNqZVUVPBTVQKUsmGpIsHm5u6OgvEJso+awMT4bQxbuwhPrE0Rj/YvaB+Grewfi08kx6N0mQF3LWAyMCsIl0cHi867cb+MSH4V5MrmgvFSW6qB4NV/uWsDokLRjwHvPKAeFpfLCoi5o/uJr1QdMXbBgY1wWS/yaCzd8rw93NzfRDN5cWYX80qZZ2Y7nlIgG7dcv/RN/nCqAv7cHXv1Ld+x9ZBhu7mv8bEWbJx+QgM49A+QogpDcoVQEl4rhUnkEhtEbmz4BXv8rcGS3ckVzGTD9NeDKCcJtX0Vue2qN1neYMv+6tBAz9cKCjXFZOH6tYSxuUbXsSWN47acT6PLqr/j4j3TxeOrQdsL9+dTozuKxKzBZLe+xKSEbKbmlYmw1TGrXgoJcaiEDtG4n20wxjN6I3wO8+TDw3UfK97Q9cPsjwP0vAF37Azc9BDy3AkkPL0LJC6uAB19W5q3bMN2IsGBjXBbKUiSCOX6tTppS3mPdkUzEzNuJ2RtljMrITqH4bupgfDC+LzqH+Yo5VyEy0NtiSbRq8kFxgXSBUtcC3wDpAvXTQYFehqlJaRGwZgHwztNAahIwYhzwwL+BUTerKzDNhQUb45JQRXoTVdyGG3w9+WdQF7RdArw9RGmPYjU5ozaJWcW449MDuPmjWBzKKBQtpP53Uy/8On0oruvpupYfzcpmtVZVedlAdrosihvcCohoD3jqsMk849rs2QLMnQr8ug7o1Bu45xlg4uNA207qCkxL4DMV45Lkl7I7tDFYrGx1CLaXfkxGzzd2YJUaXD9jRAccemIEHh0ZLR67MhP6txGZx7HpBdh9Ml+dbQaWrgWKYKPG7a0UIRjSWl3IMDqBMpWX/gtY8aq0BF91h7SqXTRGXYGxBizYGJdEEyBaGyambuoq7/HlwTNCqD23+ah4fFX3VvjpoSFYdHNv4Q5klAOrIq5aXJONXEsk1qhrARXAFV0LgtWFDKMTtn4OzJ0iOxj0uQSYqgi1G6YpB49W6gqMtWDBxrgkhVrCAcevNQhZ2Lw83EWCxoHThbjtk/24ffl+4QrtEOKD927rg++nXYTLu3Dtr9pMVmuyNStblPosklijJIPAUJk95+1asYCMzjl2EFjwGLDuPSnObvwrMO0loPdQdQXG2rBgY1wOqopANdiIQLawNQhVp6NttPi3kxgwfyfWHjoj5p+8rJPoUvDgJe3FY+Z8SMT2ighARmE51h3OVGcvgOhakAHkKuvTFzWsjbyRO5Rh9AC1Plv3LrBQEWvJimgbchXwwL+AMRMVRcGSwpbw1mVcjnzVuuasTcbtyarYDIx+dw+W/J4mHo/r3Rq7Zl6CN8b14O4QjUDrfNAotyh1LSCrWlGe2ri9g7SuMYxeiN0OvDYN2LoaiOoC3PEkcPc/gOhe6gqMLWHBxrgcloK5nHBQL7HphRi3bB/u+OwAUvPKEB3ii7lju2P9/YNEJX+mcWhxbCsV4ZunJrrUCYk0Emsk2ihOjVygVFCUYfRAzhlgxVxg2b/l9/SyW4EHXgSG/UVdgbEHLNgYl0MrmKs1OGeqoZZKszcmYdD/dmJDXJaYe3ZMF2yYOghX92iFonrKezB106O1P67oKuP7SLTVCbk/yQ1K7tDQ1jIT1J0vJhid8MvXwKsPAHu+B7oNBKb+C7htJhAuL0aaC13AFJns0G/XQLBgY1yOYpMUHaHs0juHT/5IR6e5v+C1n46Lx+P7t8H+x4bjpWu7oZWf7P9njWbwroalJltttyglFFA5BEowoD6KVA2eM+sYvXAyAXh7NvDFQnkBMfZe4MGXgP6Xqiu0jLKKSiTnVSA5x8rdQAwMCzbGpShULUQ+HvzV19iTmo9rlvyBez8/hNMF5ejfNhCr7xogbjQmqst7NODWY+pk4gAZx/bTsRwkZBWLcXXXgiLZrYBcoH7GbIjPOBmU7LJxGfDfGUDCXmDAKFlT7TpFsFF5GSuhJX75efGxuLHoYktVVlZix44dmD9/PlauXIniYvWgVovTp0/jgw8+wOLFi5GSkqLOAuXl5di2bdsFn88w1f1D2bpG7s3H1yfg4rd24/uks/DycBPWNLKqkXWtJrS9vKm8h/IcU6VyQGcaDVlyqzsfnJZFcGt2LaB+oGRhYxhHc2SXbNS+ebn8Xt72N2DKHKDbAHUF66EJNk7+ajy6EGxbtmxBRUUFZs2ahdGjR+Ojjz4SIqwm6enpWLZsGSZNmoRp06aJ5xw9ehRmsxkrVqxARESEeP6wYcPw4Ycfnvd8hiE0l16giyccfPD7KUS/8gvm/yIvfO4ZHIXDT4wQ8Wr1QaKtSrn6LmgoeJ6pE0o+8IYZv+w9IttMUeP28CjuWsDoA3LLfz4PeO9Z5WSbDAz/i0wquOwWdQXrYlaOI9WCjS1sjcXhW6qsrExYy4YMGQI3NzdERUUJ8XXq1Cl1Dckff/yBG2+8EYGBgfD29sY111yDnTt3Ij8/X5xE+vbtK57fpUsXBAUFoaioSH0mw1SjNXx31fi131LycPm7ezDtiyPIKTHh4g7BIvPz40n90D284azEuroeMI3jxi7+GOFfhJyzOfg9SxG85AL1D1KXMowD2fUd8NqDysHhW6BjL1mmY9KTNu3/WWaqhMlcKcoLerpzjcHG4nDBVlJSIoSWr++5Vbyzs5Wr0BrQOj4+Puoj5eShiDKyyoWFhWHq1KliOaFZ1mquyzBEiXKQqFL+0QHCw8UOErklFZjxVRxGLv4dPyfnItjHU9RS2/23S0RttcZgEWzlbGFrEqJrwSnc3CMYZ+CPD48rh10vPj4xDoYsaR88D6x8Q8ZSjpkEPPiyLIRrYyzxa54s1pqCWxWZpxxITk4O1q1bh/vuu0+dAVavXo2OHTsK96bG9u3bhfvzyiuvFI8TEhLw/fffY8aMGeKxBq3n6emJkSNHqjPnkpYmC4BqFBYWirk+ffqoM85PXFwc4uPjMW7cOLEtGElWcQXSCkwI8fVApxB99LwkVz9drNCFh61YFpuNf/98GsVqCv3d/VvhyeFtEBXY9LipYzllKCyvRLdWPghwMVfG4cOHhSW/0VRVwiP/LNxLClClXFAeKA3AlV+eVsSyB+Jn9BVdJBjrQ+eU0tJS4a1h6ibgt3UI/GmVGJd3HYDioWNR1nWgeGwPThdV4EyhCcXZ6RjUtd15BhtnJjMzEzExMeoj65CcnIzIyEjnyRIdOnSocIt++eWXQuBt3rxZuEZrsmfPHhQUFGDEiBHqDMNUo9X8cRWhsfNUEa7/7Cie/jFNiLXh7QOw+vYueOPq9s0Sa0SA2spLy7Zl6sbNVAbPs6elWPPygTmsLfp0ikD/Nn7ILzNjXUKeuibD2A/vE4fQ6uMXhFirDAxF4RV3IGfibLuKNYJKehDKtTPTBBxuYaNYs08++URY2Pz8ZMrw+vXr0atXL/To0UM81qA/lQSZh4cHjh8/LrJGr7pKmm8TExPx888/i9eh5Y2FrGtZWVkYMMD6WTCOYu/eveI2ZcoUeHlx9plGbHoBKiqrEBMZCB9PfYi21NRU8b0PDw9XZ1pOZlE5/vFdEj5Q20lFBnrj+au6YsaIDuJxSyChFp9ZJBIQerZ2rUr8sbGxGDiwESe2onxZDJcK4QaEAKER0HosvrH9BP6+IRG39I3A2nvte5J0FSichkJtOnRo+ffdMJQUAt99DGz/Uj6+aAxwxXgguqd8bGcOnylCickM7/zT6N452nLuNwIZGRnCGmZNdGNh8/f3FzcyIxIUg3by5EmReFAbilMLDg4WguyXX37BoEGDxPyZM2ewceNG3HHHHU0Sa4zrYDJXCbHmpvzTi1izBZT12e7lny1i7dGR0Tj0xAiriDWCGsHT9qPEA+qKwNRCdC04rXYtUI5hrZQDd42G2JPUmmxfHc4UNe8Yxub8uVW5UnhIirW2nZUv4RPAPc84TKzRccNiYeMYtibh8DMXibCxY8eK+mpr1qzBK6+8gsGDByM0NBQHDx4U8xrHjh3D66+/Lta54YYbhFXCZDLhnXfeEaLtvffeE7XY6EbuUYbR0Bq+G7WcB9VRG7xgl6irRsL02p7h+HX6UPzvpl4I97eulTXIm+IiqzhbtCYmRXxpXQsooSCCuhacH5cYHeprSfJYtb+eVlUMYw0yU4GPX5Y3an1GJTr++h9g+PXqCo6BEg4qq6pEXUemaTjcJVoTKvFBcWlaxqc9YJeoa3A8pwTZxSa0C/ZBVJB+MvRa6hJNyy8TvT+X/5kuHncK88ULV3XFlKHtxGNbcFbZjsnK9gz390Zn5f1chXpdouRuIssaFcKlUh1kWfOoP9lnxZ+ncfeqgxjWMQQ7Z1yszjLWgl2iCmRNW79EXkh07Q9ccTvQf5S60LGcKSzHybxShPp6ofJsqthP7BJtGF0mHVApDnuKNcZ10KxBIQbqcPDqT8fR/j8/W8TaU6M749DjI2wq1giKX6PfKbepUsg/K1tMkVgLUUQ3FcNtQKwRt8W0EdXdd6XkYX+6IvYYxlokHwQW/R+wdrHyPVQu1q+7B3h4rm7EGmEpmOvNFramwluMMTxkftfirfzVLEdn5tu4LPT77294emOSeHxz3wjsfXQYXv1Ld0sWpy2hFlZByvvQNnVZ0WZWPje1l8rLUhu3KyI5uHFWUuqdWG9DeIZpDqYy5cDwAbDgMSBpn2zQTjXVxt6nu5p/Wvwat6RqOizYGMOTXyqta85+gDiRU4pJnx7ADcv2iSyr3hEB+HRyDL66dyAuamffqvlaL1aXjGMrLZbxatTA3TdAEWvtZQP3JnDnIOkyYcHGtJj9vwBvTge+/0xaeG+dCUz9F9DVurXArAFdPHMP0ebDgo0xPFplfk1kOCMv/pCMzq/+gs/VQPUXru6KQ08MFz0qHYHLtqkqzBVdC4RFg5IKKLnAq+lFmMd0a4Vu4X5ChG9OPLerC8M0ihzlWEBdCpbOATJSgGFjZVLB5beqK+gPEmvS2+EmLPVM02DBxhgeTVRQhXlnY+2hM+j++q94fstR8fiOgZGiSfscRbC5OzDek1yvvp4eKFTEsObiMDSVZngX5SgnyTPKuUY5bLZShDIlF7QATWx/to+zRZkmsmM98MbDsg8olee4+xnl4PB/QJtodQV9Um1dY+nRHHirMYaHCjQSwU7U8D0xqxi3fByL2z7Zj6PZJRjULghr7xmIzyb3R582AepajsVlrGyFecCZk/Cgfos+ftKqFhCsLmw+d2iCLfa06HPLMBckJR54/1lg9XygrAS4cqJMKhgyRl1B31DTd8IesbZGhAUbY2g0MeFMxXL/ufkoer6xA18fzhQB6q+M7Y4/Hx2GW/q1zKJjbaoFm0ETD7RYNXI9VZhQ4RckxZq3dUqZ9IsMwKjOocJCufoAW9mYBqhUhM7m5cC8mcDhXUCvITKp4Ka/Av4tv3iwFxy/1jJYsDGGRhMTzhC/tjI2Ax1f+QUv/5gsHt8/pJ1wfz59RWfxWG/QNiW3bIHR+opSiQ5yfVLhUbKqUW21NtEw+YdId6gVqXaLcvIBUw8k0Ob/Ddi4TMZN3jANePhVKdqcDC7p0TJ4qzGGRrOwURkKvXIkqxTXL/0Tkz87IApKjugYgo1TB2PphL7oHKbfgpKe7m7CymYyVyK/1CBWNqqrdiZFJheQJY2y7uhmJatabcb3byPuv0vIxvGcUjFmGAF9F79YKF2gJxOAwVcCD70CXHWHuoJzQckGbGFrGSzYGENDQfFEqJ8+Oz68/OsZXLb0CDbGZ6OV8jfOv7Endsy4GGN7Wq8ZvC2xlPdwdisbleigTDuqq0bNX0JaywBusq7ZkDaB3pjQX5b4WLWfrWyMyu5NwH9nAL98DUR2AiY9CdyrCLf23dUVnA9y/VNZD68avXWZpsFbjjEsxWqygadygHDXYQY5ZYC+86dyFa0wfXgH0aR91qUdxWNnQbNcOm0cW3mpLIBLNxoHhCgqStkHwa2o0bG6km2ZrNVk42xRJu0YsOzfypfhdXnxMOom6f4c/hd1BeeF3aEth7ccY1gs7lCdlvNYezBT3D8zKgqLb+mNtkFNr+flaKhzhJ+XB4rKzZYDslNQqXw36IR45qS0rlH2JxXAbaWIp2bUVWsJt/Rtg9YBXohNL8Duk/nqLONy/LhKFsCN3S6L3j6gCLfbHwVCW6srODfsDm05LNgYw1KdcKC/AwTFqpGFjZjYr5W4d1aczsqmlukQMULuyt9O9dTI/ennmHIpZMi7s0aJD8bFSPgDWPg48M37so0U9f+c/joQM1JdwRiUqiU9jNAe0FGwYGMMi2ZhC/XVX/waWdcKy824omMAOgQ7n2WtJk7TpqpmmQ5TORAYKoUaZd45GEtvUc4WdR3IsrvuXeDtp4BjB6RAo5pq1P+T+tMaCAoL1SxsAWxhazYs2BhDQhlJFODq5qbPFiiade323iHi3pkhC6aHu5sQbHRg1h2iTIci0rQyHdT/M6IDENZGNyfG4R1D0L9tIDIKy7HusHSVMwbmjx9lqY6tq6Ub/jZlTC7Qzn3VFYxFaYVZbUkFbknVAliwMYZEa/iux3IeO07kYduxHAQqf9stPZ2n6GV9kFgL8vZERWUl8vTmFi3QynTkydg0OjlS8Vtff3UF/WCxsrFb1LiQK37Fq8An/5HW3kuuAx5+DbjsFnUFY1JaIa/kOH6tZbBgYwyJnhu+a9a1ey6KEvdGQIsTLNSLW1Qr05GbJavEU9ZnZEeZBapTtPIeVEA5p8QkxoyB2P6l7FSwZwvQoQdw7z8Vlf53eQFhcDjhwDqwYGMMiRZPFaKz/qHkFjCmYNPi2BxsYatdpkPtUiDqqlm5S4G16R7uh2t7yPp7q/fL7whjACg+7Z2nlSu1xfI7OWYiMON1YPAV6grGp6xCHo+5pEfL4K3HGA5zZZWovk9QL049sfZQpmjmTvFK1NHAKNB2pqtnqn2nNdu3K2RFq1mmww5dCmyBpSYbu0WdHxJn334oM0Dj9wA9L5I11W78q/KDCVRXcg3YwmYd7HY2q6qqwsGDB7Fw4UIsXboUWVnKwbUO8vPzsWLFCrEerU/Pq0lBQQH2798Pk6naZWA2m7Ft2zbMnz8f3333HcrLy9UljCuSr1p5AnQYv7b2oPGsaxoOyxal+DRyf1KZDqqRQdY0cn/auEuBLbi1Xxt4e7iLGMe4zCJ1lnE69v8M/G8W8P2nMhuZRNr014Aeg9UVXAeTuaq6pAcLthZhN8G2b98+xMXFYebMmZgwYYIQZbm5uepSCYmxxYsXY8yYMWK9hIQE7N69WyzLycnB3LlzsWzZMmzduhUVFfKkTIJu1apVcHd3x6xZs9C5c2fx2iTiGNdEEwx6i18jyxpZ2Ih7BxtPsAWqcWx2E2w1y3RUKBdpFJ9GQo3i1ZwUcuFrVrbP93PnA6fj7Glg1X+Bpf8C0o5KtycJNXKDuihkXTMr52nqOGOn5iGGxW6CLTY2FqNGjRLCKjAwEAMHDkRSUpK6VBIfH4/hw4cjKipKrEfCjYQeWdNCQkIwe/ZsTJs2TYw18vLyUFxcjEsvvVT5MrihV69e8PLyQlpamroG42pogiFYZwVzKXaNYthu6huBSCfsanAhghWBTA3hKY6NSqrYjNplOmp2KfB0/u06WSuiy62qnItfvwHmPwLs3CDjJimhgBIL2nVVV3BNqIco4a+z8BRnxC5bsKysTIiuoKBqF4Wfnx9OnjypPpKQVYzmNXx8fMSNrGkk4EiQ1YYsbCTQPDzkyZnWadWqlXhPxjWhmj+E3ixsWrKBEa1rBPVrpW1OV9N5alkVq0NlOsj9SW5QD2X/OrhLgS24rmc4OoX6Cpfo9uQcdZbRLSlxwAfPA2v+p3w/lf016mZg5puyZAdjiV/TY4iKs+GmCB6bl7osKSkRbstJkyZZBNmuXbuQkpIi3KMa5DKl+DSaI+GVkZGB5cuXY8aMGZbn1X4tsq5RTNy9994rBCGJvvfeew/XXHMNunfvLp5Tk9qWt8LCQjHXp08fdcb5oe1I1spx48bB01NfosXWFJSbkZxTDh9PN/QK10+w+Y7UIty2+hjCfD1wZHp1ccz09HT4+voiLMzx1fatQXZJBU7lmxDu74n2QdYrSuteWgT3ojy4meSFWKV/MMyByjZTLuTsxeHDh9G3r30Km778y2ks/D0T9w1ohVevMn7ZB2tC4TOlpaXCU2NTKs0I+O1rBP78hXhoat8TRSNuQll314tTa4jk3HLh9egU6o2QWl6P5ORksZ/oGGgUMjMzERMToz6yDrSdIiMj9ZUl2qNHDxQVFYk4tU2bNmH16tXw9m7YxeHv749LLrkECxYsELFt77//vhBxjGtSWC6v5qgorZ7YkJQn7sf3MYYwqw+t7UyRuh9aipupHB65Z8SNxFqljx8qWkXBHBxuV7Fmb27qKcM+1sbnoVKP3SNcHJ+kP9FqxYtCrFV5+aLwsttx9q5/slirgzItY9+TXaItxS4WNrJ6LVmyBBMnTrRYEsjCRvMjR57f4JZEGy2j++3btwtrmkZd1jqCXK60Ps2tXLkSt956K4KDL1xFnqxrlLE6YMAAdcb52bt3r7hNmTJFuItdCXIjFZWb0bWVP8L89GFdpJ6hfd/8TTR83/vIMFzUvjo0IDU1VXxnw8Nl/S0joO2DPm0Cmp8VRoel/GzpYqIxdSmgnp8OLHxLcbgUe2svRiz+HTtT8rDqzv6YOEAmIjAXJjs7W5wnOnTooM5YEfpObvkU+OVr+ThmBHD1XUCn3vIxcw7kDj2UUSjGQ9qffz5OTEwU+6nmudzZIc8gWcOsiV0tbBRf1rFjR/GmBGlEctnV94MKCAgQN7KYDR06VJ1tGBImoaGhOHDgAFq3bt0oscYYDxIKhF7EGkGlPEis0QGrplgzKtSmimh2tijFp50+Ict0EJT12bazQ8WaI7AkH3BNNn2w6ztgwSwp1qgP7fhHgQdeZLHWAFo5Dz8u52EV7GajHD16NLZs2SJKbsybN0+Iq+joaJFQQO5MimcjSJ0uWrQIc+bMEVavbt26ifmGIOvamjVr8NxzzwmLxdixY9UljCuhiTUvnbnKLKU8DFh7rS6qy3s0seuBKNORWl2mg+qoUZkOqqvmgtwWEyHuv1K+P+kFnETlME4dBT5ShNnKN4BsRTwP+4tMKrj0JnUFpj64YK51sYtLtCaUvUnWMMr61APsEjUOpwvKcSq/FK38vNCllT5M7EfOFKHfvN+EV+/sC1ecZ/kzokuUPuuB04UiW3RA20DRHL5BzIqwI1cTWdYI6kxA7k+dFb61t0uUuPWTWCHY/ndjLzx6abQ6yzSEVV2iP6wENn8ClCuCuX134Oo7gUGXqwuZC3E8pxTZxeWIDvVFm4Dz49HZJdo4HJZ0QGU69CLWGGOhWXT0VM6DSnmQgKHG3npy09oSqr5DzeCpFlvehaxs5PbMOCHFGh0XnLhLgS24k92ijiF+L7DoSWD9EsBUDlx1B/DIf1msNRGtxBJb2KwDKyfGMFBJDyJUT/Frqjv0novkiddV0NyihfXFsVG/T6qnRv0/zco6FJ/WtotTdymwBVRkmb7PlHywL13ZZoxtKcoHvn4HeGc2kBQL9BoCzHgDuGEa4OOvrsQ0horKKi6aa2V4KzKGgA4M5N13d3MT1fb1wObEbOxJzUdUkA9u7CPjkVwF6npAnJd4QHXUstPljZpjU5eCiA6yS4Fa/JqpxsfT3ZJ88Hksdz6wKXt/AN56HNi2Rl5A3PywbNbe3b5ucKNA8Wsk2uh4TMdlpuWwYGMMgdbwnVxxesFVrWsECY1Ab0/hEhHJIOQXzs2SVjWyrtXsUuDLlouGmDRQxsOwW9RG0HdyxVxg+SsyO/miMcDf3gSuGK+uwDQHbvhufViwMYZAs+SQSNADZ0tMopwHcY+LZIfWRhPPFQW58kRIbaVIuAWGyv6KlFjAXJDRXcJETTsK4CarLWNFfvoCWPgYsOd7efFw52zlB/uMLCPDtAhLhii3pLIaLNgYQ6AJNr3Er609mImMwnKM7BSCmMhAdda1CHU3oUdVDkKKFZFBZTp8A4DITrKGFdMkuCG8lTm6H3j3aeCrt2Xc2uW3Ao/MAy6+Rl2BaSkcv2Z9eEsyTg/FSVRUyoODr07an2iN3l3SulapiOecDPjnpCG4qgxlbp4wh0UCEe0Bbx91JaYp3N5filxyi2r1BplmUFYCfPsB8NYTQNweoGsM8Nf/ALfOlJZfxmpwhqj1YcHGOD35pTJ+TS/9Q2PTC/FtXJYY3zvYxQQbuT3Tj8syHW5uyPMOxkG31sh15zi1ltC3TQDGdGslrBZfqK52ponEbgcWPg58/5m8cLh+CvC3eUCfS9QVGGtB7lDNJUrxrIx14C3JOD2W+DWd1F/TrGt3DW7rOvEbJYUyeJsSC8jCRnXUorrAFCQLAtdb3oNpNJMHqckH+zj5oElQRvKqN4Fl/wZOJQH9L5VC7Zq7ZNFAxupoYs3Xk61r1oQFG+P0FJRLC1uIr74Em0tY16ioKJ0Qs9JkmQ7qUkCuz3Dls3t4Iri5baqY87i5b4TQF98lZCP5bIk6yzTIr+ukVW3nRhk7OeExYOq/gOie6gqMLShTM0QDvFliWBPemoxTQ0mHWnCrHlyi6+OysD+9EJ3CfHFtT+O0m6oTKnpLXQqoTAd1KQhVuxRQcoGKt4e7aAZfZq48vyYb0yQiArwtnQ9WH2C3aEN4px8FljwHrFkgv6cjxkmr2sgb1DUYW2LJEOX4NavCgo1xarT6a346Mb1rpTwMbV2jrDqKU6O2UqSYqchou25AUN1dCprdDJ45jzu4VdUF8d++BhEr/wMc+g3o0AOYMgeY+LgszszYBS7pYRtYsDFOTXX8muMPDNR8/qvDWrFcAwo2cnlmpgJnFbFAZTqoSwFZ1OhE2EAskNbbtZCzG1vMDX1ao12wD/alFYh2VUwt1r0Hv+2r4UZxlNfcKUt1DBilLmTsgbmyShFs8rfuxyU9rApvTcap0aw2eohfo9i1s8UmXNk1DD1aGygrkkqm5GTIpILSYtmlgEQaFRqlmLULQAV0fTzcxb4qN8srb6b5TB6ktqrazzXZzmHN/4Ctn6PKywfZNz0CXD+1Ud9PxrqQdY1KLXkoF3F0Y6wHCzbGqSk2ySs5vQg2wlDWtYIcID0ZokwHEaR2KSA3aBPQrGz5HMfWYibUqMnGqKx4Ffj1G/G9LBj/JEp6DFEXMPaG3aG2gwUb47RoLjYKbHc0v6fmY0viWTE2hGArLVLLdGTKMh2USBDVBQhtXpcCzWVdyHFsLWZYdAiGtA8WLvh1qgveZSE3/dI5wJ4tABVnnjoHpm7crN2RcMKB7WDBxjgtmjtUD9mhmnVt6tB28HR3YjdAhUmW6cg8JU+GXt5A63ayVIenl7pS0wn28YSb8o8zRa2DpSZbrAu7RQtzpVjb/4uMpZzyAtC1v7qQcRTVFjaWF9aGtyjjtGgn/2A9uEMPGiDZIC9bZn9SmQ6KPQkJl02w/VreC9XLw03EslEMm5bZyzSfW/tJS+fK2NPILlZEtqtBFxUfKmKN2ktRTTXKBOXaarrAUoONLWxWhwUb47Rogi3UwYLty0NnEJdZhJ6t/XFF1zB11okopjIdyUC+IthQpVwaBwHtuylK2Lp15KrLe7CVraV0beUnMkYJl2tVRd9VsqwlH5QWNbKskYWNcThUE1OzsHFLKutjty1aVVWFgwcPYuHChVi6dCmysmSvxdrk5+djxYoVYj1an55Xk4KCAuzfvx8mU/VVpdlsxrZt2zB//nzxXHoNxtjIg4KaieRgF6TTWte0Mh3ZVKZD+T1RRh1lflKXAjfrHxos5T1YsFmFyVpNNldqVXX8iLSsnToK9L5YWtYodo3RBXRcrlL++bJYswl226r79u1DXFwcZs6ciQkTJghhlZubqy6VkBhbvHgxxowZI9ZLSEjA7t27xbKcnBzMnTsXy5Ytw9atW1FRUe1WWbNmDdzd3TFr1izx3HfeeQfFxcXqUsaIWBq+O7j+2sncUnytBn7f6yyCrUoRuzlnqst0UJcCOumRlYJqq9kIijWkA3lheYXofMC0DLKw0TbddiwHR84UqbMGJuEPYOkLQNYpWVvtgX8rX6qmZSsztoUTDmyL3QRbbGwsRo0aJYRVYGAgBg4ciKSkJHWpJD4+HsOHD0dUVJRYj8QXCT2ypoWEhGD27NmYNm2aGGuUlJSgqKgIQ4cOhZubm3hunz59kJaWpq7BGBHNraZZbRzFl4cylb+lAtf1DEfHUCeo+USB2mlUpkO9WAoMBdp3t9uJT2vQn1/KVraWQokcWk221QcMnnxwcId0g1J3jSFXS8taC5JgGNugtQnkkh62wS6CraysTIiuoKAgdQbw8/PDyZMn1UcScm3SvIaPj4+4kTWNBBwJstr4+vqKdTQXK70GjVu3lvEdjDHRMkQdHb9mafSud+saWdLIokaWNSrTQZa0qM6yIbYdocQDgst7WIcJ/dVs0X0GFmx7f5BuUPoOU0/Qu59WFzB6o9rCxi5RW+BWVTtIzAaQFWzVqlWYNGmSRZDt2rULKSkpwj2qQS5Tik+jORJnGRkZWL58OWbMmGF5Xl2vRe7PF198EZWVleI5zz77LHr06CGW1aa25a2wsFDMkVXOKNB2JGvluHHj4OnpWEFjC0yVVTiSWSrGAyKrBb69+T2tGDeuOgpvDzekPBqjzjaN9PR0cdERFmabZAU3s3KxU3AW7lRXTaHKwwOVQeGorNGg3Z5QBfQjWaUi7rBva+eqQn/48GH07dtXfaQfRiyNR3JuOb6c0BUjOzhmv9oKv30/Ivi7D8S4+OKxKLjqHjFuCAqfKS0tFd4Wxn4oP23EZZeiwlyFfm38oBwWL0hycrLYT3QMNAqZmZmIiWne+aA+aDtFRkbqK0uURBa5NylObdOmTVi9ejW8vb3VpXVDFjUScPfddx9effVVvPXWW9i4cSOysynjjTEiheXyKi7AwXV+NiTJ6v+T++kzM9S9MAeemSctYs0cGIqKiI4OE2sE1aijuCs6qBdwb1GrcGvvUHH/dfy5McHOjv/vGy1irWjEzY0Sa4zjIOsa/a4pB6wxYo1pOnaxsJGoWrJkCSZOnGixJJCFjeZHjhwpHteERBsto/vt27cLa5pGbQsbXU2tW7dOCDaNHTt2wMPDA8OGDVNn6oesa+RCHTBggDrj/Ozdu1fcpkyZAi8v48V5HM8pRXZxOaKCfEQjbEdA9cT6/vc3HM0uwY4ZF2NEx+bFgKWmporvcXi4FUtoUB21vCyZ+UlQHTXq/emuj7gSqtB/Kr8UkYE+6BDimP3XHCgOl2Jv9QY1gh+8YJcID8h8frRzF27W2Lwc2LhMjqknKDVybyR0sU7niQ4dOqgzjD2gPsrJOSXKBZknekU0rpdyYmKi2E+at8wIkJePrGHWxK4WNhJPHTt2FG9KkEYkl119P6iAgABxo2xQSiZoCHpt+nGWl5erM8q5Ki9PxLUxxsQSv+bnOHcvlfIgsRbTNrDZYs3qmMpkhwIqKkpijboUUJkO6lSgE7FGcBybdRnULgiXdQlFbmkFvjRCTbb1S6rF2i3TmyTWGMehxa852vNhZOy2ZUePHo0tW7aIch7z5s1DaGgooqOjRULBggULRDwbQep00aJFmDNnjrB6devWTczXR3BwsBB1VPKDXKHkEqUrrP79uUWJEalUxD5ZtwhHpo5TsVzi3sE6iJMhIzn1/Dx9QjlqFskuBZRMQF0KbFimo7kEeHvAz9MDRSaz5SDPtIw7tZpszt4Q/ouFwA8r5Xji48qJ43Y5ZnQPl/SwPXZxidaEMkbJTUdZn9aGkg8oeLEpr80uUeeCrAhHs4vhpxwU+rZxTCwWWdb6z/8NJaZKpD97OdoGNRxn2RAtdokW5kn3J2V+ElSewwkKiabkliKzqBzRIb5oE9j87WdP9OoSJU7ll6HDf34W49RnLkN7B4UKtIjPXgd2b5Lju54Ghl4tx02EXaKO4fCZIuWYaEa/yMBGF85ll2jjcFjSAbkqbSHWCH9/f5u9NqMPCtSCuZpbzRFQKQ8Sazf1iWiRWGsRZVqZjgwp1qhLQdtOTlP13eIW5cQDq0ACbeIAue+/OOCEbtGP/i3FmpciNKnGWjPFGuMYyOuhWdi4y4Ht4C3LOBVaZmGIA+uvae5Qh7SiMiuC9exp4EyqbC1FFyjUSoq6FNDJzkmgoq/UVoziEe1q4jcwk1TB5lRuUbrYeO8ZYN92ICAEmKqINepiwDgVpcoFLDnruH+obeGtyzgVZHIn6ITvCKgN0G8n8oSFaHx/+xadFVXe044BRWqv3OBWsksBNWt3MqgOG3U9oLpsearVlGkZ1KqK3Ms7U/LwZ1qBOqtj6Hu8+O/Akd0y5pIsa9QflHE6OH7NPrBgY5wGrR2Vt4fjvrZr1Sy8qUPbi3u7UFIIpB+XsWqEXwDQrhsQ4tzdPDS3qJb1y7QM+l1oDeF136oqKw14ZzZwdL+0DpNY68aJYs4KCzb7wIKNcRq0E7uj+odSvNVXaqN3u7hDTeWy0TWd3CqUsYfyuSM6AK0Vsejh/AfG6vIeHMdmLW6PkVZfXbeqOpkAvP8skJoIdOgBTHsRiO6pLmScEYtg45IeNoW3LuM0aBa2YF/HiBWyrlF245D2wcrNxm5IUabjOFAiuxQgNAJo1xXwbVxBSmeArsYp27fYZBZJHEzLoXpsA6MCcTynBN8l6LDbS9I+4MPngTMnga79gYdflRcgjNNCdSYsTd/ZwmZTWLAxTkNhubSwhfk6plSJ1uj9nouk28kmFOUBp44q6jRHPg4IltaHIH22v2opmpUtn92iVkNzi36+X2dWtkM7ZRP33Cyg91Bg5pvy+804NSUVZpEl6u7mZowuGzqGBRvjFGgWGApWp7qw9ubImSJ8c0TGkN1rC3doWYm0OpzVynT4AJGdgFY2FIc6IMhburfZLWo9buobIe4/23faYpV2OH9uBZYqYo3iMfuPAh6aq5x9+PRjBChDlGDrmu3hXwzjFGgWGO0Eb2/IukYZjZQZGuZnRQufIs7c8zKlWCPRRmqURBqJNRJtBofc23RVTvGJ1MWCaTl92gRgbM9wEVekWYUdys6NwMcvy5I0Q66SpTsYw1CdcMBywtbwFmacguqEAwfFrx2SyQZWta4pYs078yTcqVk7QW5PCsJ2ITcRuVGoWbRZEWt5pWxlsxaTBsqabCsdXZNt+1pg1ZtyPGIccPc/5JgxDJb4NW+2sNkaFmyMU6C5dqxq3WokmxOzsSc1H+H+Xrixj3Q3WQVq1k6Qa4gSCiixwAXh8h7W54beEaKI6cb4bNFKzSF8/6lypbNIjkffJnuDMoaDS3rYDxZsjO6hgFbNXeblYf8AtrUHpXXtgYvbiXurQWU7FKq8fGXJDhdFK9PCcWzWo3WAlyX54Au1dqBd+fZDeSOuvhO4ZYYcM4bCZK6yCDZfdonaHN7CjO7JV11ljqi/drbYhHVHbFR7TRNsLhCr1hB+yoGers4p24xKfDDWQevEYfdWVWRVI+sacf0UYNxUOWYMB/1m6WKaijZzfqjtYcHG6B5L/JoDYiQodi0tvwwjO4UgJjJQnbUSqku0yol6gNoKTYxr4pxpOeN6t0bnMD/sSyvAjhN56qyNoXg1ilsjbpkOXHOXHDOGhOPX7AsLNkb3aA3fQx0Qv2apvTbYytY1cvFaLGy+4t6V4Tg22zB5kEw+WGOPVlWUCUoZocSEx4DRt8sxY1g0d2gAx6/ZBRZsjK4xV1bBZJYHBXKd2ZPY9AJ8Gydrr9nEHUr11gg3/hlSM39Pd3fR/ov2OWMdbulrJ7fokn/KWmvEXU8DI2+QY8bQVNdg42OYPeCtzOiafDUQ3REZSFopj7sGtUWAtU3+FdIdWunlLe5dHSo/R1Y2iofJK2Urm7W4JDoYIzqG4HRBOb5Sv89WZ9H/yS4G5Nqf8gIw9Gp1AWN0NAsbtZhjbA8LNkbXOLL+mnaCs0mjd0uGKMevaVjcoqoLnLEOk5ULDsLqraqo0PO8mbI/KNUOfPAlYMBl6kLG6FD3Gcrgd1P+OSJ73xVhwcboGq3+Woid+4euP5IlXKLtgn1wXc9wddaKcMLBeVSX92ALmzW5oXdrcU9u0cwieaHQYnKVi5n5fwNS4oGwNsDDrwE9BqsLGVfAUn/Nm2WEvbDblq6qqsLBgwexcOFCLF26FFlZMjaoNvn5+VixYoVYj9an59WkoKAA+/fvh8lkEo8zMjLw9ttvY/78+efcjh07JpYzzk1phRRs9rawackGU4daufaaRs0abIzA19NduJ7pRFDEVjar0aWVH26LkbFsX6o1BVtEejKw4DHg9AmgTTTwt/8CHbqrCxlXQTs2c8Fc+2E3wbZv3z7ExcVh5syZmDBhghBlubm56lIJibHFixdjzJgxYr2EhATs3r1bLMvJycHcuXOxbNkybN26FRUV8io8MjIS06dPx2OPPSZus2bNQqdOneDp6bqFSI2C1j/Ux8O+V3AU72PTRu8VysUG3RSqXLhgbl1Yynuwlc2qTFBrsq1qafLBsQPAoieVA3KGbKP22ELZ+5ZxOaotbCzY7IXdzoSxsbEYNWoU3N3dERgYiIEDByIpKUldKomPj8fw4cMRFRUl1iPhRkKPrGkhISGYPXs2pk2bJsb1cebMGRQVFaF9+/bqDOOsFDioYC5Z18h1dEXXMPRo7a/OWhHVugZP+5cp0TvV5T3YwmZNxvWOQCs/L2w9loNDGYXqbBM59Bvw9mygKB/oGgM8+TbgZ+XahIzTUMYZonbHLlu6rKxMiK6goCB1Rvmd+/nh5MmT6iOJ2WwW8xo+Pj7iRtY0EnBulEp2AchdOnToUHh4sOp3dgrKpZUlxNf+go2wiXWN0HqIcv2186DyHl4e7iKOrYLLe1gNEsJaTbYvmuMW3fM9sOQ5oEK52Og1FHhkvrqAcUVMym/TkiHqyedae+FWVTtIzAaUlJRg1apVmDRpkkWQ7dq1CykpKcI9qkEuUxJcNEfijOLTli9fjhkzZlieV9draZCL9bPPPsMDDzwAb++6yyWkpaWpI0lhYaGY69Onjzrj/NB2JGvluHHjnNo1vD9DNq0eEHnufrYl+5T3HPuptPymzoqBp7v1s5888jLhXlIIc1ArnMovhq+vL8LCwtSlTEpeOXJLzYgO8UaYr35OBocPH0bfvn3VR87H9pRCTPwiGT1a+eDn+3qqsxfGf+9mBG35SIzLeg5F7m36buJO4TOlpaXCU8PYhsLyShzLKRPZoX1aN//CMzk5WewnOgYahczMTMTExKiPrANtJwr/0pUts0ePHsKdSXFqmzZtwurVq+sVXnVx6NAhDBs2rEnPYfQJpYwTHjYQTA2xIUm28JncL8wmYo1w4w4HDRKoZp1REV3GelzeMRC9wn2QeLYMv5xsnFs0YOc3FrFW2u9S3Ys1xj6UacXMPdkdak/sYmEjV+eSJUswceJEiyWBLGw0P3LkSPG4JiTaaBndb9++XVjTNOqzsBUXFwuhd//998Pfv/FxR2Rdo4zVAQMGqDPOz969e8VtypQp8PJyzjgpCvw/lV8q2lF1a2UfCxv9EGLm/YbDGUXY+tchIobN6lB3g7RjlDYNRPdEamqq+B6Hh9ugdIiTQv0JD2YUimSTmLb6iZGiOFyKvXVmXv4xGf/cfBTTh3fA4lt6q7P1sHEZsHm5HI+4Hpj4hBzrnOzsbHGe6NChgzrDWJvUvFJkFJaLskdRQc0vTZSYmCj2U21vmTNDnkGyhlkTu1rYKJ6sY8eO4k0J0ojksqvvBxUQECBulA1K8WiNgdyA3bp1a5JYY/SLVjA3xI4JB2sPnhFijRpm20SsEWRdI7HG7ajqxUe5ag/09hRX8YWcfGBVbugTIe6pJhsVPa2Xr9+pFmuX3+Y0Yo2xD5YMUS7pYVfsdtYYPXo0tmzZIsp5zJs3D6GhoYiOjhYJBQsWLBDxbASp00WLFmHOnDnC6kUi7EKUl5cLixK5QxljoGUJhvrZUbCpnQ0euNhGtdcILUPUh92hDaFli3J5D+syMCoQV3VvhdySCnypXKDUyefzgG1r5PjqycCtM+SYYVQsCQcs2OyK3QQbWb6oLMf48eNFvbSbbrpJJBZQUPyjjz4qLHAEmf2oBtuLL75YZ+AemU7J7VnThEoxaw8++KAQgYzzQy6xKuUftTyxVRxZbVJyS7E+zoatqDQsGaLGcQHYAq2UC5f3sD4TB0h3zef76xBsy18BfvtWjq+fAox7QI4ZRoXii+kYTXhzSyq7Yne/DJXpoBIdDFMfmlUl0I7dDaiUB1kdqA1Vp1AbWr/YwtYoyMLmTeU9yitgMts8zNaloFZVlMxD3/mTeaXqrMIHzwN7f5DjW6YD19wlxwxTA02ssTvU/rByYnSHZlWhmlz2wqaN3mtSwTXYGovmFs0rZbeoNaFA8ckDZXcCi1v07aeAgzvkeLIyHn27HDNMLbjDgeNgwcboDi3hwF7xa7+eyMW2YzlifNcgG7bZIXeoWXXxufPB7kJUu0VZsFmb22Jk8sGq2Azgf48ACX+Ix3jg38Al18oxw9SB1kM0gC1sdocFG6MrqLq9VuGemoHbg7Vq5feHh9u4DIDmDvVufhq8KyEtbG5cj80G3NA7Al2CPfFu0n+B40cAL+U7SU3cY84vs8QwNam2sLF8sDe8xRldocWv2Ss+guIxvjmiukMH29gdygkHTYJi2Ei0UfkJtrJZF6+SPOwpfAf9qzJR7BUAPL4Q6GacWpSMbaCLaU2w2euCmqmGtzijK+zd8J1KeSRkFaNXhD9GdgpRZ22ExcLG8WuNpbq8B1vZrEZmKvDqNLQqycJJt2BcHfoQENVVXcgw9VNqqoRZEW1e7u5wb0Rvb8a6sGBjdIXW8D3MTvFrWqP3qUPbi3ubwhmiTYbj2KxMShzwxsNAYS7QJhr3dH4Cv+V7Y0N8lroCw9QPu0MdC291RjdQAwAtZTzADhlISdnF2BAnT1T32jo71KwIjgpVsHlyr9vGEqh8D6jzQVG52fLdYJpJ/B5g3t+A8lKgQw/gH0tx46BosWjNgXqK6DJMDSyCjRMOHAILNkY3aPFrdIK2B+QOpYD2G/tEoG2QjUWUFr/mYR/LoZEI8pbbjLsetIB9PwHvPC3HXWOAJ98Ww3F9Wov7z/adRj6XT2EugJYhyiU9HAMLNkY3aG4ve8Wvfa3WXrO5dY2wuEM54aCpaHFs3PWgmVDngo9elONeQ4FH5suxQu+IAHHBQpaTL9XwAIapj+qiuSwdHAFvdUY3WPqH+tpesG09liPqr1Em4vj+bdRZG2LJEOX4taZCAp7alLFgawY/rpK9QYn+lwIPz5XjGtyufv8/358h7hmmLkjUay5ROm4y9oe3OqMbik3yhBxiB8G2Vq3wPt3Wtdc0OEO02Xh5uAkrW0VlJXc9aArffgB8874cD7kKmPovOa4FtaoiUbwxPhuJWcXqLMOcC8evOR4WbIwuoKBywtMOfWbJUrNeTTa45yIbdjbQUIQGW9haRrVblAVbo1jzP+D7z+R4+PXA3f+Q4zoI9/fC5EGyITy7RZn6oJIeBAs2x8GCjdEFWkC5dmK2JVTKI/lsCfq3DcSQ9sHqrA2h/qGUAkt1i7h2UbOoLu/BbtELsuJV4Ndv5Jh6gk56Qo4b4Oa+NVpVMUwdWOLXuKSHw+Atz+gC7URsF3eoakV44OJ24t7mWNyhnHDQXKjMi6+nh3Cba64Zpg6WzgH2bJHjv9wP3DJdji/A9b1ao2drf/yZVoBfj+eqswxTDbtEHQ8LNkYXaK4uWzd8P3ymSMTqEPfYIzuU4IK5VsHS9YDj2Orm3aeB/b/I8W1/A669W44byR0DZXgAu0WZ2pirarSk4gxRh8FbnnE4WmwEZQJ62NhlSNY1Mu1TZmgrPy911sZw/JpV4PIeDbDgMSBujxzfrQi3y26R4yZwg1qT7dN97BZlzoWO0ZT04+lu+2M0Uz8s2BiHY8/4tXWH1Ubv9rKuEewStQoUx0b9C6l9WZU6xyi88RCQfFCOH3wZGHK1HDeRizsEY3TXMJwuKMOXahY1wxDsDtUHLNgYh6NZTIJtHL+2KSEbu0/mC2F4Ux8ZZG1zSKxRWyrCgw92LYGu7mnfUfNpLu+h8vJ9wKmjcvzo/4C+w+S4mYyPkTXZ1rBgY2qgCTZ7tAxk6sdugq2qqgoHDx7EwoULsXTpUmRl1d1sOD8/HytWrBDr0fr0vJoUFBRg//79MJlM6oyksrISCQkJ+OCDD3Ds2DF1lnEGtPg1Wzd8p1ZUxMP2qr1GaO5QLx95z7SI6mxRFxdsJUXACxOBrFPKd8sbePoDoEs/dWHz0dyi1KrqTKFqGWZcHi7poQ/sJtj27duHuLg4zJw5ExMmTBCiLDf33GwkEmOLFy/GmDFjxHokwHbv3i2W5eTkYO7cuVi2bBm2bt2KiorqA7bZbBYi8NSpU7j33nvRtWtXdQmjd0zmKhHQStiyevbZYhO+1Rq9D7ajO1Rr+M7xa1aB49gUzmYA/56sXN2eVc6gwcA/lwORndSFLaNzmB/uGKjWZGMrG6OiWdj8OOHAodht68fGxmLUqFFwd3dHYGAgBg4ciKSkJHWpJD4+HsOHD0dUVJRYj4QbCT2ypoWEhGD27NmYNm2aGNdk586d6NWrF6688kp4edkpkJyxClr8mq1N7ZT5lppXiqEdghHTNlCdtQOahY0zRK0CXeH7KbcSk1m5yZOIS0Huz5fuUc6gxUBoBDBnJRDcSl1oHW7pq7aqOsDJB4ysv6bVYPPxZMHmSOyy9cvKyoToCgoKUmcUpe7nh5MnT6qPJGQpo3kNHx8fcSNrGgk4tzqyU+g5JPzCwsKEO5Qsd2SNY5wDzbUVrLq6bIXW6P2BoXaqvabBCQdWJ0gV95rYdxmOxsoEgyrl5NkmGnjhM+kOtTLj+rRGZKA3th7NwYHTheos46qQda1K+UcXSoxjcauqHSRmA0pKSrBq1SpMmjTJIsh27dqFlJQU4R7VIJcpxafRHImzjIwMLF++HDNmzLA8r/Zr0eOXXnpJWOauv/56IdY+/vhjTJ06FaGhoeI5NUlLS1NHksLCQjHXp08fdcb5oe1I1spx48bB09O2QqilHMkqFW7RHuE+8LPR1duhzFJcsyIRlco3/djf+sHfXmZ9cwW8MuVFialtF3Ffm/T0dPj6+ooLDqZx5JWZcSK3XLhHu4RaX7DUx+HDh9G3b1/1kX3xSdyL0C/+K8YVkZ2RPeVlMbYVz/+Ujvf+yMLfR0TiyeHS4uYs0DmgtLRUeGqYlpNZXIH0AhPC/DwQHWzd31tycrLYT3QMNAqZmZmIiYlRH1kH2k6RkZH6yhLt0aMHioqKRJzapk2bsHr1anh7X/gL0q1bN1x11VXw8PBA69atcdFFF53nbmX0BwkoEmuErcQasSEpT7zXbb1D7SfWFNwqZGJMlTtfmVqTQG93uLu7if6ztF+Njt+B7RaxZurQ0+Zijbimq/SGfBXPXQ9cnbIK2x+jmcZhFwsbuS2XLFmCiRMnWiwJZGGj+ZEjR4rHNSHRRsvofvv27cKaplGXha0u6x0xbNiFU9zJukYZqwMGDFBnnJ+9e/eK25QpU3Qd05dbWoGj2cWi5VC/yAB11voMWbgLf5wqwHdTB+O6nuHqrB0oyFE+ZKZypAsEWtftik1NTRXf2/BwO/5dBuBodony/TGhayt/m2cXa1AcLsXe2pXtXwJrF8txryHAw6/KsR0YvGAX9qUV4PtpF+Gq7taNk7Ml2dnZ4rzQoYMds8ENTEJWsQhd6RURoFwsWffiMzExUewn7dxtBMgzSNYwa2JXCxtZvjp27CjelCCNSC67+n5QAQEB4kbZoEOHDlVn64Z2NIkSLR6OXptcrWwO1z8Fai0tWxbMXX8kS4i1cH8v+4o1gltS2YxAS7aogePYNn1cLdYGXm5XsUZM6M/Zoq5OpXI+1Up6+LKFzeHYbQ+MHj0aW7ZsEUkB8+bNE/Fl0dHRIqFgwYIFQmQRpE4XLVqEOXPmCKsXuTsvxK233oq1a9cKKx69FmWh0msz+kYrzWDL/qFaX8Tp9qy9pmFpScUJB9ZGS1IxbHmPrxSh9p0i2Ijh1wP3Py/HdsRSky32tKWsA+NaUCa2SW1JRTfGsdjFJVoTyhglixhlfVobEn+UrEAWvcbCLlHHsfdUvrgf0j5Y3Fub0wXlGLxgp7iP/7+R6NnaX11iB+hnlXaUKjoDHborv7S6v+/sEm0+R84UodhkRp82AXYp6Gk3l+hnrwO7N8nxmInAjX+VYwdw/dI/sTE+GyvuiMGdg2RzeL3DLlHrkV1swvGcEnGB1MMGx092iTYOhyUdUJkOW4g1gjIimyLWGMdRqFpGvGxYLJcavZNYG9kpxL5ijSDrGok1KkVTj1hjWobmSs83UpuqD1+oFmvjpjpUrBG39lNbVR1gt6grotVf4w4H+oDPJIxDsDR8t2HB3K/VRu8PXNxe3NsVS/01jl+zFdVtqgziFl30JHDgVzkePwu4+k45diDkFqXq9nTxk5Jbqs4yroLmCvf3ZqmgB3gvMA5BO8mG2Ch+7ffUfNHsnbjnIgckoHD8ms0hwebp7o6CcrNoCO/UvDkdSIqV43ufBS69UY4dTFSQDyYPlK5QTj5wPapbUrGFTQ+wYGMcQmG5tLCF+domxm6tenKZMrQdvBwRLMsZojaHdiu5RSkMN8+Z3aKvTAFSE+X4oVeAwVfKsU64sU+EuP98P7eqciXKzZWcIaozeC8wdof6QBLubm4ixMvaULz/erXRu0Osa4TFwsaCzZZodaGc1i36rzuAM2qLvsfeAnpfLMc6gtyiXVv54beUPGG5ZlwDEmvUkorqZDL6gAUbY3fy1ZOrreqvUbwN9UBsF+yDK7s6oOVTRbloSyXwsE9RV1cl2FeNY1Mttk4DWWCfuQXIlRcWeGYZ0Km3HOsMKucwcQDXZHM1OH5Nf/CeYOyOVuw0RD3ZWpuv1EbvDzui9hqhuUNt0JibORdy1QR4e4hsNmpV5RTknwX+cRNQUii/Iy+uASL0XYLiht6yJtuqWHaLugqaYAvg+DXdwIKNsTuWgrk2iF+jTLYN8dJqce9gdoe6AoHeUvhrmce6JiMFeGGitMD6BwOvfKN8gFB1oX65tHMoRnYKRXJOCb5Vww0YY2OxsLFg0w0s2Bi7QoGs1O6E8PKwfgAbuUOp2CO5QjuFOUgwWUp6cIaoPQi2tKnSuYXt+GFg7lQ5Do0AXv6S+vbJx07A7TGyJhu7RY0PHaE1webrxTJBL/CeYOxKfqk8qVq7ibDGusPy6t8htdc0OEPUrgT5esKLynsogq1Cr+U9jvwO/O9ROW4TDbzwmRw7EeNUtyi1qsotcbKYQaZJUGKYSbm49nCzTUuq1QcycM+qQ7hnQwZu/+wI/rM1WXQtYRqGBRtjV7T4NS1Y3Jr8ejwXPx49K8Z3DXZQGx2zctDRXKJePvKesSl0OpEJLDot7/HHVuC9f8hxx97AP5bKsZPRK8JfWNmov6TWo5cxJlo5D38bXFg/t/koJq44gOV/pmNXeik2JpzFs5uOYuTiPZbOCkzdsGBj7Iot49fWqskGDw1zYAC3Jta4RZpdCbR0PdCZYPv1G+CTl+W491Dg8bfk2Em5qa+sycatqoyNreLXsopMeOnHZPXRucSmF+Ct39QSN0ydsGBj7AZVozdRf00FandjTejK7Fst2cBRtdcIKulBcMKBXdFlHNv3nynK5n9yPPgK5Upirhw7MVSTLdzfCxuV31p8ZrE6yxiN6h6i1j1O71NEWUP8fpLr/DUECzbGbmj11/xsUIiRkg3izhShc5ifaPbuMLgllUPw8XQXcZGU1FKoB9H2zfvAtx/I8cgblauIf8qxk9PKzwuTBsqabPSbY4yJZmGzdksqzdVaH8UXWO7qsGBj7IbmrrJFwVyt0ft0R9Ve07BkiLKFzd5oblGHl/f4fB7w4yo5vnoyMGGWHBuEG3pzqyojYzJX2SxDlIqZN0THUI77bQgWbIzdsMSvKVfp1iQpuxgb4rVG7w5KNtDgGmwOQxdu0Y9eAn77Vo5vfBAY94AcG4i/9ApHTGQg/kwrwM/JueosYxRKKsyi9BIVpbZ2fii50xuKi7u5rywdw9QNCzbGbpQqBwLC2hY2SjbIL63AdT3DERXkwCu08lJAjdGDO/+07E2Qjye8PdxRWF4hrAR2552ngX3b5Hji48CYSXJsQG7vr9ZkY7eo4aiOX7PucTo1rwwTP90vynfUbiZP7/XGuB64pkcrdYapCz6rMHZBc1PRCdXarD8i3aEPXNxO3DsMrr/mcALViwG7l/eY9zcgfo8c3/88MGKcHBuUmq2q9Fr6jmketijpkV6giLUV+7H7ZD66tPLDzw8PxeEnRuDj6yPx07QByJ1zBZ68rJO6NlMfLNgYu1CgFcy1snVt69EcbFfdMhP6y2Boh2HJEOWEA0cRpLapsmt5j1fuB1Li5Hj6a8DAy+XYwAztECysIXQi5s4HxsLaJT3OFJWLumu/peShY6gvPpscI74/fdoEYHiULy5uH2STrjdGxG6CraqqCgcPHsTChQuxdOlSZGXV3Y8uPz8fK1asEOvR+vS8mhQUFGD//v0wmUzqDFBUVIQPP/wQ8+fPt9yOHTumLmX0gHYCDbNy/TUtU+3RS6PFvUPh+DWHE+wrTzIF9moE//x45YyUKsdPLAZ6XiTHLsDNak02zhY1FpaEg1puy+ZwttiESYpY++V4LjqE+GDl5P4YFu3ALH4nx26Cbd++fYiLi8PMmTMxYcIEIcpyc88NWCUxtnjxYowZM0asl5CQgN27d4tlOTk5mDt3LpYtW4atW7eioqL6Cpqe5+Hhgfvuu89yi47WwQmcsVCkth0J9bNehwMKLt+oJhs4tPaahsUlyhY2R0Eud4plo7Y6NrWy0YXk369XvoTqMeyfnwDRPeXYRaBsUWpb9Nm+0zhdoH73GaeGulhQaRx3N7cWW70oLGHipwew7ViOiC3+TBFrIxxZcskA2E2wxcbGYtSoUXB3d0dgYCAGDhyIpKQkdakkPj4ew4cPR1RUlFiPhBsJPbKmhYSEYPbs2Zg2bZoY16SwsBAREREICwuz3Ly8rF9Jn2kexaq1gw4C1oSu7ClDlFrmDGkfrM46iAqTvBEe1m+7xTQerU+t1rfW6hQXAE9cU+0Cf3ktEK6DCwY70ynMF5MHtRWNwtktagy0xLCWukMLlWM+uUF/SDqLNoHe+OzOGIzqHKouZZqLXQRbWVmZEF1BQUHqDODn54eTJ89tQ2E2m8W8ho+Pj7iRNY0EnFs9J3yy1JGFbdeuXeJWXMwVuPWEVjDX2tmh69Taaw87uvYaoblDPb3lPeMwgrU2VeU2sLBlpwPP3irHtK//u0U5u1Uf11wNLflgzUGuyWYELPFr3s2XBmSlI7G2OTEbrf29hBt0dJcwdSnTEtyqageJ2YCSkhKsWrUKkyZNsggyElYpKSnCPapBLlOKT6M5EmcZGRlYvnw5ZsyYYXleXa9FsW5kibv22mvFc1avXo0nnngCoaHnK/q0tDR1JCHrHM316dNHnXF+aDuStXLcuHHw9HS8tedYTplyxVWJDsHeaOVnHdGWkF2G6z5NQolygDkyvS/C1NglR+FepFw0FOSg0i8Q5hAZ29MY0tPT4evrK6zCjPWIyypFubkKvVv7wttKAc0nf/sRQ3+S3QsqA0KR+cgiMXZlqDL9ZR8l4FSBCT/e3QN9Ixwfv0nhM6WlpcJTwzSNlPxy5JaYER3i3axjqqmyCg98cwKbjxUgRLlAf/+Gjri8Y6C69HySk5PFfqJjoFHIzMxETEyM+sg60HaKjIzUV5Zojx49RAIBxalt2rRJCC9v7wtbLGjj3H333WjTpg369++PK6+8En/++ae6lHE0hWqaeIgVRdWGpDwh1q7tGuxwsUa4qUkwVV5cqVsPBKgWAmslH3ilHbWItYrwdizWVKjX5A09ZIjKt8pvknFuyiqk/cbXs+kXOVTe5cH1KUKsBSm/v3fHNSzWmKZjFwsbuTqXLFmCiRMnWiwJZGGj+ZEjR4rHNSHRRsvofvv27cKaplGXhY1coKTQyW1KkMXt6NGjuPnmm8XjhiDrGmWsDhgwQJ1xfvbu3StuU6ZMcXgsHxVhPJhRKMbWjDMbufh3kSb+9b0DcZOareZQMk4A5WVAZMcmZYmmpqaK73F4eLg6w1iD7GITjueUIMzPC11bVYdZNJvHr5b3nfsCsxbIMSP48WgOrnp/ryjTQLW1HE12drY4T3TooINQCSeiQlFcB08XwqxIgsHtguHeRM02fvl+fHHwjHKx5IHVd/XHX3pJd3lDJCYmiv2kncuNAHn5yBpmTexqYaP4so4dO4o3JUgjksuuvh9UQECAuFE26NChQ9XZ+tmwYQMOHz6sPoKIjevUiYvw6QGtYG6gWh/LGmxKyBZijTICdSHWKs3VGaJsYdMFFMfmpvyzSpuqeTPFXYVPAIu1OhjTLQyXRAfjyJkibEk8q84yzkaJySzEmo+ne5PF2qRPDwixRqVAKGatMWKNaTp2c4mOHj0aW7ZsEeU85s2bJ+LLqPQGJRQsWLBAxLMRpE4XLVqEOXPmCKtXt27dxHxDXHPNNfjuu++EC/Wdd97B2bNnhWuUcTxawkGIr/UEm9boXRe11wgSa2SodvcArJwJyzQPKklARZorKitF27Jms3EZkBIvhnG3/0PcM+dzSz+1VRVnizotzS2Ye+fKg/h8f4aIFV15Z3/c0IfFmq2wi0u0JpQxSm46zX1pTUj8UbICWfQaC7tEbUtseoEwtVOzaLpyaynk6hqycBdO5JRi/2PD0b+tDmIkCnOBHOVE5RsARLRXJxsHu0RtB1XhT8svQ2Sgjyja2WSOHwL+N0uO73sOsW6hohwRcz4HThdiwPydwgWd+swoq1XJbw7sEm0eJ/NKcaawHO2DfdE2qHHZ7veuOoRP/kyHh7sbPr+rP25ThXtjYZdo43BY0gGV6bCFWCMoI7IpYo2xLSTU6EZYQ6wRVHuNxBoJNV2INYJ7iOoSS3mP5hbQ1cTasL8Ag0bLMVMn9Fukzgc5JSZ8eVBawBnnwtL0vZElPaasPizEGkFu0KaKNabp2F2wMa6DFr/mZ8Wr7fVHZEuz6XqovaZhaUllnKtEI0DBzxRTU2wyW05GjebN6fI+NAK440k5ZhpEc4WxW9Q50Zq++3pe+Hg97YvDWLZXlsgiN+j4/izW7AELNsZmaA3fNUtHS9mXXoAN8VKw3aOHVlQamoXNmxMO9Eag+t2jNjmN5tsPgdREOX7mI3nPXBBqVUWxqmQFpwxdxnmg+LUytSXVheoWPrT2CD74XYq1FXfEYNIA67r/mPphwcbYDEvDdyv1D117MBMmc5W4mtPaDzkcsq5RlihBSQeMrghSvyeNzhY9dgD4/lM5fuBFwIs7VzQWinua0F+evNkt6lxQdwKC6uo1xMyv4vDerlNi/MmkfrhzUFsxZuwDCzbGJlDkGl2xEeSasgaade2Bi5sW2G9TLNY1jl/TI8G+nsJqQG2qGpVdtfBxeT/qZiDG8TXFnA3NLcqtqpyLskb0EH10XTwW70wV42UT+uHuwdxJwt6wYGNsglZKgWqlWYNvjmRhT2q+6Ec6tqeOMiq1+DVOONAlnu6yvIe5surCbtHXH5L3rZULgtsfkWOmSVBv0V4RAfjtRB52neTOB85CdQ/RugXb4+sTsHCH7P39wfi+uG8IizVHwIKNsQmaO9Ra8Wtao/dHR3YU97rBYmHjhAO9EqQWbS5oSLCtXwKkHZXjp2ULKqbpUHmH2/rJYtbsFnUeNMHmV4dL9P++TcT8X2Sd1Pdv64OpQ9uJMWN/WLAxNkGLGQq1Qvwa1dPS3KH36u3KzpIhyhY2vRLso8ax1ddXNCkW+GGlHD/8qqI6rHOR4apobtHVB9gt6gyQ9bk6Q/RcSTB7YxLe/PmEGL9zax9Mu0RH4SguCAs2xiZQKQXCGh0O1h7KFAVQh3YIRs/W/uqsDjBXABWy6Ts8HVugmKkfcvNQqQJqvaMFV1ughJFFatmOKyYAvYbIMdNsRnYKxRVdw5B8tgTfHGErm94pqagULakofIXiPTWe3ZSE1346LsaLbumNh4axWHM0LNgYq1OkWjI8rNSm6Vs91l4jNOsaizXdQ7GPhFYb0MIbatxaVBfgZnXMtBitxy+7RfWPZl2rGb/2/Jaj+M9WKdYW3tQLM/R27HVRWLAxVkc7KQZZIX5t98n86tprestKYneo06AJtnO6Hqx7F0iXJyX8nzJmrAYlHxCr9p/G2RLVCs3oklJLhqiUA//6/hhe/CFZjOff2BN/G6mTns0MCzbG+uSrBXOtEb/21WFZNZ3q/VBDb11haUnFCQd6h5JfRHmPMjNEt7SEP4Gtq+XCR+YpR0I+FFqTHq39RUFVckFz5wN9U1ohC94EeHngpR+TMUcRbMSb43pi1qU6S/JycfgoxVidwnJpxWhpwVw6sW6MyxbjaXqqvabBNdicBspeJCtbZVUV8gqKgbf/LhdccxfQtb8cM1ZlnKVVFbtF9YxWg23BjpN4brPMlH7t+h544jIWa3qDBRtjVbT0cKJmAGtzoBY31I4q3N8LV3YLU2d1QpXyOTWXqBe3pHIGNBd9wVuzxT069gKunyLHjNWhVlVRQT7YGJ+FuMwidZbRE9Rjl47Zn/xx2iLW5o7tjr9f3kmMGX3Bgo2xKlrBXGvEr2kZZo9eqsMYinJFrFVVSVealZIrGNsiyntsW4OCLNXi8/giec/YBLKw3xYjm4KzW1SfUIboij9P43+/yjprL1/XDbOv6CzGjP5gwcZYFS3hoKXlPE7klipX5tIdeu9FOizUyO5Qp8Pv2J/w27sZpfBE8SNvqbOMLdFqsn1xgAWbHnlrx0nMU4vi/vvabnjmyi5izOgTFmyMVSlUC+a2NH5trXJFfqawHCM7haBzmA5FkSVDlBMOnIKyEuCdpxEERWiPugn5EV3VBYwtoTZyF7ULwh9pBfgpOUedZfTAW79Vx6w9NboTnhvDYk3vsGBjrIbJXCUKMBIt7SGqlfKYPlynKeUVWoYoW9icgjeni7ugTt2BYWPPLe/B2JTqmmxsZdML7+xMxSNfx4vxtEva4fmr+ALGGWDBxlgNzR3q71VdgLE5/HI8F1sSz4rx3YPbinvdwQkHzsPaRUBmqhgGP/qqyBil8h7UkoexPZZWVfvP8DbXAe/vPoXpX8WJMWXfPzysw3ktqRh9Yre9VFVVhYMHD2LhwoVYunQpsrKkBaU2+fn5WLFihViP1qfn1aSgoAD79++HyVR3McbY2Fjs2bNHfcTYE81q0dL4Na3R+xS9Nhmm+DWzdP1y30mdc2Q3sH2tHD/1vshcpmbwVcq/PLay2YUh7YPxl16tRU/gLw+xlc2RfLgnDX/98ogYP3lZJzw8vL3whtBFDKN/7CbY9u3bh7i4OMycORMTJkwQoiw3N1ddKiExtnjxYowZM0asl5CQgN27lQOuQk5ODubOnYtly5Zh69atqKg4/2B75swZvPPOO0hOllWaGftijYbvlGa+QU02mHaxXgUbdzhwCooLgPeekeObHpLtpxQsXQ/UAs+M7dE6H7Bb1HF89Ec6HlhzWIypbMc/rpTZoC31iDD2w26CjSxfo0aNgru7OwIDAzFw4EAkJSWpSyXx8fEYPnw4oqKixHok3EjokTUtJCQEs2fPxrRp08S4NmazWQi56667Tp1h7Al5OsrNak+6FhwA6Ar8UEYh2gX7iCbSuoQzRJ2D/86U99TQ/coJcqwQrFqAC9QCz4ztIbcoHRdW7c9AWr56wcPYDSrdcf/nh8SYCuJSYVytZqa/N7tDnQW77KmysjIhuoKCgtQZwM/PDydPnlQfSUh00byGj4+PuJE1jQScWwP1rnbt2iWEHt0Y+6PFr/m0MNlAa/T+qJ7711WwhU33fLEQyE6T44dflfcqFK9D4oGsuUXlbGWzBx1DfTG+fxtRupDdovZlZexp3L3qoBg/dmlH0XKKsDR9Zwub0+BWVTtIzAaUlJRg1apVmDRpkkWQkcBKSUkR7lENcplSfBrNkTjLyMjA8uXLMWPGDMvz6notcoV+++23uPfee0X8Wu3XrUlamnoQVyksLBRzffr0UWecH9qOZK0cN24cPD3tE2N1qsCE7OIKhPt7on2QlzrbNJJzy/GXz5KQW2pG7F/7IDJAn/FhnlmpcKswoaJ1B1R5Nu+zaqSnp8PX1xdhYTrr5ODE+CT9idA1b4hx9oOvoyL8fNd6eqEJmUUViAz0VL5njduHhw8fRt++fdVHTFNZl5CHv36bgkujA/HFeNuVkKDwmdLSUr54V/hG2eYPKtuceGBQOF6+svq3EJ9dqly0VKFXa1/lQtsxMWwUvkT7iY6BRiEzMxMxMTHqI+tA2ykyMlJfWaI9evRAUVGRiFPbtGkTVq9eDW9vb3Vp3ZBVbvPmzRg7diw8PPhKwVEUlsurtRA1Pqg5bEzKE2Lt0ugA3Yo1VJqFWCNaKtYY6+NenG8RawXX3l+nWCMCveShT/veMrbnmq5B6BzqjV9PFuJgZok6y9iKDUn5FrE2ZeC5Yo1KMJUpNyg6zVFijWk6drGwkahasmQJJk6caLEkkIWN5keOHCke14REGy2j++3btwtrmkZtCxtZkl5//XURF0dQ9ik979prr8XUqVOFS7UhyLpGzxkwYIA64/zs3btX3KZMmQIvL/uIir2n8sU9ZYQ1lzHv7cXWYzn4/K7+mNA/Up3VGaVFyiXUKZkd2q7ltYtSU1PF9zg8PFydYVrEi3cBZzOAfiOAaS+qk+dDR739pwtQUVmFgVFB8GxElhzF4VLsLdN8/u/bRLz58wk8d1UX/PuabuqsdcnOzhbniQ4dOqgzrgdl2t/8cawYPzSsA965tbcYa+SVViApu1i4Q/u0CVBn7U9iYqLYT5q3zAiQZ5CsYdbErhY2snx17NjRkr1JGpGEVn0/qICAAHGjJIKhQ4eqs3XTq1cvIQbnz58vbo888gjuvPNOTJ8+/YJijbEOWneDxpz06mPr0Rwh1gjdijVCSzjwMc4BxjCsni/FGlk+GxBrBIXDav1u6eTF2AduVWV7vo3Lsoi1By9pf55YI6oTDtgr5UzYzSU6evRobNmyRZTzmDdvHkJDQxEdHS0SChYsWCDizghSp4sWLcKcOXOE1atbN9tchTHWQ0s4aEnD93Vqo3e6GtQ1nCGqTw78CuxYL8dPvS/vL4ClvAfXY7MbV3QNw6jOoTh8pgibEmT5HsZ6fKds0xuW7RPjqUPb4b3b6o7N1gRbACccOBV2E2z+/v6iLMf48ePx2GOP4aabblKuct1EUPyjjz4qLHAEmf2oBtuLL75YZ+AemU7vv//+ek2ow4YNqzfhgLENmmBrbv9QOmFqrah0W3tNQ6vBxi2p9EOe8t358AU5vuNJIKJxoj9YvcDQ6gcy9mGcVpONs0WtCnWH+cuHf4rxfUOi8MH4+hNktAxRXzWWk3EO7L63yE1JJToY46CVRgj1bV683NpDmUjILEbnMD8M7dD8GDibQ4FPmoXNk93tumH+I/J+0Gjliu0vctwIfDzdEeDtIeoHFnJ5D7tRs1UVl1WxDj8ezcG1H/whxncPjsKyCf3EuC7oMEYlbQhuSeVc8N5iWkSJeqXmRv+aGcJGMRfEo5fquPYaQda1KuXz0gfliw59sOq/QG6mcuYJAO57Tp1sPNSmiuA4NvsRExmIW/pFIKfExJ0PrMD25Bxc/f5eMb5zUFt8Mql+sUaUVJhhqqyEl3IMa0ncMWN/+KzDtAjNHRrYzHIehzOKLO7Qey/Sed0kizuUEw50wf6fgZ0b5PjJt+V9Ewnyld9bLXGGsQ839I4Q9+wWbRm/Hs/FVe//ASr1MGlAJFbcceH6X9pFNnc4cD54jzEtIl+1TDQ3fu2rw5niZHldz3CE++u8rhknHOiHnAxg6b/k+O5/AK2bF/tIcWxeHu4oLK8QtakY+0Bu0dYBXvjqUCaOneWabM1hZ0oerlryhyhNQ10kVt7ZX13SMJYMUU44cDpYsDEtQov9aW782kbVujZ9uBPUTLI0fWcLm8OZ/6i8v/gaYMhVctxMgtTSBuwWtR+Rgd64tV8bMWa3aNP5PTUfVytijWLRaDuunNw4sUZo8Wss2JwPFmxMs6Fg7Uq17rJXM6plU1r/L8dzxfjmvtJFomssFjZOOHAoK98A8rMVpRUG3DlbnWw+WjkaLu9hX27gbNFm8WdagRBrlLBxk3LcXHlnDDyaEIvGGaLOC+8xptnkl0rrWnOv1L7RGr3rPdmAqFDEmlk9oVOXA8Yx7PsJ2PWdHD+2UN63kGA1jo3Le9gXcov2bxuI307kCfcec2H2pxfi6vf/EKEoJHhXTe4Pb4/Gn8bJ7a+5RDlD1PngPcY0G80iEdqM+LXsYpPFHTrt4vbiXtdo1jUvtq45jKw04CO1g8GUF4BWbeW4hdAJL9DbU2TOsZXNfri7ueHGPmryAbtFL8ihjCJhWTtbYsJfeoWLmLWmWslKTGZUKf/YHeqcsGBjmo1mkWhO/NraQ2dEsHGvCH9xla17uGCu41mgxq2NGAcMuEyOrYTW9SBPtRoz9sHSqooFW4PEZUqxlllUjmt7SLFGNQSbCiccODcs2JhmYa6qEhYJwq8ZsRAb4mRbmkdGyg4XuscSv8YJBw7h09eUK4RcoFUkMPFxddJ6aHFslC3K2I8RHUNwVfdW4uLt68OyPR1zLtSk/RpFrJ0uKBPbisSa1qWjqVT3EOVTvzPCe41pFlr8GlWLbyr70gos7lBqoeIUWDJE2SVqd/7YCvy+WY7/Nk/eWxmysJFrlAK5KZmGsR+W5AO2sp1HsiJkybKWmlcm+rCuUsRac0soEZpg8/NkC5szwoKNaRZarE+Ib9MPHtTonQ4cFL8S2Ayzvt2pVMSppSWVt7xn7ENGCvDJy3L84EtAmCwFYQuq3aJsZbMn5BYlsbz6wBkR28pIUnJLhWXtRE4pLu8SKsRaS2tVaoLNhzNEnRLea0yzsDR8b0b8muYOnTHCCWqvEeWqdY2yQ5vbf4tpHgsfk/eX3wr0HS7HNqK6vAfHsdmT7uH+uC0mQgTEs5VNciq/TIi1o2dLcGmnUOEGbRPYsotF6nBgMlfC090dXtySyilhwcY0C634YlNbUn1zJBO7TuaJK+qxPcPVWZ1jcYdywoFdWf4KUJQPtIkGbp2pTtoOLS6IM0Xtj6VVFQs2nC4oF2ItIasYwzuGCMtaVFDLQzFIEBP+bF1zWnjPMU1GO6E1p3Gw0zR6rwnVYCO4h6j92Pu9cvtBjme8Lu9tDBV/JisbtfrRWq4x9mFcn9boFOqL7xKycfhMkTrremQVmXDtB3/giLINLu4QLMRa+xDrxM1WJxxw/JqzwoKNaTL5qsuoqfFr6QVl2BAv3aFOUXtNg3uI2pf0ZGD5XDn+63+UL5oMSrcHljZVbGWzK6HKsYSq9hOuamXLKTHhGkWsHThdiIvaB2HVXf3RURGx1sIi2Likh9PCgo1pMpr1oan116jR88ncUlF3jeqvOQ2aS9SLEw7swkK1bMeYSUCfS+TYTgSpFyGFHMdmd8a5cLYoxQRf+8GfIoN+UFQQPr9zALqEWdeir4WxcIcD54X3HNNkitVYiKZ2ONBKeTiVO7S8FKB6c5Rs4M5Xpjbn45eBkkKgfTfgxgfVSftBWctUqoa+49oJjrEP1/UMx8XRwaJX5rZjOeqs8aFSMtcu+RN7UvPFxSxZ1rqFW1eskZtfs7BxD1Hnhfcc0yQ0seam/GsKu0/mW9yh913UTtw7BewOtR9Ua+3PrXL811fkvQMI8pYXIlzew/64Wk02uiggyxolYvVtEyBi1nq2tr73gRIOKquqRP01zg91Xuwm2KqUL8vBgwexcOFCLF26FFlZ0tpSm/z8fKxYsUKsR+vT82pSUFCA/fv3w2SqrtdTXl6Obdu2Yf78+Vi5ciWKi4vVJYy10Qrmag2zGwtlh5qVq7zx/duI4G6ngQWbfUhNkt0MiIfmKl+wVnLsALR6bFzew/5o2aLUqooalRsZsnpRgsGOE7kiROTzu/qjjyLabAGV9CC4w4FzY7e9t2/fPsTFxWHmzJmYMGGCEGW5ubnqUgmJscWLF2PMmDFivYSEBOzevVssy8nJwdy5c7Fs2TJs3boVFRXy6pcE3erVqxEcHIxZs2Zh9OjR+PDDD1FSUiKWM9ZFq7/WlPg1urLT3KHThzuRO5Sw9BDlDFGbQYWJ33pCjq+7B+g9VI4dRLCvp7Agc3kP+0PB9tf3bo20/DJ8eci4VjaSoiTWtifnijp0FLPWL9J2PZU19z4nHDg3dhNssbGxGDVqFNzd3REYGIiBAwciKUm5qq5BfHw8hg8fjqioKLEeCTcSemRNCwkJwezZszFt2jQx1iCRR+vS67m5uYnnent712vBY1qGFozdlPYoaw9lYu+pAmG5GNMtTJ11ErSSHl7ckspmfPIf5YxSDHTuA4y9T510HFSuhr6r1C+X3aL2xxXcotcpYm3r0Rx0beUnLGsDomwn1ggtfq05fZ8Z/WCXvVdWViZEV1BQkDqjfHH8/HDy5En1kcRsNot5DR8fH3EjaxqJMhJktSHL2uTJk+HhIa8cyB1KLtLQ0FDxmLEedJVWJa4NAY8m1GDboNVec5ZG7xoVJnkjPFvWEoaph50bgX0/yfEDL8p7HaB1PWDBZn9IsFFC0+oDGaKHptH4y4d/YkviWVF3jhIMBrerPi/aCkvCAfcQdWrcqmoHidkAck+uWrUKkyZNsgiyXbt2ISUlRbhHNchlSvFpNEfiLCMjA8uXL8eMGTMsz6vrtYhjx45hzZo1wkr3zDPPoFu3buqSc0lLS1NHksLCQjHXp49ydW8QaDvSdhg3bhw8PZuWydkQ2SUVOJVvEpWyu7dqnMUpVVn/+pVJOFNUgd8f6IXoYOcpjeFWWgzP3AxUKWKtorVt2milp6fD19cXYWFOZnm0Al7pR9Hqo+fFOOeOf6C8c4wY64FiUyWSzpbBx9MNvcJl/OLhw4fRt29fMWZsy6ObUvH54Ry8dEU7TBvctI4oFD5TWloqvC16456vjmNLcgGiAr3w4Y0dMbit7csblVVUIT67VLnIBvpF6Cu0Izk5WewnOgYahczMTMTEWPdYRtspMjJSX1miPXr0QFFRkYhT27Rpk4hNI/dmY+jatSueeuopvPrqq/j222/Pi49jWk5hubxKC2lCwsF3R/OFWBsY6edUYo1wU92hVewOtTq0bcM+fUmMC6+YpCuxRtBFCYk1OtmVKjfGvlzTVVqdNiTliXsjcP+6E0KsRQZ44v0b7CPWiBLNHcr115weu1jYyNW5ZMkSTJw40WJJIAsbzY8cOVI8rgmJNlpG99u3bxfWNI3aFjZygZ4+fVoINo21a9eiS5cuGDRokDpTP2Rdo3i3AQMGqDPOz969e8VtypQp8PKynitvX3qByPSMiQwUtaoaA5n/qd3MRxP74d6L9HfF2yDZ6UBxAdAqEgiojpu0JqmpqeJ7HB7uJH1VrcXSOcD+X4Duym905hvqpL5IyS1FZlE5OoT4IjLQW8ThUqwsY3vIhTf4f7sQl1mEvY8ME8kIjSU7O1ucJzp0sI1VvDncvny/iMmjBu5f3D0AozrbL2SHOsxQEkfbIB+0D9bXxWdiYqLYTzW9Zc4OeQbJGmZN7Gpho/iyjh07ijclSCOSy66+H1RAQIC4UTbo0KENZ4xRfNvmzZtF3BpBr01iz+VOgDaGUtBJrBGNFWu/HM8VYo1wOrFGaCU9vLikh1XZsV6KNeJ+6RLVI1ocG2eL2h+qxn9DHzX5wMmzRSd9ekCItdb+Xlh9V3+7ijWiVCvpwQkHTo/d9iCV29iyZYso5zFv3jyRFBAdHS0E14IFC0Q8G0HqdNGiRZgzZ46wetUXi6ZBSQck6p5//nls3LhRvBaJPT1dXRkBrZxHU4JW16vJBncOaivunYoq5SBnyRDlhAOrkXwIWD1fjme8oVydBcuxDgn28YC7G5X3MCsXguokYzeMkC1652cH8fn+DJFV//ldA3B5F/vHqmoJB4290Gb0i11cojWhjFFy01HWp7Uh9ygFLzbltdkl2jhO5JQiq7gcbQN90D7kwmZ1OkgMe2s39p8uxC/Th+LSTk6WtUtlJs6kknkYaNfwRUNLcCmXaKmyTZ+7XWbe3jJDuYq7TV2gX5Kyi0WmaNdW/khJOMQuUTtz+Tt78PPxXGyYMhh/6dW434heXKL3rDqE5X+mK8LfE1/cMwBXd7d/MWjyitAxmGphDm4XrFyAqAt0ArtEG4fDkg6oTIctxBrh7+9vs9d2dSwFcxtZf+2rQ2fEgSLc38v5xBph6XBgnAOJw1kxV4o1aujuBGKN0Nyi2vefsS+aW3Stk7lFp6w+LMRagLeHcIM6QqwRlHBAYo08I3oTa0zTYXXDXBAywZabpVmdDkCNQesb6lSN3mvCLamsy89fAQd3AG7KIefuf6iT+kdrU1XIgs0hjOsdASq/+cWBM04TSzjti8NYtjdNxOGtvmsAru3pOOs59RAluCWVMeC9yFyQArV4qFcjrZeJWcWWVlTTLm4v7p0OS0sqFmwt5mgs8OVbckwZof62LxRqLaiVj59yIxd/qcF7W+qRfpEBuLVvG5wtMeHLg5nqrH55eO0RfPB7Grw93LD67gGNduPaCi1+jVtSGQMWbMwFyVfbUYX4Ns4d+s2RLGQVmTCyUwja6SyNvNFoFjZP56odpzuoLMrip+T4tr8B3ZwvVjRItSoXlrNgcwTjnCRbdObXcXh31ynRBYYsa1rShCPRMkS5JZUx4L3IXJCmxq9tUK1rj17qZK2oNMi6Rg3JCY/GfWamHj59VW7L/qOAy25RJ52LIPVCpYgL6DoEEj504bfucKZIAtEjj66Lx+LfUsWYYtZu6hshxo5Ga/pO7lnG+eG9yFwQLQ6iMRa2H4+exQ9JZ8V40gDrZsrYDYs7lBMOWsRPXwCHdso4wDv/rk46H1Tew8PNDcWmKtEQnrEvVGzWUpNNh27RJ9YnYOEO2RebLGu39msjxo6GxFqZuVJ8d72pLxXj9PBeZBqkqFyKNapH1Rg2xMlkgylD24l7p4QTDlpOwh/AV2/L8UNzlUv8ADl2Qui7T9miJNW4GbxjuKG3tFjpLVv07xsSMe8XWUN05Z39Mb6/PsQaUaIVzG1kohijf1iwMQ2iuUOpltCFoHU1d+iM4U5cuJgFW8soyAHeni3H4x8FuuqrT2hz0LJF80tVVzljV8gtOjAqCDtT8rDjhD76RP/juyS8sf2EGK+4I0Z3HoWSCvld5Q4HxoH3JNMg2gmqMfFrXx/OxJEzRSLeZGgH/VawvyCaS9Sbm743i89eV/6rAi4aA1x6k5xzcrR6bFzewzGQgV9PbtF/bj6KuduOi/Enk/rpspuLFr/GGaLGgQUb0yCF5fIERa1VLsRG1R366Egnrb1GmJXPS8VdCc4QbTo/rgKO7FbOEopgn/i4Oun8UJadr4ebiAnSwgQY+2JpVeVgt+gLW47h5R9lX+xlE/rh7sH67JOslfTghAPjwHuSqRftB09cKIbtUEaRxR067RInrb1GlKvWNRZrTefI78A378vxgy8ZLmkjwEv+BjiOzTEM7xgiOgYkny1xWCzbiz8k498/HBPjD8b3xX1D9CnWqLuBdvz2YZeoYeA9ydRLvnpiCvS+sHVtfVymOJFd2TVMtKNyWiq4YG6zyFPE+ntqB4MJjwGd+8qxgdAEGzWDZxyDI92i/9l6HM9vOSrG793WB1N1nFhFCQfUR5Ssa5QlyhgDFmxMvWgnpqa4Qx9x1lZUGpxw0DxE3JrCsLHAyBvk2GAEeLrB091NhAlUKCdDxv5Qtmigt4ci2M4gs0j9rdqB1346jmc3JYnx27f2xoM69yJYMkQ5fs1QsGBj6qWxBXM3JWTjp+QcMdZLDaJmY0k4YMHWaL7/FIjfC4S0Bm5/RJ00HmSo0JIP2C3qGLqF++HGPhEoNpmFaLMHb/58ArM3SrG26ObeeHiY/jPgLS2puKSHoWDBxtSJyVwl4iCICxVd1GLXHnKCA1mD0OflllRN49BvwLcfyvGUOYCXsTNrLeU9OFvUYdjTLTr/lxT837eJYrzgpl6YMcI5jnGlakkPTjgwFrw3mTrRTkh+ng1foWUVm7AxXrpDneVgVi/lpVK0uSufuZGN7l2asxnAkufkeNITQKfecmxgqst7cByboxjXuzW6tvLD5sRsHMwoVGetz1s7TuLx9QliPO+GnnjEibLfOUPUmPDeZOqkoJHu0G8OZyIxqxidw/wwoG2gOuukcPxa01j5hrynWmvDr5djg0MnwAAvD5SbK1HI5T0cArXIs5T4sJFb9O2dqXhkXbwYvzGuBx4b5Tx9kem7STXYKLPfhwWboeC9ydRJvmpBCPVrOOOzutG7kycbEJYeoizYLsimT4DEP4HW7YBbpquTrkEgx7E5nHE2dIu+v/sUZnwVJ8av/qUHnryskxg7C5xwYFxYsDHnQbFrJuUqjWiorcmfaQUWd+iDFztx7TUNi4WNm743yP5fgO8+kuN7/wl4OnEZl2YQ7CtPhJoVmrE/1/YIx7DoEMSmF+DHo2fV2Zbz4Z40/PXLI2L8ytjueGq0c4k1orqHKJ/ejYbd9miVIgIOHjyIhQsXYunSpcjKkpaZ2uTn52PFihViPVqfnleTgoIC7N+/HyaTWo1eoby8HNu2bcP8+fOxcuVKFBcXq0uY5qCV8/C6ULJBXJao+n5dz3AEqsHYTo1Wg82LEw7qJesUsHSOHN/xf0B0Tzl2Iaivrpe7u/juU3IO4xiqrWzWcYt+9Ec6HlhzWIxfurYbnr6isxg7G5YMUbawGQ67CbZ9+/YhLi4OM2fOxIQJE4Qoy809t4kvibHFixdjzJgxYr2EhATs3r1bLMvJycHcuXOxbNkybN26FRUV8urWbDaL14qIiMCsWbMwbNgwfPjhh0LEMc3DUs7Dt+H4NYs71JlbUWlUKN8X5bsk8Gj4c7s0q/4r70ffJmuuuSjaBQq7RR1HdRxbpqVvZnNZ8edp3P/5ITH+1zVd8eyYLmLsjGjbghMOjIfd9mhsbCxGjRoFd+XKNDAwEAMHDkRSkqxtoxEfH4/hw4cjKipKrEfCjYQeWdNCQkIwe/ZsTJs2TYw1yCJHVri+ffvCzc0NXbp0QVBQEIqKitQ1mKaiNXxvqGDu+iNZ2HEiT4yvVw+cTo3WkooTDupnw1IgKRZo2xm46SF10jUhKxvB5T0cx+B2QSJjNL2grEX9RVfGZuDuVQfF+Pmruoqbs0IOKS7pYVzsskfLysqE6CIhpeHn54eTJ0+qjyRkLaN5DR8fH3EjaxoJOBJktQkLC8PUqVMtyzTLGj2PaR7aD14rYVAXhko2ILT4NU44qJt9PwFbVsjxXbOVI4dru1uC1Dg2Lu/hWFpak23NgQxM/uyAGJNVjaxrzkyJySy6cPh4uMPDnVtSGQ23qtpBYjagpKQEq1atwqRJkyyCbNeuXUhJSRHuUQ1ymVJ8Gs2RAMvIyMDy5csxY8YMy/Pqeq2abN++HZ6enhg5cqQ6cy5paWnqSFJYWCjm+vTpo844P7QdyVo5btw4sS2aQpGpEkfPloF+6zFt6g6+zyiqwA0rj+Jkfjl+ub8nuoc5vzj2yMmAe1kxzCERqPSzX3mS9PR0+Pr6igsPveKZnYbw9/8uxvnjHkJJ/8vF2NU4fPiwsORrJCm/k2Ll99JV+f4HcoC3Q0grNOHq5UnILa3A7w/0RvsgLxE+U1paKjw1DbEhKR9Tvzkhxo9eHIFnRrUVY2fmbIkZqcpxOUS5oOgUov9Y3OTkZLGf6BhoFDIzMxETE6M+sg60nSIjI/WVJdqjRw/hyqQ4tU2bNmH16tXw9m78l27Pnj0iDm7EiBHqDNNUtIQDraJ7XWw+li/EWjflRGUEsUa4VcgklipOODiP4I1LxH3xJde7rFirC02kFXA9NofRLtAL13QNArV23ZAkQzQawyblGKaJtZlDjSHWiDI1u9+P3aGGxC4WNnJ1LlmyBBMnTrRYEsjCRvN1WcJItNEyuieLGVnTNOqzsCUmJuLnn3/GfffdBw+PxrtryLpGGasDBgxQZ5yfvXv3ituUKVPg5dW0kgtxmUUi+40qiYfVU4Ptlo9j8fXhTLx1c2/MdPbuBkSlcsI9dVSOo3so/9nPlZCamiq+x+Hh4eqMzliviLUfVsps0McXyYaaLgrF4VLsrQZd3CRkFYlsvD5tAtRZxt58cfAMxi/fj8u7hOKnh4YiOztbnCc6dKj72ETZ7eOW7RNjqrFGhXGNwtHsEuSWmtA93F8UGNY7dN6m/VSXt8xZIc8gWcOsiV0tbCSgOnbsKN6UII1ILrv6flABAQHiRtmgQ4cOVWfr58yZM9i4cSPuuOOOJok15nxIrBH1FczdfTKvuvbaJe3EvdNDLakIUU+M4z4s7P1BijXijiddWqzVBVmhqc8uNSKn6vKMY6BsURLM25NzsSc1X52tm00J2RaxRt0LjCTWCK2kB3c4MCZ226ujR4/Gli1bRAmOefPmITQ0FNHR0SKhYMGCBSKejSB1umjRIsyZM0dYvbp16ybm64OSGd555x0h2t577z1Ri41u5B5lmoZWcJGo79S8QRFrdHK6sU/EBZvCOw1cMPd80o8By1+R47ueBto1/Dt0Vbi8h+MhcWIp8dFAtugPSWcx9sM/xZj6glJ/UCNBNQEpYYzivzlD1JjYxSVaE8oYJTcdZX3qAXaJVpNRWI7UvFJRsqBHa391thrqgDB80e/4XbmK3TLtIlzdvZW6xMk5exooUq7Mw9ooZ+BQddI+6NYl+r9HgeOHgTETgRv/qk66NrVdokR2sQnHc0oQ6uuFbuEs+B3F9uQcjH53L3pF+OPX+3ud5xLddiwHV763V4xnjOiARTf3FmMjka9cNCRmFyPQ21NsB2eAXaKNw2FJB1RuQy9ijTmXCzV8p7g1EmtkWTOMWCM0C5sXl4IRfP2uFGtdY1isXQCt9E1BOVvYHMnlXcJEDFt8ZjG2HDvXLfrz8VyLWHt4mDHFGlFi6XDA51ejwnuWsaAVzK0vfk2LXTNM7TUNi2DjDFH8vhnYtlqOx8+S90y9eHu4CYuGubKKi+g6mBt6R4j79QnVHXR+O5GHy9+R4TEPXtIeb99qTLFGlKohLX7eHMdtVFiwMQKKS6tS/hFedRRcPJFTaimWSy4Fw0AJB1XKgY6svi5eDBapicCnr8nxPc8AUc7bnseeaCVwOI7NsVBvUYpn+zYxFwXlldh9Mh8j3/5dLJs6tB3eu804tTbrQks44Pg148J7lhHkq/XX6msYvD4uC6fyytC/bSC6hBkoVsektaRy8fgjsyI2Vv9Pjq+6A7hojBwzFyRYLZ+g1TBkHEPfNgEi+SC31IyNRwswbJHsQ33fkCh8ML664LFRYcFmfHjPMoIC1TpQX/zaRqO1otKwZIi6eEuqde8CKXFAz4uAG6apk0xjCPSW5T2oLVBLm5AzLYN6ixJP/pAu7u8eHIVlE/qJsZGhDP+KykrxPfTkllSGhQUbI9AsbHUVy/31eK7FHTrt4vbi3jBoFjZX7iG6cwOwfa0c3zZT3jNNQks+YLeoY6HeolFB8hh256C2+GSS8cUaQRcLRH0eEsYYsGBjRMA0XZ0RdZnTqfYaFX8Z37+NOmMgNAubp4smHJyIA1b9V47v/ScQ2UmOmSYRrMaxceKBY4kI8MZ1XUNwY49grLjDuv0c9YwlQ5R72hoa3ruMJfamrkK4FBdhcYeO7CjuDQP1D6XYLUJ0OXAxyLr4xQI5vvpOYPAVcsw0mSBfT7gp/ziOzfFc2y0Yi68zSBeWRqLFr/l5soXNyLBgYyxWgbri1745nIk/0wpEJtxlXexbVNbmaC2pvF20/hrVWzuZAPQbDoybqk4yzYEyq6nrARWXZreoY7m2W4g6ch202ElOODA2vHcZi2AL8z3fykTuUMJw1jWiwoVbUu34Bvh1HeChiPSbHlInmZbA5T0YR1BRWSVqsJGF14eL5hoa3ruM5epM64uokZhVbHGHGqr2moarZogmH6wu4UH11toYLPPXQVBLN4Ldoow9oYQDqqFJ8WucH2psWLC5ONrJxcPt/J86ZYZSf9GhHYLRLtiAbkNLDTYXcomWFgNfLJTja+8GBl4ux0yLCfD2EIVbqQG3FlPEMLaGSnoQnCFqfFiwuTgNxa9tiJPu0EdGGtACQ1mxrpghuu4d4NRRIGYk8Jf71UnGWljKe5SwW5SxD9rFAQs248OCzcXJ1wrm1opf23YsB5sTpWC796IocW8otIQDyg6tw7poSH7+CvhtA+DrD9zMcWu2gMt7MPZGE2xk3WWMDe9hF6dYLbhY28Kmxa5R8UlDYnGHukj8WlIs8OVbcjz5KaC1wQog6wSysLkpFwAF5WZRu5BhbI0m2DhD1PjwHnZhNLFWG7IOaO5Qw7Wi0nClhIPi/Gqxdt29wIBRcsxYHWoLFOTtoYg1Lu/B2B4SayZzJbw83JUbpxwYHRZsLkx+qRRsIWrzao31R7JwMKMQ4f5eGBZt0JpGlpIeLiDYqN5aerIUamMVwcbYFG5TxdgL7aI7gOPXXAIWbC5MgSXh4Nz4Na1vqGGta4TmEjV6h4Nta4Ddm4DAUK63ZieCfeXJs6CcBRtjW6j+GsEtqVwD3ssuTHXB3GoL26GMImxUi+XOGGFUd6gi1ihL1E35+lPhWKOS8Afw9TtyPPFxINyAySM6hLL1fD09RH1DrSk3w9iC6vg1trC5AnYTbBTTcfDgQSxcuBBLly5FVpa04tQmPz8fK1asEOvR+vS8mhQUFGD//v0wmUzqjKRSOQEnJCTg9OnT6gzTEFqxXMLDvTr2gZINzhabMLJTCFr7G9T6VK5a13wM7A4tyAG+XCTHVL6j/6VyzNiF6q4HLNgY28EJB66F3fbyvn37EBcXh5kzZ2LChAlClOXm5qpLJSTGFi9ejDFjxoj1SIDt3r1bLMvJycHcuXOxbNkybN26FRUV1e6GH3/8Ec8//zw2btyIEydOqLNMQ+SrBXOp2GdNqt2hBmxFpeEKGaLr3gUylN8CFcalArmMXdG6HnB5D8ZWmCuruIeoi2G3vRwbG4tRo0bB3d0dgYGBGDhwIJKSktSlkvj4eAwfPhxRUVFiPRJuJPTImhYSEoLZs2dj2rRpYlyT0aNH46WXXhLPZRqHFr8WViN+bUviWWw9miPGkwZEintDYvQM0R9XAXu+V3ZuG6635iCCfD3gTuU9lAsjagjPMNam2FQpvlvkgneVUpKujl0EW1lZmRBdQUFB6gzg5+eHkydPqo8kZrNZzGv4+PiIG1nTSMBRfaO68PBg/31TsXQ4qBG/ptVemzK0nbg3LJqFzcuAHQ6O7Aa+eV+Ob39EEW0GFt46hlq9Sbcol/dgbIMWH+lfy0vCGBe3qtpBYjagpKQEq1atwqRJkyyCbNeuXUhJSRHuUQ1ymVJ8Gs2ROMvIyMDy5csxY8YMy/Pqei0Nek1i2LBh4r4u0tLS1JGksLBQzPXp00edcX5oO5K1cty4cfD0PD+onkzphzJlpf8BkXIbni2pwE2rjiEppwzf390dMRHnbluj4GaugGemvFAwte0i7h1Jeno6fH19ERYWps40H4+Cswj97D/wPJuOwssnomjkzeoSxhocPnwYffv2VR9dmMziCqQXmBDm54HoYBdqf+ZgKHymtLRUeGqMzCnlu5WtfMfaB3shvI7Wgs5AcnKy2E90DDQKmZmZiImJUR9ZB9pOkZGR+soS7dGjB4qKikSc2qZNm7B69Wp4e/OBztoUlMu4B2/Paovl98kFQqxFBngZVqwJVOtalQH7hwb+uEKItdI+w1ms6YAgtdRCofp7YxhrosWv+Xhw/JqrYBcLG7k6lyxZgokTJ1osCWQNo/mRI0eKxzUh0UbL6H779u3CmqbRUgtbbci6RhmrAwYMUGecn71794rblClT4OV1fqbnidxSZBWVo22gD9qH+Ii5Oz49gFX7MzB3bHfMvqKzmDMk+WeBvCxF3YTowl2Ympoqvsfh4eHqTDPZ8imw4UOgTTQw/TUgNEJdwFgLisOl2NumcPhMkXBd9Y4IOC/Bh7EN2dnZ4jzRoUMHdcaYHDhdiHJzJfq3DYS3k4q2xMREsZ9qn8udGfIMkjXMmtjVwkYxZh07dhRvSpBGJJddfT+ogADl4KbcKBt06NCh6ixjLSwN31Uzemx6ATYYvfaahiVD1EBWxEO/SbFG3PwwizUdUV3eg+PYGOtB5TxIrHm5uzutWGOajt32NGVybtmyRZTzmDdvHkJDQxEdHS0SChYsWCDi2QhSp4sWLcKcOXOE1atbt25inrEOZE6lHzqhXfGTWKOs0Su7hllOMIZFyxA1SsLB2dPAV2/L8Q3TgL6Nty4ztkcr70HZogxjLUq4w4FLYheXaE0oY5TcdJT1qQdczSVK1rXE7GLRpHpglMzavfydPfj5eC6+vGcAbu3XRswZEvqqpybKcfvuyuWK47+DLXaJLv0XsP9n4KIxwD3PqJOMLWiOS7RS+crtTy+AWfnu0e+NfneMbXEFl2h6fhnSCsoQFeSDdsEyrMUZYZdo43BY0gGV6dCLWHNFqst5SCFHpTxIrBGGFmtEucyMFe2ojPAd3PSxFGtRnblPqE4hfcbN4BlrY+lw4MXnUleC97aLoXU40OLXtNi1h4YZO0BXYKQOB/t/Ab5TBBtBYi2khUkLjM3Qwgy02FGGaSnckso14b3tYmjFFkN8PZGWX4aNcVorKoMnGxCaYPNxcvN75qnqpu43/hXofbEcM7okWC1OXVDOcWxMyyH3Ojd9d01YsLkQReoJw035R2yMz8bRsyXoHOaHvm0CxJyhsSQcOG/Mh4D6hFKywdCrgTET1UlGr5AVhNoHmcyVKGTRxrQQSjigllR+yneKQyJdCxZsLoQWv0bWNaK60bsLWNcII2SIblgKHNwBtOvKcWtOBJf3YKyFliEaoAg2xrVgweZCaKUFwvw8sSc139I7dOYIV4hfU8RapfL5qR8tJR04I39uA7askGMSa0Etb2fF2Ifq8h4s2JiWUaqGtfhxwoHLwXvchdBOFpRwQO5QulK7rme4axRe1DJEnTXhIOOEdIUSVBy31xA5ZpyCIF9PeLq7i7AEE9X6YJhmwgkHrgvvcRdB+5ETdLqwuENHuog7tEJ1hzprh4OvFbGWmwlcfC1wxXh1knEWKNTI4hYtYSsb03y0HqJc0sP14D3uImglBagm1LdHsrAzJU88vr53a3FveCwZok5oYVv/PnBkN9ChO8etOTGW8h7sFmWaCYm1MnOlKMDMLalcD97jLoIWvxbqK92hhMskGxBawoHn+c3wdc3eH4AfVskxiTVqWs84JdymimkpJap1jbKOGdeDBZuLoF3V08lCc4c+MrKjuDc8ZuUEWWGSY2fKEE07Jl2hxC0zgB6D5ZhxSnw83UX/3orKShZtTLPQ6mj6q32gGdeCBZsLYDJXibo9xJakbKTklqJXhD+6hxunf1uDmNSEAyHWnKRwEe0vSjIoOAsMGwuMvk1dwDgzQd7SysblPZjmoMWv+XHCgUvCe90F0LJDqdDihjjpDnUZ6xpRrrWkciKBSmItfi8Q3ZPj1gxEsK+0jHB5D6Y5aMljZK1lXA/e6y6A5g49ml3iWrXXNLQMUWdJONi9Cdi2RtaMI7HmH6QuYJwdSvrxcndHscmMcnN15jbDXAiqBlOqFs3lDFHXhPe6C6A1fN9xIhcVyq/+xj4R4rHLoGWIejpB/FpqYnW9tVtnAN0HyjFjGKq7HnAcG9N4KH6N+oj6eXrAgy7mGJeDBZvBoasy6mFYVlGFLYlnxZxLZYdS1TlnaUllrpBN3YvygeHXA5fdqi5gjARZ2Qit1A7DNAZLhignHLgsLNgMjhYrQ3XX9p7KF7V7ru7eSsy5BBS/RgH81I7KXecHOsoITYoFOvXmuDUDY4ljK2fBxjQezR3KLalcF97zBkeLX/s9VRbKdS3rmoKztKTauQH4ea20ApJY8wtQFzBGgy6aAr09Ya6sYisb02hKK6QLnVtSuS685w1OfqkZqXll2HYsVzx2OcGmuUN1LNg8TyVW11sjsda1vxwzhsUSx8bZokwj4R6ijC72fGVlJXbs2IH58+dj5cqVKC4uVpecy+nTp/HBBx9g8eLFSElJUWcl9BoJCQliHaYauir79XguTheUoX/bQESHOGnz8+ZiEWw+8l5nuCl/X8D3y5UdVQSMvAEYdbO6hDEy3PWAaQrl5ipRg83D3Y1LergwutjzW7ZsQUVFBWbNmoXRo0fjo48+Qnm5eqJVSU9Px7JlyzBp0iRMmzZNPOfo0aNi2Y8//ojnn38eGzduxIkTJ8QcAxSWV2eHEi5nXSMq9J0hGvLTSniejAM69+W4NRci0MdDuEYp808rhsow9aF1OAjgllQujcMFW1lZmbCWDRkyBG5uboiKikJERAROnTqlriH5448/cOONNyIwMBDe3t645pprsHPnTrGMRN5LL72E4cOHi8eMhK7e/zxViF9PyPi1aRe3F/cuA7WjorZUlAKvxx6iqYkIjP0RVeSuJbHm4yKdJxhBdXkPdosyDVOiJhxwD1HXxuGCraSkRAg1X99zXXXZ2bIivwat4+NT7dYKCgoSVjnCw4O/xHVBCQe/qta18f3biHuXQu8JB4n7xF1Z/8uBLv3EmHEdLOU9OI6NuQCW+DXOEHVp3KoU1LFDyMnJwbp163DfffepM8Dq1avRsWNHDBs2TJ0Btm/fDrPZjCuvvFI8pni177//HjNmzBCPiV27don7ms+rTVpamjqSFBYWirk+ffqoM85PXFwc4uPj0XrQlfj71nQcyynHVxO7Ynh718o8dC/IgUdRLioDQmAO0l8pk9DPX4PPsVicuuYBeA4Zo84yeuXw4cPo27ev+qjlmCqrcCSzFO5uQEwbtq5aCzqnlJaWCm+NUUg6W4ZiUyW6t/KBv4FEW3JysthPtQ02zkxmZiZiYmLUR9aBtlNkZKTzZIkOHTpUuEW//PJLIfA2b94sXKNM3Ziq3PD76RIh1gK93V1OrBFuakuqKi/9JRy4F+bA+8RhmL19Udy+lzrLuBJeilILUH6bVNxa60bCMLUhi0qZWdpVfDy4w4Er43ALW1FRET755BNhYfPzk1eZ69evR69evdCjRw/xWIP+1IKCAuECPX78uMgIveqqq9SljbOw1Yasa1lZWRgwYIA64/zs3bsXW3fvw1afwdiQcBbPXtkFL13XTV3qQqQnyzi2tp2Us6PORNue74EVc1HSYwiKJz2F8PBwdQGjV2JjYzFwoHVbhaUXlCEtvwwRAd7oGOpiGdw2gsJpKNSmQwdj9EumvrNHzhTB19MD/SKNdeGdmJgo9pN27jcCGRkZwhpmTXRjYfP39xc3MiMSlB168uRJkXhQG4pjCw4OFoLtl19+waBBg9QlTG1Sy72x42S+GD/iitmhlZVSrBF6zBBN/FPclUUbxxXPNB0u78FciOqEA45fc3Uc/g0gETZ27FhRX23NmjV45ZVXMHjwYISGhuLgwYNiXuPYsWN4/fXXxTo33HADWyUa4FCxP3JLKjCkfTAiA13QdawlHFDnAMoS1RMkJrWEg47Wi4linI8Abw/4eLiLeolaYDnD1MQi2LiHqMvjcJdoTajEB8WlkYizF0Z0ie78fS/uXH8ayWU++GhiP9x7kXGCbxtNQQ6Qm6mcEYOBVm3VSZ2QsBd4e7aovZZ6+1PCHcAXH/rHFi5R4kROKbKKy9EhxNc1L66sjNFcokezS5BbakK3cH+E+kqLrFFgl2jj0GXSAZXtsKdYMyq/ppuEWCNcUqwRJrVgrrcODwQJ0rqGHoPlPePSaPXYuK8oUxfcQ5TR4G+AAfn1tIzduqVPa3HvkmgtqcglqjfU+DX04BhMBgj29YSb8o/i2PTj72D0gMlcJVzlHm5uLNgYFmxG5Nkh/ngoMgOPXupinQ1qolnY9JZwQJmrKXFAeBRb2BiBp7ubsLJVKf+46wFTkxLVusbxawzBgs2gXBRQhFGdQtVHLka5ItbIVOGuHOT01gWDrWtMHWhdD1iwMTXhllRMTViwMcbDpGaI+uiwrpVFsLF1jakmWI1jKyhnwcZUU6oKNnaHMgR/CxjjodeEg8JcWc6DiviyYGNqQC4vKoxaVlFpsaowDPcQZWrC3wLGeFgSDnTW3YDEWlmJFGtBYeokw0i0bFF2izIaFsHGFjZGgb8FjPGwCDYvea8XOH6NaQBLeY8yFmyMjF+rqKyEjyLWKDGFYViwMcbCbFJu6glPbxmiHL/GNAC1qXJ3o/IeFajk+h4uj5YhGsAJB4wKCzbGWFCGKOGts4SDpFggKw2I7gm0d8FG/MwF8VDLexDsFmW0WEY/FmyMCgs2xlhogs1HZwkHbF1jGgGX92A0OH6NqQ1/ExhjYckQ1VvCAcevMRfGUt6jTLrDGNelTLWwUQwbwxD8TWCMRYWacKCn+LWMFCD5EBDSGug1VJ1kmPMh95efpwfKzZUoLmfR5qpUVMqWVBTTyCU9GA3+JjDGoUq5ItVjD1Eq50GQO1Q5ADNMQ3AcG0Pxa9SqjDoc8BGD0WDBxhgHLX7N00sRRjr6anP8GtMEgnxlHFs+u0VdlhKT1kOUT9FMNfxtYIxDudaSSkcJByWFUrBRX1OOX2MaAcWxebi5obC8AuZKLu/hilQnHHCGKFMNCzbGOGjuUD2V9CCxRqKNxFpYG3WSYeqH4pYC2S3q0nCGKFMX/G1gjEOF5hLVUfxaArtDmaZDRXQJFmyuCTd9Z+qCvw2McdBlwgELNqbpaIKtgDNFXQ6yrpmoJZWHO7w8OOWAqYYFG2MMSKwpBzm4K19pD3myczjJB4EzJ4F2XYGOvdRJhrkwVMqBMgRN5koUsWhzKbQOB/7eHL/GnAsLNsYYaAkH3jpKOLCU8+BkA6bpaOU9ctkt6lJoGaJ+XH+NqQV/IxhjoHU48NFZwgHB7lCmGWhtqqgZPOM6cMIBUx/8jWCMgSV+TSctqajROzV8Dwzl7gZMs6A4Nk93N+ESNXF5D5eBBRtTH25VCurYJUhLU06kNSgsLERWVhYiIiLUGeeHPk92djZ69OgBd4rpcgHci/KUL3MlKv2DUUU1zxyM1+lkeCf9gYqIaJT1ukSdPZ+CggJ4enrCz09nzeqZ88jMzLT7cSKvzCxO4MHeynfEiwPQG0NJSQkqKioQFBSkzjgPdDo+Uywtqm38vQzfGCUnJ0fsJzoGGoWioiIMGmTdMJjk5GRERkayYCPBRgQGBop7I0AHq9zcXLRu3VqdYfRKXl4evLy84O/vr84weiU9PR1RUVHqI0avFBcXw2QyISQkRJ1h9AoZF0JDQw0l2EhT9OzZU31kHVxWsNVGE3Dt2rUT90aADlgnTpxAnz591BlGr9B+CggIYHHtBOzduxdDhgxRHzF6hUQAWTk6deqkzjB65ciRI2I/GemClTSFtfWEJtjYSc4wDMMwDKNzWLAxDMMwDMPoHBZsDMMwDMMwOsflY9gYhmEYhmH0CsewMQzDMAzDOAks2BiGYRiGYXQOCzaGYRiGYRidw4KNYRiGYRhG53DSgcGgornr1q3D6dOncckll2D48OEu057K2aCfHhVZpH1GbcQYfVJeXo4dO3Zg3759aNu2LW666SbuTKFTUlNTsWnTJvGbuvLKK9GvXz+4Gb2/k5MTGxsrOlMMHco9l+uDkw4MCJ1YPvroI4wePRqzZs0SLaq2bNmiLmX0xP79+/Hss8/i66+/RlxcnDrL6A2z2YwVK1aIHqL0mxo2bBg+/PBD8Vtj9EVKSgrWr1+PyZMnY+bMmUhISMDu3bvVpYweOXPmDN555x0hSJgLw4LNQJw6dUqcWKjfIV1VUhsdOoiVlZWpazB6ga78//Of/+Daa6+Fh4fjm9UzdZOfny8soX379hW/qS5duohm1dT6iNEXR48exVVXXSWsn+RVGDBgAOLj49WljN6gi6GtW7fiuuuuU2eYC8GCzUBkZ2ef05OSDlrUXLykpESdYfQCizTnICwsDFOnTrW41TTLmo+Pj7hn9AO5QGuGFlBYSPv27dVHjN7YtWuXMC7QjWkcLNgMBF2x+Pn5qY8klZWVwkLAMEzL2blzpxAFHMOmTygWas2aNXjsscdw+PBhXH755eoSRk+QK5Ssn5deeqk6wzQGFmwMwzCNYM+ePSgoKMCIESPUGUZveHl5Yfz48fjvf/+LTp06Ydu2beoSRi+QYWHz5s0YO3YsexqaCAs2AxEYGCiuXGpCLlJ23zBMy0hMTBSJInSS4axDfXL8+HEUFhaKMYWDUJY8JfSQ1Y3RD0lJSUJIv/rqq8ISunDhQnz66ad4++23Od76ArBgMxAUr0Fp7VqcTWZmJjw9Pc9zkzIM03joImjjxo2444472CKgYygrlG4apaWl4oKVrG6MfujVqxeWLFmC+fPni9sjjzyCO++8E9OnT2fjwgXgOmwGg2JsqA4RZSEeOHBApLe3adNGXcroDbrapJPM9ddfr84weoKsM6+88oq4CKqZ0DNq1CiuG6UzqPbae++9B19fX7Rr104c/x5++GGEh4erazB6hJIPqJrBhAkT1BmmNlodNhZsBoQSDehEw1crDMO4GhQjRTUo+fjHGAUunGtgKH6DD1YMw7gi5Lbm4x9jRFiwMQzDMAzD6BwWbAzDMAzDMDqnRTFsFCtFVfQpG4eCcilugOYIcstRhqK3t7cIAqVMRZpjGIZhGIZhGkeLkg4ooJ167Gk1bxoL1QkLDg7mNGuGYRiGYZhGIAVbJP4fN6ZEkHentLwAAAAASUVORK5CYII=)"
      ],
      "metadata": {
        "id": "9aa61LV4n8iv"
      }
    },
    {
      "cell_type": "markdown",
      "source": [
        "![Screenshot 2022-11-21 200920.png](data:image/png;base64,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)"
      ],
      "metadata": {
        "id": "vlke-XqSoZNk"
      }
    },
    {
      "cell_type": "markdown",
      "metadata": {
        "id": "kcILeYZI9pxm"
      },
      "source": [
        "<Pre><font size=6>Part-6: Creating a Data pipeline for BERT Model</font> \n",
        "1. Pipeline is a way to codify and automate the workflow.\n",
        "2. Download the test.csv file from here <a href=\"https://drive.google.com/file/d/1QwjqTsqTX2vdy7fTmeXjxP3dq8IAVLpo/view?usp=sharing\">here</a> </pre>\n"
      ]
    },
    {
      "cell_type": "code",
      "metadata": {
        "id": "_74n3sgFjvlM",
        "colab": {
          "base_uri": "https://localhost:8080/"
        },
        "outputId": "b93ebdb2-3359-418a-d1ca-7086b8a42beb"
      },
      "source": [
        "#there is an alterante way to load files from Google drive directly to your Colab session\n",
        "# you can use gdown module to import the files as follows\n",
        "#for example for test.csv you can write your code as \n",
        "!gdown --id 1QwjqTsqTX2vdy7fTmeXjxP3dq8IAVLpo"
      ],
      "execution_count": null,
      "outputs": [
        {
          "output_type": "stream",
          "name": "stdout",
          "text": [
            "/usr/local/lib/python3.7/dist-packages/gdown/cli.py:131: FutureWarning: Option `--id` was deprecated in version 4.3.1 and will be removed in 5.0. You don't need to pass it anymore to use a file ID.\n",
            "  category=FutureWarning,\n",
            "Downloading...\n",
            "From: https://drive.google.com/uc?id=1QwjqTsqTX2vdy7fTmeXjxP3dq8IAVLpo\n",
            "To: /content/test.csv\n",
            "100% 62.1k/62.1k [00:00<00:00, 70.2MB/s]\n"
          ]
        }
      ]
    },
    {
      "cell_type": "code",
      "metadata": {
        "id": "lQcoHbUKjgvF"
      },
      "source": [
        "#read the csv file\n",
        "test_df= pd.read_csv('test.csv')"
      ],
      "execution_count": null,
      "outputs": []
    },
    {
      "cell_type": "code",
      "source": [
        "test_df.shape"
      ],
      "metadata": {
        "colab": {
          "base_uri": "https://localhost:8080/"
        },
        "id": "hx4Q2rdvL7Sp",
        "outputId": "4bce3b00-2214-4511-8238-a0ecdd5b5fa0"
      },
      "execution_count": null,
      "outputs": [
        {
          "output_type": "execute_result",
          "data": {
            "text/plain": [
              "(352, 1)"
            ]
          },
          "metadata": {},
          "execution_count": 73
        }
      ]
    },
    {
      "cell_type": "code",
      "source": [
        "test_df.head()"
      ],
      "metadata": {
        "colab": {
          "base_uri": "https://localhost:8080/",
          "height": 206
        },
        "id": "H_WgsBn9L_QN",
        "outputId": "08c32352-ee04-4e66-f18c-639b2289c881"
      },
      "execution_count": null,
      "outputs": [
        {
          "output_type": "execute_result",
          "data": {
            "text/plain": [
              "                                                Text\n",
              "0  Just opened Greenies Joint Care (individually ...\n",
              "1  This product rocks :) My mom was very happy w/...\n",
              "2  The product was fine, but the cost of shipping...\n",
              "3  I love this soup. It's great as part of a meal...\n",
              "4  Getting ready to order again. These are great ..."
            ],
            "text/html": [
              "\n",
              "  <div id=\"df-e72ecd85-5fb7-4677-a9e7-54526c90b556\">\n",
              "    <div class=\"colab-df-container\">\n",
              "      <div>\n",
              "<style scoped>\n",
              "    .dataframe tbody tr th:only-of-type {\n",
              "        vertical-align: middle;\n",
              "    }\n",
              "\n",
              "    .dataframe tbody tr th {\n",
              "        vertical-align: top;\n",
              "    }\n",
              "\n",
              "    .dataframe thead th {\n",
              "        text-align: right;\n",
              "    }\n",
              "</style>\n",
              "<table border=\"1\" class=\"dataframe\">\n",
              "  <thead>\n",
              "    <tr style=\"text-align: right;\">\n",
              "      <th></th>\n",
              "      <th>Text</th>\n",
              "    </tr>\n",
              "  </thead>\n",
              "  <tbody>\n",
              "    <tr>\n",
              "      <th>0</th>\n",
              "      <td>Just opened Greenies Joint Care (individually ...</td>\n",
              "    </tr>\n",
              "    <tr>\n",
              "      <th>1</th>\n",
              "      <td>This product rocks :) My mom was very happy w/...</td>\n",
              "    </tr>\n",
              "    <tr>\n",
              "      <th>2</th>\n",
              "      <td>The product was fine, but the cost of shipping...</td>\n",
              "    </tr>\n",
              "    <tr>\n",
              "      <th>3</th>\n",
              "      <td>I love this soup. It's great as part of a meal...</td>\n",
              "    </tr>\n",
              "    <tr>\n",
              "      <th>4</th>\n",
              "      <td>Getting ready to order again. These are great ...</td>\n",
              "    </tr>\n",
              "  </tbody>\n",
              "</table>\n",
              "</div>\n",
              "      <button class=\"colab-df-convert\" onclick=\"convertToInteractive('df-e72ecd85-5fb7-4677-a9e7-54526c90b556')\"\n",
              "              title=\"Convert this dataframe to an interactive table.\"\n",
              "              style=\"display:none;\">\n",
              "        \n",
              "  <svg xmlns=\"http://www.w3.org/2000/svg\" height=\"24px\"viewBox=\"0 0 24 24\"\n",
              "       width=\"24px\">\n",
              "    <path d=\"M0 0h24v24H0V0z\" fill=\"none\"/>\n",
              "    <path d=\"M18.56 5.44l.94 2.06.94-2.06 2.06-.94-2.06-.94-.94-2.06-.94 2.06-2.06.94zm-11 1L8.5 8.5l.94-2.06 2.06-.94-2.06-.94L8.5 2.5l-.94 2.06-2.06.94zm10 10l.94 2.06.94-2.06 2.06-.94-2.06-.94-.94-2.06-.94 2.06-2.06.94z\"/><path d=\"M17.41 7.96l-1.37-1.37c-.4-.4-.92-.59-1.43-.59-.52 0-1.04.2-1.43.59L10.3 9.45l-7.72 7.72c-.78.78-.78 2.05 0 2.83L4 21.41c.39.39.9.59 1.41.59.51 0 1.02-.2 1.41-.59l7.78-7.78 2.81-2.81c.8-.78.8-2.07 0-2.86zM5.41 20L4 18.59l7.72-7.72 1.47 1.35L5.41 20z\"/>\n",
              "  </svg>\n",
              "      </button>\n",
              "      \n",
              "  <style>\n",
              "    .colab-df-container {\n",
              "      display:flex;\n",
              "      flex-wrap:wrap;\n",
              "      gap: 12px;\n",
              "    }\n",
              "\n",
              "    .colab-df-convert {\n",
              "      background-color: #E8F0FE;\n",
              "      border: none;\n",
              "      border-radius: 50%;\n",
              "      cursor: pointer;\n",
              "      display: none;\n",
              "      fill: #1967D2;\n",
              "      height: 32px;\n",
              "      padding: 0 0 0 0;\n",
              "      width: 32px;\n",
              "    }\n",
              "\n",
              "    .colab-df-convert:hover {\n",
              "      background-color: #E2EBFA;\n",
              "      box-shadow: 0px 1px 2px rgba(60, 64, 67, 0.3), 0px 1px 3px 1px rgba(60, 64, 67, 0.15);\n",
              "      fill: #174EA6;\n",
              "    }\n",
              "\n",
              "    [theme=dark] .colab-df-convert {\n",
              "      background-color: #3B4455;\n",
              "      fill: #D2E3FC;\n",
              "    }\n",
              "\n",
              "    [theme=dark] .colab-df-convert:hover {\n",
              "      background-color: #434B5C;\n",
              "      box-shadow: 0px 1px 3px 1px rgba(0, 0, 0, 0.15);\n",
              "      filter: drop-shadow(0px 1px 2px rgba(0, 0, 0, 0.3));\n",
              "      fill: #FFFFFF;\n",
              "    }\n",
              "  </style>\n",
              "\n",
              "      <script>\n",
              "        const buttonEl =\n",
              "          document.querySelector('#df-e72ecd85-5fb7-4677-a9e7-54526c90b556 button.colab-df-convert');\n",
              "        buttonEl.style.display =\n",
              "          google.colab.kernel.accessAllowed ? 'block' : 'none';\n",
              "\n",
              "        async function convertToInteractive(key) {\n",
              "          const element = document.querySelector('#df-e72ecd85-5fb7-4677-a9e7-54526c90b556');\n",
              "          const dataTable =\n",
              "            await google.colab.kernel.invokeFunction('convertToInteractive',\n",
              "                                                     [key], {});\n",
              "          if (!dataTable) return;\n",
              "\n",
              "          const docLinkHtml = 'Like what you see? Visit the ' +\n",
              "            '<a target=\"_blank\" href=https://colab.research.google.com/notebooks/data_table.ipynb>data table notebook</a>'\n",
              "            + ' to learn more about interactive tables.';\n",
              "          element.innerHTML = '';\n",
              "          dataTable['output_type'] = 'display_data';\n",
              "          await google.colab.output.renderOutput(dataTable, element);\n",
              "          const docLink = document.createElement('div');\n",
              "          docLink.innerHTML = docLinkHtml;\n",
              "          element.appendChild(docLink);\n",
              "        }\n",
              "      </script>\n",
              "    </div>\n",
              "  </div>\n",
              "  "
            ]
          },
          "metadata": {},
          "execution_count": 74
        }
      ]
    },
    {
      "cell_type": "code",
      "source": [
        "test_df.info()"
      ],
      "metadata": {
        "colab": {
          "base_uri": "https://localhost:8080/"
        },
        "id": "AQIAYFFeMFi9",
        "outputId": "50dd3cf5-3385-4eb8-b897-e5218c950ab0"
      },
      "execution_count": null,
      "outputs": [
        {
          "output_type": "stream",
          "name": "stdout",
          "text": [
            "<class 'pandas.core.frame.DataFrame'>\n",
            "RangeIndex: 352 entries, 0 to 351\n",
            "Data columns (total 1 columns):\n",
            " #   Column  Non-Null Count  Dtype \n",
            "---  ------  --------------  ----- \n",
            " 0   Text    352 non-null    object\n",
            "dtypes: object(1)\n",
            "memory usage: 2.9+ KB\n"
          ]
        }
      ]
    },
    {
      "cell_type": "markdown",
      "source": [
        "\n",
        "\n",
        "[data pipeline](https://hevodata.com/learn/data-pipeline/)\n"
      ],
      "metadata": {
        "id": "q9mLX56rMwNJ"
      }
    },
    {
      "cell_type": "markdown",
      "metadata": {
        "id": "-zii6hgejdhQ"
      },
      "source": [
        "<Pre>1. You have to write a function that takes the test_df,trained model and the required parameters as input. \n",
        "2. Perform all the preproceesing steps inside the function.\n",
        "- Remove all the html tags\n",
        "- Now do tokenization [Part 3 as mentioned above]\n",
        "- Create tokens,mask array and segment array\n",
        "- Get Embeddings from BERT Model [Part 4 as mentioned above] , let it be X_test\n",
        "- Print the shape of output(X_test.shape).You should get (352,768)\n",
        "3. Predit the output of X_test with the neural network model which we trained earlier.\n",
        "\n",
        "4. Return the occurences of class labels from the function.\n",
        "The output should be the count of datapoints classified as 1 or 0.\n",
        "\n",
        "</pre>"
      ]
    },
    {
      "cell_type": "code",
      "metadata": {
        "id": "g9g6C_kgjcan"
      },
      "source": [
        "def data_pipeline(data,trained_model,params):\n",
        "  data.dropna(subset = [\"Text\"], inplace=True) \n",
        "\n",
        "  #Remove all the html tags\n",
        "  data['Text'] = data['Text'].str.replace(r'<[^<>]*>', '', regex=True)\n",
        "\n",
        "   #Now do tokenization\n",
        "  data_token,data_mask,data_segment = perform_tokenization(data,params)\n",
        "   \n",
        "  #Get Embeddings from BERT Model\n",
        "  X_test = trained_model.predict([data_token,data_mask,data_segment])\n",
        "  \n",
        "  print(\"shape of the output is =\",X_test.shape)\n",
        "  return X_test\n",
        "\n",
        "                                   "
      ],
      "execution_count": null,
      "outputs": []
    },
    {
      "cell_type": "code",
      "source": [
        "X_test = data_pipeline(data = test_df, trained_model=bert_model, params=tokenizer)"
      ],
      "metadata": {
        "colab": {
          "base_uri": "https://localhost:8080/",
          "height": 84,
          "referenced_widgets": [
            "0b5bfa5aa8854e47956dd741fde5dafd",
            "9594052862eb40c4a6ea430ae7fcc762",
            "800fbb1092814c37b5a854089100d8a9",
            "a9cc7495974e4b5090879a8ca1441f85",
            "fe4e3f05214043b988d52bac3ec4ada5",
            "269ed3febf0a4d2e97363a9acb45d6b4",
            "c546972d970141368a8e2add1f8d2636",
            "cf419960c5074bf4b63ef88af631eac3",
            "1b296dfd2b9f4be38c9de6052d44d350",
            "cde329ee827a416abec726cde7a37648",
            "ab43a6ce521d497cb924b297f2361624"
          ]
        },
        "id": "SDZEMtCYSB3Y",
        "outputId": "9a55eda2-991a-4160-b5d8-3b2f6bdfd5e0"
      },
      "execution_count": null,
      "outputs": [
        {
          "output_type": "display_data",
          "data": {
            "text/plain": [
              "  0%|          | 0/352 [00:00<?, ?it/s]"
            ],
            "application/vnd.jupyter.widget-view+json": {
              "version_major": 2,
              "version_minor": 0,
              "model_id": "0b5bfa5aa8854e47956dd741fde5dafd"
            }
          },
          "metadata": {}
        },
        {
          "output_type": "stream",
          "name": "stdout",
          "text": [
            "11/11 [==============================] - 1s 127ms/step\n",
            "shape of the output is = (352, 768)\n"
          ]
        }
      ]
    },
    {
      "cell_type": "code",
      "source": [
        "y_pred = model.predict(X_test)\n",
        "y_pred = y_pred.argmax(axis=-1)"
      ],
      "metadata": {
        "colab": {
          "base_uri": "https://localhost:8080/"
        },
        "id": "A56_dY6BSmeA",
        "outputId": "606d5cea-13a5-4bfd-cc15-41560a974b3e"
      },
      "execution_count": null,
      "outputs": [
        {
          "output_type": "stream",
          "name": "stdout",
          "text": [
            "11/11 [==============================] - 0s 2ms/step\n"
          ]
        }
      ]
    },
    {
      "cell_type": "code",
      "source": [
        "test_df['labels'] = y_pred"
      ],
      "metadata": {
        "id": "UuHfM04QS7en"
      },
      "execution_count": null,
      "outputs": []
    },
    {
      "cell_type": "code",
      "source": [
        "test_df"
      ],
      "metadata": {
        "colab": {
          "base_uri": "https://localhost:8080/",
          "height": 424
        },
        "id": "rNgIdwXaTmTf",
        "outputId": "319724d2-e73a-4658-99de-855ecd43dc16"
      },
      "execution_count": null,
      "outputs": [
        {
          "output_type": "execute_result",
          "data": {
            "text/plain": [
              "                                                  Text  labels\n",
              "0    Just opened Greenies Joint Care (individually ...       0\n",
              "1    This product rocks :) My mom was very happy w/...       1\n",
              "2    The product was fine, but the cost of shipping...       1\n",
              "3    I love this soup. It's great as part of a meal...       1\n",
              "4    Getting ready to order again. These are great ...       1\n",
              "..                                                 ...     ...\n",
              "347  Without a doubt this is by far the BEST beef g...       1\n",
              "348  My 8 month old loves these. He hardly swallows...       1\n",
              "349  the flavor palet for this coffee is deep and r...       1\n",
              "350  This is the best granola my family has ever ha...       1\n",
              "351  This tea and it's sister products from Numi gi...       1\n",
              "\n",
              "[352 rows x 2 columns]"
            ],
            "text/html": [
              "\n",
              "  <div id=\"df-1169aee0-0ea1-4a60-8d8e-a74fbc045895\">\n",
              "    <div class=\"colab-df-container\">\n",
              "      <div>\n",
              "<style scoped>\n",
              "    .dataframe tbody tr th:only-of-type {\n",
              "        vertical-align: middle;\n",
              "    }\n",
              "\n",
              "    .dataframe tbody tr th {\n",
              "        vertical-align: top;\n",
              "    }\n",
              "\n",
              "    .dataframe thead th {\n",
              "        text-align: right;\n",
              "    }\n",
              "</style>\n",
              "<table border=\"1\" class=\"dataframe\">\n",
              "  <thead>\n",
              "    <tr style=\"text-align: right;\">\n",
              "      <th></th>\n",
              "      <th>Text</th>\n",
              "      <th>labels</th>\n",
              "    </tr>\n",
              "  </thead>\n",
              "  <tbody>\n",
              "    <tr>\n",
              "      <th>0</th>\n",
              "      <td>Just opened Greenies Joint Care (individually ...</td>\n",
              "      <td>0</td>\n",
              "    </tr>\n",
              "    <tr>\n",
              "      <th>1</th>\n",
              "      <td>This product rocks :) My mom was very happy w/...</td>\n",
              "      <td>1</td>\n",
              "    </tr>\n",
              "    <tr>\n",
              "      <th>2</th>\n",
              "      <td>The product was fine, but the cost of shipping...</td>\n",
              "      <td>1</td>\n",
              "    </tr>\n",
              "    <tr>\n",
              "      <th>3</th>\n",
              "      <td>I love this soup. It's great as part of a meal...</td>\n",
              "      <td>1</td>\n",
              "    </tr>\n",
              "    <tr>\n",
              "      <th>4</th>\n",
              "      <td>Getting ready to order again. These are great ...</td>\n",
              "      <td>1</td>\n",
              "    </tr>\n",
              "    <tr>\n",
              "      <th>...</th>\n",
              "      <td>...</td>\n",
              "      <td>...</td>\n",
              "    </tr>\n",
              "    <tr>\n",
              "      <th>347</th>\n",
              "      <td>Without a doubt this is by far the BEST beef g...</td>\n",
              "      <td>1</td>\n",
              "    </tr>\n",
              "    <tr>\n",
              "      <th>348</th>\n",
              "      <td>My 8 month old loves these. He hardly swallows...</td>\n",
              "      <td>1</td>\n",
              "    </tr>\n",
              "    <tr>\n",
              "      <th>349</th>\n",
              "      <td>the flavor palet for this coffee is deep and r...</td>\n",
              "      <td>1</td>\n",
              "    </tr>\n",
              "    <tr>\n",
              "      <th>350</th>\n",
              "      <td>This is the best granola my family has ever ha...</td>\n",
              "      <td>1</td>\n",
              "    </tr>\n",
              "    <tr>\n",
              "      <th>351</th>\n",
              "      <td>This tea and it's sister products from Numi gi...</td>\n",
              "      <td>1</td>\n",
              "    </tr>\n",
              "  </tbody>\n",
              "</table>\n",
              "<p>352 rows × 2 columns</p>\n",
              "</div>\n",
              "      <button class=\"colab-df-convert\" onclick=\"convertToInteractive('df-1169aee0-0ea1-4a60-8d8e-a74fbc045895')\"\n",
              "              title=\"Convert this dataframe to an interactive table.\"\n",
              "              style=\"display:none;\">\n",
              "        \n",
              "  <svg xmlns=\"http://www.w3.org/2000/svg\" height=\"24px\"viewBox=\"0 0 24 24\"\n",
              "       width=\"24px\">\n",
              "    <path d=\"M0 0h24v24H0V0z\" fill=\"none\"/>\n",
              "    <path d=\"M18.56 5.44l.94 2.06.94-2.06 2.06-.94-2.06-.94-.94-2.06-.94 2.06-2.06.94zm-11 1L8.5 8.5l.94-2.06 2.06-.94-2.06-.94L8.5 2.5l-.94 2.06-2.06.94zm10 10l.94 2.06.94-2.06 2.06-.94-2.06-.94-.94-2.06-.94 2.06-2.06.94z\"/><path d=\"M17.41 7.96l-1.37-1.37c-.4-.4-.92-.59-1.43-.59-.52 0-1.04.2-1.43.59L10.3 9.45l-7.72 7.72c-.78.78-.78 2.05 0 2.83L4 21.41c.39.39.9.59 1.41.59.51 0 1.02-.2 1.41-.59l7.78-7.78 2.81-2.81c.8-.78.8-2.07 0-2.86zM5.41 20L4 18.59l7.72-7.72 1.47 1.35L5.41 20z\"/>\n",
              "  </svg>\n",
              "      </button>\n",
              "      \n",
              "  <style>\n",
              "    .colab-df-container {\n",
              "      display:flex;\n",
              "      flex-wrap:wrap;\n",
              "      gap: 12px;\n",
              "    }\n",
              "\n",
              "    .colab-df-convert {\n",
              "      background-color: #E8F0FE;\n",
              "      border: none;\n",
              "      border-radius: 50%;\n",
              "      cursor: pointer;\n",
              "      display: none;\n",
              "      fill: #1967D2;\n",
              "      height: 32px;\n",
              "      padding: 0 0 0 0;\n",
              "      width: 32px;\n",
              "    }\n",
              "\n",
              "    .colab-df-convert:hover {\n",
              "      background-color: #E2EBFA;\n",
              "      box-shadow: 0px 1px 2px rgba(60, 64, 67, 0.3), 0px 1px 3px 1px rgba(60, 64, 67, 0.15);\n",
              "      fill: #174EA6;\n",
              "    }\n",
              "\n",
              "    [theme=dark] .colab-df-convert {\n",
              "      background-color: #3B4455;\n",
              "      fill: #D2E3FC;\n",
              "    }\n",
              "\n",
              "    [theme=dark] .colab-df-convert:hover {\n",
              "      background-color: #434B5C;\n",
              "      box-shadow: 0px 1px 3px 1px rgba(0, 0, 0, 0.15);\n",
              "      filter: drop-shadow(0px 1px 2px rgba(0, 0, 0, 0.3));\n",
              "      fill: #FFFFFF;\n",
              "    }\n",
              "  </style>\n",
              "\n",
              "      <script>\n",
              "        const buttonEl =\n",
              "          document.querySelector('#df-1169aee0-0ea1-4a60-8d8e-a74fbc045895 button.colab-df-convert');\n",
              "        buttonEl.style.display =\n",
              "          google.colab.kernel.accessAllowed ? 'block' : 'none';\n",
              "\n",
              "        async function convertToInteractive(key) {\n",
              "          const element = document.querySelector('#df-1169aee0-0ea1-4a60-8d8e-a74fbc045895');\n",
              "          const dataTable =\n",
              "            await google.colab.kernel.invokeFunction('convertToInteractive',\n",
              "                                                     [key], {});\n",
              "          if (!dataTable) return;\n",
              "\n",
              "          const docLinkHtml = 'Like what you see? Visit the ' +\n",
              "            '<a target=\"_blank\" href=https://colab.research.google.com/notebooks/data_table.ipynb>data table notebook</a>'\n",
              "            + ' to learn more about interactive tables.';\n",
              "          element.innerHTML = '';\n",
              "          dataTable['output_type'] = 'display_data';\n",
              "          await google.colab.output.renderOutput(dataTable, element);\n",
              "          const docLink = document.createElement('div');\n",
              "          docLink.innerHTML = docLinkHtml;\n",
              "          element.appendChild(docLink);\n",
              "        }\n",
              "      </script>\n",
              "    </div>\n",
              "  </div>\n",
              "  "
            ]
          },
          "metadata": {},
          "execution_count": 80
        }
      ]
    },
    {
      "cell_type": "code",
      "source": [
        "test_df['labels'].value_counts()"
      ],
      "metadata": {
        "colab": {
          "base_uri": "https://localhost:8080/"
        },
        "id": "ARI2ZQzVUGWT",
        "outputId": "1944c3e1-acd1-46a7-e60f-9ea13e9feb4c"
      },
      "execution_count": null,
      "outputs": [
        {
          "output_type": "execute_result",
          "data": {
            "text/plain": [
              "1    324\n",
              "0     28\n",
              "Name: labels, dtype: int64"
            ]
          },
          "metadata": {},
          "execution_count": 81
        }
      ]
    },
    {
      "cell_type": "markdown",
      "source": [
        "## CHECKING SOME SMAPLES"
      ],
      "metadata": {
        "id": "a2doVPF0lNiO"
      }
    },
    {
      "cell_type": "code",
      "source": [
        "test_df['Text'][0]"
      ],
      "metadata": {
        "colab": {
          "base_uri": "https://localhost:8080/",
          "height": 53
        },
        "id": "YXTrCwPWlA8P",
        "outputId": "5324d4b6-51dc-4296-cbf1-53b0a1b230ad"
      },
      "execution_count": null,
      "outputs": [
        {
          "output_type": "execute_result",
          "data": {
            "text/plain": [
              "'Just opened Greenies Joint Care (individually sealed) in December 2011 and found small worm crawling all over it.  Next one looked fine, but really supposed to trust these now?'"
            ],
            "application/vnd.google.colaboratory.intrinsic+json": {
              "type": "string"
            }
          },
          "metadata": {},
          "execution_count": 82
        }
      ]
    },
    {
      "cell_type": "code",
      "source": [
        "test_df['labels'][0]"
      ],
      "metadata": {
        "colab": {
          "base_uri": "https://localhost:8080/"
        },
        "id": "7y9PfVgclI8J",
        "outputId": "85aeec6b-e74f-436b-8bc6-d8f9bb59f887"
      },
      "execution_count": null,
      "outputs": [
        {
          "output_type": "execute_result",
          "data": {
            "text/plain": [
              "0"
            ]
          },
          "metadata": {},
          "execution_count": 83
        }
      ]
    },
    {
      "cell_type": "code",
      "source": [
        "test_df['Text'][350]"
      ],
      "metadata": {
        "colab": {
          "base_uri": "https://localhost:8080/",
          "height": 70
        },
        "id": "EZKaeMM8lTpy",
        "outputId": "8b08d823-39fa-48a9-e43a-2bbbb2d27771"
      },
      "execution_count": null,
      "outputs": [
        {
          "output_type": "execute_result",
          "data": {
            "text/plain": [
              "\"This is the best granola my family has ever had.  We cannot imagine eating another brand.  Not always easy to find in the store, since it is so popular, it is usually sold out.  Men's Health listed it as a favorite food recently.  Great in yogurt or with milk.\""
            ],
            "application/vnd.google.colaboratory.intrinsic+json": {
              "type": "string"
            }
          },
          "metadata": {},
          "execution_count": 84
        }
      ]
    },
    {
      "cell_type": "code",
      "source": [
        "test_df['labels'][350]"
      ],
      "metadata": {
        "colab": {
          "base_uri": "https://localhost:8080/"
        },
        "id": "TYeCObDXlpeP",
        "outputId": "7e35c92c-2c29-4465-bd25-420e2d940e0e"
      },
      "execution_count": null,
      "outputs": [
        {
          "output_type": "execute_result",
          "data": {
            "text/plain": [
              "1"
            ]
          },
          "metadata": {},
          "execution_count": 85
        }
      ]
    },
    {
      "cell_type": "markdown",
      "metadata": {
        "id": "pZc7XTQOxcIO"
      },
      "source": [
        "## Please write your observations at the end of notebook and  explain each and every step you followed in solving this assignment."
      ]
    },
    {
      "cell_type": "markdown",
      "source": [
        "\n",
        "\n",
        "> The task which we performed is the sentiment analysis means predicting whether a review is positive or negative, here the prediction is done based on the scores \n",
        "\n",
        "> Text column which is unstructured data can be analyzed using TF-IDF, LSTMs or BERT.\n",
        "\n",
        "> Here we used BERT as our model\n",
        "\n",
        "> BERT model we considered is imported from TensorflowHub, which is a pre-trained model (we can also import BERT from hugging face [link](https://huggingface.co/)\n",
        "\n",
        "> BERT MODEL IS IMPLEMENTED AS :\n",
        "1. BERT considers three inputs: \n",
        "- Tokenized input(sentence-> words -> integers), tokenization is done from a pre-trained vocabulary dictionary.\n",
        "      - important thing during tokenization is adding [CLS] at starting of sentence and [SEP] at end , so that model can know when the sentence started and when it ends\n",
        "\n",
        "   - Masked input (our_data->1 and pad_data->0), masking helps model to differentiate between  real data with padded data.\n",
        "\n",
        "   - Segmented data (single sentence as input-> 0, more than one sentence: 1st sentence->0, 2nd sentence->1), since here we are considering only single sentence we are making all values to zero(0)\n",
        "   \n",
        "2. These three inputs are fed into the model and depending upon the problem we are solving the outputs are considered:\n",
        "        - CLASSIFICATION: POOLED OUTPUTS\n",
        "        - OTHER TASKS :SEQUENCE OUTPUTS\n",
        "\n",
        "Here our task is classification/sentiment analysis we considered pooled outputs\n",
        "\n",
        "3. The pooled ouputs are now fed into another neural network to generate the desired outputs.\n",
        "\n",
        "THE ABOVE TASK WE HAD DONE IS PRE-TRAINING \n",
        "\n",
        "4. Last step, we tested the model with the test data by data-piplining and the sentiment analysis of test data is genereted.\n",
        "\n",
        "        1 -->positive review\n",
        "        0 --> negative review\n"
      ],
      "metadata": {
        "id": "0Fa84hCtcHD_"
      }
    }
  ]
}